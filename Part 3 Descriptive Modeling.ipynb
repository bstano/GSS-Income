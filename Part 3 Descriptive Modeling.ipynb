{
 "cells": [
  {
   "cell_type": "markdown",
   "metadata": {},
   "source": [
    "# Exploring Income Factors\n",
    "\n",
    "I want to the most important income determinant factors for Income in Amercia, controlling for Age.\n",
    "\n",
    "This project is a large undertaking for a single computer, and as such will be split into 3 parts. In the first part, I will import and combine the data. The second part will pertain to my data cleaning and feature selection. Finally, I will perform descriptive modeling on the most important factors using linear mixed effect modeling."
   ]
  },
  {
   "cell_type": "code",
   "execution_count": 1,
   "metadata": {},
   "outputs": [],
   "source": [
    "import numpy as np\n",
    "import pandas as pd\n",
    "import scipy.stats as stats\n",
    "import matplotlib.pyplot as plt\n",
    "import seaborn as sns\n",
    "%matplotlib inline\n",
    "import savReaderWriter"
   ]
  },
  {
   "cell_type": "markdown",
   "metadata": {},
   "source": [
    "# Part 3: Descriptive Modeling\n",
    "\n",
    "Now that I have selected the 4 most important features, I want to perform descriptive modeling to better understand what interaction they have with income. \n",
    "\n",
    "\n",
    "As stated before, I will be using Linear Mixed Effect (LME) modeling to predict the relationship between income and education level, hours worked, weeks worked, and if the person works a part time job, controlling for age. This will allow to control for the the most important factors of income, without the noise that the age variable creates. Since people just starting their careers tend to have have similar income values to people in the twilight of their careers, reducing that noise will be valuable.\n",
    "\n",
    "The first thing I must do is import my data."
   ]
  },
  {
   "cell_type": "markdown",
   "metadata": {},
   "source": [
    "# Importing\n",
    "\n",
    "Get the data exported at the end of Part 2.  The 4 feature set as well as the Income, and the original data set with only pertinent features, to get age or any other features as desired."
   ]
  },
  {
   "cell_type": "code",
   "execution_count": 2,
   "metadata": {},
   "outputs": [
    {
     "name": "stdout",
     "output_type": "stream",
     "text": [
      "(8929, 5)\n"
     ]
    },
    {
     "data": {
      "text/html": [
       "<div>\n",
       "<style scoped>\n",
       "    .dataframe tbody tr th:only-of-type {\n",
       "        vertical-align: middle;\n",
       "    }\n",
       "\n",
       "    .dataframe tbody tr th {\n",
       "        vertical-align: top;\n",
       "    }\n",
       "\n",
       "    .dataframe thead th {\n",
       "        text-align: right;\n",
       "    }\n",
       "</style>\n",
       "<table border=\"1\" class=\"dataframe\">\n",
       "  <thead>\n",
       "    <tr style=\"text-align: right;\">\n",
       "      <th></th>\n",
       "      <th>HRS1</th>\n",
       "      <th>PARTFULL_2.0</th>\n",
       "      <th>EDUC</th>\n",
       "      <th>WEEKSWRK</th>\n",
       "      <th>Target</th>\n",
       "    </tr>\n",
       "  </thead>\n",
       "  <tbody>\n",
       "    <tr>\n",
       "      <th>0</th>\n",
       "      <td>42.0</td>\n",
       "      <td>0</td>\n",
       "      <td>12.0</td>\n",
       "      <td>52.0</td>\n",
       "      <td>160.436903</td>\n",
       "    </tr>\n",
       "    <tr>\n",
       "      <th>1</th>\n",
       "      <td>5.0</td>\n",
       "      <td>1</td>\n",
       "      <td>18.0</td>\n",
       "      <td>52.0</td>\n",
       "      <td>30.594117</td>\n",
       "    </tr>\n",
       "    <tr>\n",
       "      <th>2</th>\n",
       "      <td>0.0</td>\n",
       "      <td>0</td>\n",
       "      <td>10.0</td>\n",
       "      <td>52.0</td>\n",
       "      <td>105.427700</td>\n",
       "    </tr>\n",
       "    <tr>\n",
       "      <th>3</th>\n",
       "      <td>42.0</td>\n",
       "      <td>0</td>\n",
       "      <td>13.0</td>\n",
       "      <td>52.0</td>\n",
       "      <td>113.446022</td>\n",
       "    </tr>\n",
       "    <tr>\n",
       "      <th>4</th>\n",
       "      <td>40.0</td>\n",
       "      <td>0</td>\n",
       "      <td>18.0</td>\n",
       "      <td>52.0</td>\n",
       "      <td>132.476413</td>\n",
       "    </tr>\n",
       "  </tbody>\n",
       "</table>\n",
       "</div>"
      ],
      "text/plain": [
       "   HRS1  PARTFULL_2.0  EDUC  WEEKSWRK      Target\n",
       "0  42.0             0  12.0      52.0  160.436903\n",
       "1   5.0             1  18.0      52.0   30.594117\n",
       "2   0.0             0  10.0      52.0  105.427700\n",
       "3  42.0             0  13.0      52.0  113.446022\n",
       "4  40.0             0  18.0      52.0  132.476413"
      ]
     },
     "execution_count": 2,
     "metadata": {},
     "output_type": "execute_result"
    }
   ],
   "source": [
    "# get feature data set\n",
    "work_ft = pd.read_csv('C:\\\\Code\\\\SSP\\\\workft.csv')\n",
    "old_ind = work_ft['Unnamed: 0']\n",
    "work_ft = work_ft.drop('Unnamed: 0',1)\n",
    "print(work_ft.shape)\n",
    "work_ft.head()"
   ]
  },
  {
   "cell_type": "code",
   "execution_count": 3,
   "metadata": {},
   "outputs": [
    {
     "data": {
      "text/html": [
       "<div>\n",
       "<style scoped>\n",
       "    .dataframe tbody tr th:only-of-type {\n",
       "        vertical-align: middle;\n",
       "    }\n",
       "\n",
       "    .dataframe tbody tr th {\n",
       "        vertical-align: top;\n",
       "    }\n",
       "\n",
       "    .dataframe thead th {\n",
       "        text-align: right;\n",
       "    }\n",
       "</style>\n",
       "<table border=\"1\" class=\"dataframe\">\n",
       "  <thead>\n",
       "    <tr style=\"text-align: right;\">\n",
       "      <th></th>\n",
       "      <th>Hours</th>\n",
       "      <th>Part</th>\n",
       "      <th>Educ</th>\n",
       "      <th>Weeks</th>\n",
       "      <th>Target</th>\n",
       "    </tr>\n",
       "  </thead>\n",
       "  <tbody>\n",
       "    <tr>\n",
       "      <th>0</th>\n",
       "      <td>42.0</td>\n",
       "      <td>0</td>\n",
       "      <td>12.0</td>\n",
       "      <td>52.0</td>\n",
       "      <td>160.436903</td>\n",
       "    </tr>\n",
       "    <tr>\n",
       "      <th>1</th>\n",
       "      <td>5.0</td>\n",
       "      <td>1</td>\n",
       "      <td>18.0</td>\n",
       "      <td>52.0</td>\n",
       "      <td>30.594117</td>\n",
       "    </tr>\n",
       "    <tr>\n",
       "      <th>2</th>\n",
       "      <td>0.0</td>\n",
       "      <td>0</td>\n",
       "      <td>10.0</td>\n",
       "      <td>52.0</td>\n",
       "      <td>105.427700</td>\n",
       "    </tr>\n",
       "    <tr>\n",
       "      <th>3</th>\n",
       "      <td>42.0</td>\n",
       "      <td>0</td>\n",
       "      <td>13.0</td>\n",
       "      <td>52.0</td>\n",
       "      <td>113.446022</td>\n",
       "    </tr>\n",
       "    <tr>\n",
       "      <th>4</th>\n",
       "      <td>40.0</td>\n",
       "      <td>0</td>\n",
       "      <td>18.0</td>\n",
       "      <td>52.0</td>\n",
       "      <td>132.476413</td>\n",
       "    </tr>\n",
       "  </tbody>\n",
       "</table>\n",
       "</div>"
      ],
      "text/plain": [
       "   Hours  Part  Educ  Weeks      Target\n",
       "0   42.0     0  12.0   52.0  160.436903\n",
       "1    5.0     1  18.0   52.0   30.594117\n",
       "2    0.0     0  10.0   52.0  105.427700\n",
       "3   42.0     0  13.0   52.0  113.446022\n",
       "4   40.0     0  18.0   52.0  132.476413"
      ]
     },
     "execution_count": 3,
     "metadata": {},
     "output_type": "execute_result"
    }
   ],
   "source": [
    "work_ft.columns = ['Hours','Part','Educ','Weeks','Target']\n",
    "work_ft.head()"
   ]
  },
  {
   "cell_type": "code",
   "execution_count": 4,
   "metadata": {},
   "outputs": [
    {
     "name": "stdout",
     "output_type": "stream",
     "text": [
      "(8929, 416)\n"
     ]
    }
   ],
   "source": [
    "# get total feature set with only pertinent indexes\n",
    "work_all = pd.read_csv('C:\\\\Code\\\\SSP\\\\workall.csv')\n",
    "old_ind_all = work_all['Unnamed: 0']\n",
    "work_all = work_all.drop('Unnamed: 0',1)\n",
    "print(work_all.shape)"
   ]
  },
  {
   "cell_type": "code",
   "execution_count": 5,
   "metadata": {},
   "outputs": [],
   "source": [
    "# add age to feature index to allow it to be controlled for in the mixed effect model\n",
    "work_ft['Age'] = work_all['AGE']"
   ]
  },
  {
   "cell_type": "code",
   "execution_count": 6,
   "metadata": {},
   "outputs": [
    {
     "data": {
      "text/html": [
       "<div>\n",
       "<style scoped>\n",
       "    .dataframe tbody tr th:only-of-type {\n",
       "        vertical-align: middle;\n",
       "    }\n",
       "\n",
       "    .dataframe tbody tr th {\n",
       "        vertical-align: top;\n",
       "    }\n",
       "\n",
       "    .dataframe thead th {\n",
       "        text-align: right;\n",
       "    }\n",
       "</style>\n",
       "<table border=\"1\" class=\"dataframe\">\n",
       "  <thead>\n",
       "    <tr style=\"text-align: right;\">\n",
       "      <th></th>\n",
       "      <th>Hours</th>\n",
       "      <th>Part</th>\n",
       "      <th>Educ</th>\n",
       "      <th>Weeks</th>\n",
       "      <th>Target</th>\n",
       "      <th>Age</th>\n",
       "    </tr>\n",
       "  </thead>\n",
       "  <tbody>\n",
       "    <tr>\n",
       "      <th>0</th>\n",
       "      <td>42.0</td>\n",
       "      <td>0</td>\n",
       "      <td>12.0</td>\n",
       "      <td>52.0</td>\n",
       "      <td>160.436903</td>\n",
       "      <td>61.0</td>\n",
       "    </tr>\n",
       "    <tr>\n",
       "      <th>1</th>\n",
       "      <td>5.0</td>\n",
       "      <td>1</td>\n",
       "      <td>18.0</td>\n",
       "      <td>52.0</td>\n",
       "      <td>30.594117</td>\n",
       "      <td>55.0</td>\n",
       "    </tr>\n",
       "    <tr>\n",
       "      <th>2</th>\n",
       "      <td>0.0</td>\n",
       "      <td>0</td>\n",
       "      <td>10.0</td>\n",
       "      <td>52.0</td>\n",
       "      <td>105.427700</td>\n",
       "      <td>76.0</td>\n",
       "    </tr>\n",
       "    <tr>\n",
       "      <th>3</th>\n",
       "      <td>42.0</td>\n",
       "      <td>0</td>\n",
       "      <td>13.0</td>\n",
       "      <td>52.0</td>\n",
       "      <td>113.446022</td>\n",
       "      <td>33.0</td>\n",
       "    </tr>\n",
       "    <tr>\n",
       "      <th>4</th>\n",
       "      <td>40.0</td>\n",
       "      <td>0</td>\n",
       "      <td>18.0</td>\n",
       "      <td>52.0</td>\n",
       "      <td>132.476413</td>\n",
       "      <td>31.0</td>\n",
       "    </tr>\n",
       "  </tbody>\n",
       "</table>\n",
       "</div>"
      ],
      "text/plain": [
       "   Hours  Part  Educ  Weeks      Target   Age\n",
       "0   42.0     0  12.0   52.0  160.436903  61.0\n",
       "1    5.0     1  18.0   52.0   30.594117  55.0\n",
       "2    0.0     0  10.0   52.0  105.427700  76.0\n",
       "3   42.0     0  13.0   52.0  113.446022  33.0\n",
       "4   40.0     0  18.0   52.0  132.476413  31.0"
      ]
     },
     "execution_count": 6,
     "metadata": {},
     "output_type": "execute_result"
    }
   ],
   "source": [
    "work_ft.head()"
   ]
  },
  {
   "cell_type": "markdown",
   "metadata": {},
   "source": [
    "# Calculate ICC\n",
    "\n",
    "Before I begin Linear Mixed Effect modeling, I must make sure that my controlled group, respondant age, has a sufficient Interclass Correlation(ICC). This means that respondant's within the same group are more similar to each other than any other member of the data set at large. An ICC of 5% or higher is usually expected. \n",
    "\n",
    "Even though I only need to know that the ICC of age is significantly high, I will calculate the ICC of all my features."
   ]
  },
  {
   "cell_type": "code",
   "execution_count": 7,
   "metadata": {},
   "outputs": [],
   "source": [
    "import statsmodels.api as sm\n",
    "import statsmodels.formula.api as smf\n",
    "from statsmodels.regression.mixed_linear_model import MixedLMParams"
   ]
  },
  {
   "cell_type": "code",
   "execution_count": 8,
   "metadata": {},
   "outputs": [],
   "source": [
    "# Function to calculate the intraclass correlation\n",
    "def ICC(fittedmodel):\n",
    "    between_var= fittedmodel.cov_re.iloc[0,0]\n",
    "    resid=fittedmodel.scale\n",
    "    icc=between_var/(between_var+resid)\n",
    "    return icc"
   ]
  },
  {
   "cell_type": "code",
   "execution_count": 9,
   "metadata": {},
   "outputs": [
    {
     "name": "stdout",
     "output_type": "stream",
     "text": [
      "Hours ICC Model...\n",
      "\n",
      "          Mixed Linear Model Regression Results\n",
      "=========================================================\n",
      "Model:            MixedLM Dependent Variable: Target     \n",
      "No. Observations: 8929    Method:             REML       \n",
      "No. Groups:       86      Scale:              2246.9762  \n",
      "Min. group size:  1       Likelihood:         -47228.4777\n",
      "Max. group size:  2545    Converged:          Yes        \n",
      "Mean group size:  103.8                                  \n",
      "---------------------------------------------------------\n",
      "             Coef.  Std.Err.   z    P>|z|  [0.025  0.975]\n",
      "---------------------------------------------------------\n",
      "Intercept   116.797    3.464 33.715 0.000 110.007 123.587\n",
      "Group Var   862.160    3.328                             \n",
      "=========================================================\n",
      "\n",
      "done!\n",
      "The Intraclass Correlation is for Hours Group is: 0.2772989362025546\n",
      "\n",
      "\n",
      "Part ICC Model...\n",
      "\n",
      "          Mixed Linear Model Regression Results\n",
      "=========================================================\n",
      "Model:            MixedLM Dependent Variable: Target     \n",
      "No. Observations: 8929    Method:             REML       \n",
      "No. Groups:       2       Scale:              2359.1172  \n",
      "Min. group size:  1637    Likelihood:         -47344.2310\n",
      "Max. group size:  7292    Converged:          Yes        \n",
      "Mean group size:  4464.5                                 \n",
      "---------------------------------------------------------\n",
      "              Coef.   Std.Err.   z   P>|z| [0.025  0.975]\n",
      "---------------------------------------------------------\n",
      "Intercept     107.354   29.231 3.673 0.000 50.063 164.645\n",
      "Group Var    1707.989   49.763                           \n",
      "=========================================================\n",
      "\n",
      "done!\n",
      "The Intraclass Correlation is for Part Group is: 0.4199518847760652\n",
      "\n",
      "\n",
      "Educ ICC Model...\n",
      "\n",
      "          Mixed Linear Model Regression Results\n",
      "=========================================================\n",
      "Model:            MixedLM Dependent Variable: Target     \n",
      "No. Observations: 8929    Method:             REML       \n",
      "No. Groups:       21      Scale:              2482.2225  \n",
      "Min. group size:  1       Likelihood:         -47602.6190\n",
      "Max. group size:  2374    Converged:          Yes        \n",
      "Mean group size:  425.2                                  \n",
      "---------------------------------------------------------\n",
      "             Coef.  Std.Err.   z    P>|z|  [0.025  0.975]\n",
      "---------------------------------------------------------\n",
      "Intercept   116.098    6.306 18.412 0.000 103.739 128.457\n",
      "Group Var   735.750    5.149                             \n",
      "=========================================================\n",
      "\n",
      "done!\n",
      "The Intraclass Correlation is for Educ Group is: 0.22863786105784425\n",
      "\n",
      "\n",
      "Weeks ICC Model...\n",
      "\n",
      "          Mixed Linear Model Regression Results\n",
      "=========================================================\n",
      "Model:            MixedLM Dependent Variable: Target     \n",
      "No. Observations: 8929    Method:             REML       \n",
      "No. Groups:       53      Scale:              2390.3186  \n",
      "Min. group size:  2       Likelihood:         -47459.6230\n",
      "Max. group size:  5490    Converged:          Yes        \n",
      "Mean group size:  168.5                                  \n",
      "---------------------------------------------------------\n",
      "              Coef.  Std.Err.   z    P>|z| [0.025  0.975]\n",
      "---------------------------------------------------------\n",
      "Intercept     92.506    4.089 22.622 0.000 84.492 100.521\n",
      "Group Var    723.071    3.455                            \n",
      "=========================================================\n",
      "\n",
      "done!\n",
      "The Intraclass Correlation is for Weeks Group is: 0.2322456813819575\n",
      "\n",
      "\n",
      "Age ICC Model...\n",
      "\n",
      "          Mixed Linear Model Regression Results\n",
      "=========================================================\n",
      "Model:            MixedLM Dependent Variable: Target     \n",
      "No. Observations: 8929    Method:             REML       \n",
      "No. Groups:       72      Scale:              2434.4443  \n",
      "Min. group size:  1       Likelihood:         -47585.5014\n",
      "Max. group size:  270     Converged:          Yes        \n",
      "Mean group size:  124.0                                  \n",
      "---------------------------------------------------------\n",
      "             Coef.  Std.Err.   z    P>|z|  [0.025  0.975]\n",
      "---------------------------------------------------------\n",
      "Intercept   119.339    3.147 37.922 0.000 113.171 125.506\n",
      "Group Var   616.721    2.441                             \n",
      "=========================================================\n",
      "\n",
      "done!\n",
      "The Intraclass Correlation is for Age Group is: 0.20212638869024846\n",
      "\n",
      "\n"
     ]
    }
   ],
   "source": [
    "columns = list(work_ft.columns)\n",
    "columns.remove('Target')\n",
    "iccs = pd.DataFrame(index=columns)\n",
    "icc_list = []\n",
    "for feat in columns:\n",
    "    print('{} ICC Model...\\n'.format(feat))\n",
    "    model = smf.mixedlm(\"Target ~ 1\",data=work_ft,groups=work_ft[feat])\n",
    "    result = model.fit(method='nm',maxiter=200, full_output=True)\n",
    "    print(result.summary())\n",
    "    print(\"done!\")\n",
    "    print('The Intraclass Correlation is for {} Group is: {}\\n\\n'.format(feat,ICC(result)))\n",
    "    icc_list.append(ICC(result))\n",
    "\n",
    "iccs['ICC'] = icc_list"
   ]
  },
  {
   "cell_type": "code",
   "execution_count": 10,
   "metadata": {},
   "outputs": [
    {
     "data": {
      "text/html": [
       "<div>\n",
       "<style scoped>\n",
       "    .dataframe tbody tr th:only-of-type {\n",
       "        vertical-align: middle;\n",
       "    }\n",
       "\n",
       "    .dataframe tbody tr th {\n",
       "        vertical-align: top;\n",
       "    }\n",
       "\n",
       "    .dataframe thead th {\n",
       "        text-align: right;\n",
       "    }\n",
       "</style>\n",
       "<table border=\"1\" class=\"dataframe\">\n",
       "  <thead>\n",
       "    <tr style=\"text-align: right;\">\n",
       "      <th></th>\n",
       "      <th>ICC</th>\n",
       "    </tr>\n",
       "  </thead>\n",
       "  <tbody>\n",
       "    <tr>\n",
       "      <th>Hours</th>\n",
       "      <td>0.277299</td>\n",
       "    </tr>\n",
       "    <tr>\n",
       "      <th>Part</th>\n",
       "      <td>0.419952</td>\n",
       "    </tr>\n",
       "    <tr>\n",
       "      <th>Educ</th>\n",
       "      <td>0.228638</td>\n",
       "    </tr>\n",
       "    <tr>\n",
       "      <th>Weeks</th>\n",
       "      <td>0.232246</td>\n",
       "    </tr>\n",
       "    <tr>\n",
       "      <th>Age</th>\n",
       "      <td>0.202126</td>\n",
       "    </tr>\n",
       "  </tbody>\n",
       "</table>\n",
       "</div>"
      ],
      "text/plain": [
       "            ICC\n",
       "Hours  0.277299\n",
       "Part   0.419952\n",
       "Educ   0.228638\n",
       "Weeks  0.232246\n",
       "Age    0.202126"
      ]
     },
     "execution_count": 10,
     "metadata": {},
     "output_type": "execute_result"
    }
   ],
   "source": [
    "iccs"
   ]
  },
  {
   "cell_type": "markdown",
   "metadata": {},
   "source": [
    "So, when predicting income, people of the same age are more than 20% more similar to each other than any other member of the data set. This is certainly enough to warrent building a LME model this this data"
   ]
  },
  {
   "cell_type": "markdown",
   "metadata": {},
   "source": [
    "# Modeling with Mixed Effects\n",
    "\n",
    "Mixed Effect models are made up of both 'fixed' and 'random' effects. Fixed effects are the trends that the entire data set follows. Every parameter will have fixed effects. Random effect are the trends that only effect members of the same group, in this case people of the same age.\n",
    "\n",
    "Not every parameter will have random effects, and finding which parameter should have random effects and which should not is one of the most important and difficult parts of Mixed Effect modeling."
   ]
  },
  {
   "cell_type": "markdown",
   "metadata": {},
   "source": [
    "# Modeling with Mixed Effects\n",
    "\n",
    "Mixed Effect models are made up of both 'fixed' and 'random' effects. Fixed effects are the trends that the entire data set follows and every parameter will have fixed effects (the intercept may be fixed of random). Random effect are the trends that only effect members of the same group, in this case people of the same age; not every parameter will have random effects, and finding which parameter should have random effects and which should not is one of the most important parts of ME modelings.\n",
    "\n",
    "A LME can be thought of building 2 different layers of models, a standard linear regressive model that fits the trends of the overall parameters, and then a set of models describing how each of the groups are uniquely affected by each of the parameters. \n",
    "\n",
    "The top layer linear formula will look like this:\n",
    "\n",
    "$$\\sqrt{Income} = intercept + A*education + B*hours + C*weeks + D*ifPart$$\n",
    "\n",
    "What I need to decide is which oh each of these features will have random effects. The random effects are the components of the model that model the different way that people of different ages are affected by each component.\n",
    "\n",
    "With 5 different components that can have random effects of not (including the intercept), this leads to 31 different configurations of random effects that need to be tested. The best one will be kept and used as my final model: \n",
    "1. Random Intercept, Random Education, Hours, Weeks, and Part-Time slopes\n",
    "2. Random Intercept, Random Education, Hours, and Weeks Slope\n",
    "3. Random Intercept, Random Education, Hours, and Part-Time slopes\n",
    "4. Random Intercept, Random Education, Weeks, and Part-Time slopes\n",
    "5. Random Intercept, Random Hours, Weeks, and Part-Time slopes\n",
    "6. Random Intercept, Random Education and Hours slopes\n",
    "7. Random Intercept, Random Education and Weeks slopes\n",
    "8. Random Intercept, Random Education and Part-Time slopes\n",
    "9. Random Intercept, Random Hours and Weeks slopes\n",
    "10. Random Intercept, Random Hours and Part-Time slopes\n",
    "11. Random Intercept, Random Weeks and Part-Time slopes\n",
    "12. Random Intercept, Random Education\n",
    "13. Random Intercept, Random Hours\n",
    "14. Random Intercept, Random Weeks\n",
    "15. Random Intercept, Random Part-Time\n",
    "16. Random Intercept, Fixed slopes\n",
    "17. Fixed Intercept, Random Education, Hours, Weeks, and Part-Time slopes\n",
    "18. Fixed Intercept, Random Education, Hours, and Weeks Slope\n",
    "19. Fixed Intercept, Random Education, Hours, and Part-Time slopes\n",
    "20. Fixed Intercept, Random Education, Weeks, and Part-Time slopes\n",
    "21. Fixed Intercept, Random Hours, Weeks, and Part-Time slopes\n",
    "22. Fixed Intercept, Random Education and Hours slopes\n",
    "23. Fixed Intercept, Random Education and Weeks slopes\n",
    "24. Fixed Intercept, Random Education and Part-Time slopes\n",
    "25. Fixed Intercept, Random Hours and Weeks slopes\n",
    "26. Fixed Intercept, Random Hours and Part-Time slopes\n",
    "27. Fixed Intercept, Random Weeks and Part-Time slopes\n",
    "28. Fixed Intercept, Random Education\n",
    "29. Fixed Intercept, Random Hours\n",
    "30. Fixed Intercept, Random Weeks\n",
    "31. Fixed Intercept, Random Part-Time"
   ]
  },
  {
   "cell_type": "markdown",
   "metadata": {},
   "source": [
    "# Running Different Random Effect Configurations\n",
    "\n",
    "There are a lot of configurations to test.  The only way know which one is better is run the model with that random effect configuartion, then compare them with a likelihood test. Now to run them."
   ]
  },
  {
   "cell_type": "markdown",
   "metadata": {},
   "source": [
    "## 1. Random Intercept, Randam All Slopes\n",
    "\n",
    "This model configuration did not converge, I will comment it out."
   ]
  },
  {
   "cell_type": "code",
   "execution_count": 11,
   "metadata": {},
   "outputs": [],
   "source": [
    "#print('Running...')\n",
    "#rirehwt_model = smf.mixedlm(\"Target ~  Educ + Hours + Weeks + Part\",\n",
    "#                          data=work_ft,groups=work_ft['Age'], \n",
    "#                          re_formula=\"~ Educ + Hours + Weeks + Part\")\n",
    "#rirehwt_result = rirehwt_model.fit(method='nm', maxiter=200, full_output=True)\n",
    "#print(rirehwt_result.summary())\n",
    "#print(\"done!\")"
   ]
  },
  {
   "cell_type": "markdown",
   "metadata": {},
   "source": [
    "## 2. Random Intercept, Random Education, Hours, and Weeks\n",
    "\n",
    "This model configuration did not converge, I will comment it out."
   ]
  },
  {
   "cell_type": "code",
   "execution_count": 12,
   "metadata": {},
   "outputs": [],
   "source": [
    "#print('Running...')\n",
    "#rirehw_model = smf.mixedlm(\"Target ~  Educ + Hours + Weeks + Part\",\n",
    "#                          data=work_ft,groups=work_ft['Age'], \n",
    "#                          re_formula=\"~ Educ + Hours + Weeks\")\n",
    "#rirehw_result = rirehw_model.fit(method='nm', maxiter=200, full_output=True)\n",
    "#print(rirehw_result.summary())\n",
    "#print(\"done!\")"
   ]
  },
  {
   "cell_type": "markdown",
   "metadata": {},
   "source": [
    "## 3. Random Intercept, Random Education, Hours, and Part-Time\n",
    "\n",
    "This model configuration did not converge, I will comment it out."
   ]
  },
  {
   "cell_type": "code",
   "execution_count": 13,
   "metadata": {},
   "outputs": [],
   "source": [
    "#print('Running...')\n",
    "#rireht_model = smf.mixedlm(\"Target ~  Educ + Hours + Weeks + Part\",\n",
    "#                          data=work_ft,groups=work_ft['Age'], \n",
    "#                          re_formula=\"~ Educ + Hours + Part\")\n",
    "#rireht_result = rireht_model.fit(method='nm', maxiter=200, full_output=True)\n",
    "#print(rireht_result.summary())\n",
    "#print(\"done!\")"
   ]
  },
  {
   "cell_type": "markdown",
   "metadata": {},
   "source": [
    "## 4. Random Intercept, Random Education, Weeks, and Part-Time\n",
    "\n",
    "This model configuration did not converge, I will comment it out."
   ]
  },
  {
   "cell_type": "code",
   "execution_count": 14,
   "metadata": {},
   "outputs": [],
   "source": [
    "#print('Running...')\n",
    "#rirewt_model = smf.mixedlm(\"Target ~  Educ + Hours + Weeks + Part\",\n",
    "#                          data=work_ft,groups=work_ft['Age'], \n",
    "#                          re_formula=\"~ Educ + Weeks + Part\")\n",
    "#rirewt_result = rirewt_model.fit(method='nm', maxiter=200, full_output=True)\n",
    "#print(rirewt_result.summary())\n",
    "#print(\"done!\")"
   ]
  },
  {
   "cell_type": "markdown",
   "metadata": {},
   "source": [
    "## 5. Random Intercept, Random Hours, Weeks, and Part-Time\n",
    "\n",
    "This model configuration did not converge, I will comment it out."
   ]
  },
  {
   "cell_type": "code",
   "execution_count": 15,
   "metadata": {},
   "outputs": [],
   "source": [
    "#print('Running...')\n",
    "#rirhwt_model = smf.mixedlm(\"Target ~  Educ + Hours + Weeks + Part\",\n",
    "#                          data=work_ft,groups=work_ft['Age'], \n",
    "#                          re_formula=\"~ Hours + Weeks + Part\")\n",
    "#rirhwt_result = rirhwt_model.fit(method='nm', maxiter=200, full_output=True)\n",
    "#print(rirhwt_result.summary())\n",
    "#print(\"done!\")"
   ]
  },
  {
   "cell_type": "markdown",
   "metadata": {},
   "source": [
    "## 6. Random Intercept, Random Education and Hours\n",
    "\n",
    "This model configuration did not converge, I will comment it out."
   ]
  },
  {
   "cell_type": "code",
   "execution_count": 16,
   "metadata": {},
   "outputs": [],
   "source": [
    "#print('Running...')\n",
    "#rireh_model = smf.mixedlm(\"Target ~  Educ + Hours + Weeks + Part\",\n",
    "#                          data=work_ft,groups=work_ft['Age'], \n",
    "#                          re_formula=\"~ Educ + Hours\")\n",
    "#rireh_result = rireh_model.fit(method='nm', maxiter=200, full_output=True)\n",
    "#print(rireh_result.summary())\n",
    "#print(\"done!\")"
   ]
  },
  {
   "cell_type": "markdown",
   "metadata": {},
   "source": [
    "## 7. Random Intercept, Random Education and Weeks"
   ]
  },
  {
   "cell_type": "code",
   "execution_count": 17,
   "metadata": {},
   "outputs": [
    {
     "name": "stdout",
     "output_type": "stream",
     "text": [
      "Running...\n"
     ]
    },
    {
     "name": "stderr",
     "output_type": "stream",
     "text": [
      "c:\\users\\ben stano\\appdata\\local\\programs\\python\\python36-32\\lib\\site-packages\\statsmodels\\base\\model.py:508: ConvergenceWarning: Maximum Likelihood optimization failed to converge. Check mle_retvals\n",
      "  \"Check mle_retvals\", ConvergenceWarning)\n",
      "c:\\users\\ben stano\\appdata\\local\\programs\\python\\python36-32\\lib\\site-packages\\statsmodels\\base\\model.py:508: ConvergenceWarning: Maximum Likelihood optimization failed to converge. Check mle_retvals\n",
      "  \"Check mle_retvals\", ConvergenceWarning)\n",
      "c:\\users\\ben stano\\appdata\\local\\programs\\python\\python36-32\\lib\\site-packages\\statsmodels\\base\\model.py:508: ConvergenceWarning: Maximum Likelihood optimization failed to converge. Check mle_retvals\n",
      "  \"Check mle_retvals\", ConvergenceWarning)\n",
      "c:\\users\\ben stano\\appdata\\local\\programs\\python\\python36-32\\lib\\site-packages\\statsmodels\\regression\\mixed_linear_model.py:2045: ConvergenceWarning: The MLE may be on the boundary of the parameter space.\n",
      "  warnings.warn(msg, ConvergenceWarning)\n"
     ]
    },
    {
     "name": "stdout",
     "output_type": "stream",
     "text": [
      "             Mixed Linear Model Regression Results\n",
      "================================================================\n",
      "Model:               MixedLM   Dependent Variable:   Target     \n",
      "No. Observations:    8929      Method:               REML       \n",
      "No. Groups:          72        Scale:                1640.4244  \n",
      "Min. group size:     1         Likelihood:           -45803.3671\n",
      "Max. group size:     270       Converged:            Yes        \n",
      "Mean group size:     124.0                                      \n",
      "----------------------------------------------------------------\n",
      "                   Coef.  Std.Err.    z    P>|z|  [0.025  0.975]\n",
      "----------------------------------------------------------------\n",
      "Intercept          14.696    2.596   5.660 0.000   9.608  19.785\n",
      "Educ                5.144    0.206  24.910 0.000   4.739   5.548\n",
      "Hours               0.544    0.025  21.631 0.000   0.495   0.594\n",
      "Weeks               0.633    0.031  20.740 0.000   0.573   0.693\n",
      "Part              -38.064    1.238 -30.750 0.000 -40.490 -35.638\n",
      "Group Var           6.533    1.712                              \n",
      "Group x Educ Cov   -1.219    0.114                              \n",
      "Educ Var            0.985    0.012                              \n",
      "Group x Weeks Cov   0.115    0.017                              \n",
      "Educ x Weeks Cov   -0.008    0.001                              \n",
      "Weeks Var           0.002    0.000                              \n",
      "================================================================\n",
      "\n",
      "done!\n"
     ]
    }
   ],
   "source": [
    "print('Running...')\n",
    "rirew_model = smf.mixedlm(\"Target ~  Educ + Hours + Weeks + Part\",\n",
    "                          data=work_ft,groups=work_ft['Age'], \n",
    "                          re_formula=\"~ Educ + Weeks\")\n",
    "rirew_result = rirew_model.fit(method='nm', maxiter=200, full_output=True)\n",
    "print(rirew_result.summary())\n",
    "print(\"done!\")"
   ]
  },
  {
   "cell_type": "markdown",
   "metadata": {},
   "source": [
    "## 8. Random Intercept, Random Education and Part-Time"
   ]
  },
  {
   "cell_type": "code",
   "execution_count": 18,
   "metadata": {},
   "outputs": [
    {
     "name": "stdout",
     "output_type": "stream",
     "text": [
      "Running...\n"
     ]
    },
    {
     "name": "stderr",
     "output_type": "stream",
     "text": [
      "c:\\users\\ben stano\\appdata\\local\\programs\\python\\python36-32\\lib\\site-packages\\statsmodels\\base\\model.py:508: ConvergenceWarning: Maximum Likelihood optimization failed to converge. Check mle_retvals\n",
      "  \"Check mle_retvals\", ConvergenceWarning)\n",
      "c:\\users\\ben stano\\appdata\\local\\programs\\python\\python36-32\\lib\\site-packages\\statsmodels\\base\\model.py:508: ConvergenceWarning: Maximum Likelihood optimization failed to converge. Check mle_retvals\n",
      "  \"Check mle_retvals\", ConvergenceWarning)\n",
      "c:\\users\\ben stano\\appdata\\local\\programs\\python\\python36-32\\lib\\site-packages\\statsmodels\\base\\model.py:508: ConvergenceWarning: Maximum Likelihood optimization failed to converge. Check mle_retvals\n",
      "  \"Check mle_retvals\", ConvergenceWarning)\n",
      "c:\\users\\ben stano\\appdata\\local\\programs\\python\\python36-32\\lib\\site-packages\\statsmodels\\base\\model.py:508: ConvergenceWarning: Maximum Likelihood optimization failed to converge. Check mle_retvals\n",
      "  \"Check mle_retvals\", ConvergenceWarning)\n"
     ]
    },
    {
     "name": "stdout",
     "output_type": "stream",
     "text": [
      "             Mixed Linear Model Regression Results\n",
      "===============================================================\n",
      "Model:              MixedLM   Dependent Variable:   Target     \n",
      "No. Observations:   8929      Method:               REML       \n",
      "No. Groups:         72        Scale:                1626.4969  \n",
      "Min. group size:    1         Likelihood:           -45772.9253\n",
      "Max. group size:    270       Converged:            Yes        \n",
      "Mean group size:    124.0                                      \n",
      "---------------------------------------------------------------\n",
      "                  Coef.  Std.Err.    z    P>|z|  [0.025  0.975]\n",
      "---------------------------------------------------------------\n",
      "Intercept         16.118    2.685   6.004 0.000  10.856  21.380\n",
      "Educ               5.068    0.222  22.866 0.000   4.634   5.503\n",
      "Hours              0.540    0.025  21.529 0.000   0.490   0.589\n",
      "Weeks              0.624    0.030  21.122 0.000   0.566   0.682\n",
      "Part             -40.326    1.712 -23.557 0.000 -43.681 -36.971\n",
      "Group Var         31.100    1.626                              \n",
      "Group x Educ Cov  -0.960    0.125                              \n",
      "Educ Var           1.362    0.016                              \n",
      "Group x Part Cov -19.057    0.865                              \n",
      "Educ x Part Cov   -8.690    0.086                              \n",
      "Part Var          76.297    0.752                              \n",
      "===============================================================\n",
      "\n",
      "done!\n"
     ]
    }
   ],
   "source": [
    "print('Running...')\n",
    "riret_model = smf.mixedlm(\"Target ~  Educ + Hours + Weeks + Part\",\n",
    "                          data=work_ft,groups=work_ft['Age'], \n",
    "                          re_formula=\"~ Educ + Part\")\n",
    "riret_result = riret_model.fit(method='nm', maxiter=200, full_output=True)\n",
    "print(riret_result.summary())\n",
    "print(\"done!\")"
   ]
  },
  {
   "cell_type": "markdown",
   "metadata": {},
   "source": [
    "## 9. Random Intercept, Random Hours and Weeks"
   ]
  },
  {
   "cell_type": "code",
   "execution_count": 19,
   "metadata": {},
   "outputs": [
    {
     "name": "stdout",
     "output_type": "stream",
     "text": [
      "Running...\n",
      "             Mixed Linear Model Regression Results\n",
      "================================================================\n",
      "Model:               MixedLM   Dependent Variable:   Target     \n",
      "No. Observations:    8929      Method:               REML       \n",
      "No. Groups:          72        Scale:                1644.0798  \n",
      "Min. group size:     1         Likelihood:           -45860.1354\n",
      "Max. group size:     270       Converged:            Yes        \n",
      "Mean group size:     124.0                                      \n",
      "----------------------------------------------------------------\n",
      "                   Coef.  Std.Err.    z    P>|z|  [0.025  0.975]\n",
      "----------------------------------------------------------------\n",
      "Intercept          12.372    2.769   4.468 0.000   6.944  17.800\n",
      "Educ                5.243    0.157  33.294 0.000   4.934   5.552\n",
      "Hours               0.522    0.076   6.826 0.000   0.372   0.671\n",
      "Weeks               0.646    0.035  18.645 0.000   0.578   0.714\n",
      "Part              -38.778    1.231 -31.497 0.000 -41.191 -36.365\n",
      "Group Var          66.476                                       \n",
      "Group x Hours Cov  -3.580                                       \n",
      "Hours Var           0.308                                       \n",
      "Group x Weeks Cov  -0.343                                       \n",
      "Hours x Weeks Cov   0.046                                       \n",
      "Weeks Var           0.020                                       \n",
      "================================================================\n",
      "\n",
      "done!\n"
     ]
    }
   ],
   "source": [
    "print('Running...')\n",
    "rirhw_model = smf.mixedlm(\"Target ~  Educ + Hours + Weeks + Part\",\n",
    "                          data=work_ft,groups=work_ft['Age'], \n",
    "                          re_formula=\"~ Hours + Weeks\")\n",
    "rirhw_result = rirhw_model.fit(method='nm', maxiter=200, full_output=True)\n",
    "print(rirhw_result.summary())\n",
    "print(\"done!\")"
   ]
  },
  {
   "cell_type": "markdown",
   "metadata": {},
   "source": [
    "## 10. Random Intercept, Random Hours and Part-Time"
   ]
  },
  {
   "cell_type": "code",
   "execution_count": 20,
   "metadata": {},
   "outputs": [
    {
     "name": "stdout",
     "output_type": "stream",
     "text": [
      "Running...\n"
     ]
    },
    {
     "name": "stderr",
     "output_type": "stream",
     "text": [
      "c:\\users\\ben stano\\appdata\\local\\programs\\python\\python36-32\\lib\\site-packages\\statsmodels\\base\\model.py:508: ConvergenceWarning: Maximum Likelihood optimization failed to converge. Check mle_retvals\n",
      "  \"Check mle_retvals\", ConvergenceWarning)\n",
      "c:\\users\\ben stano\\appdata\\local\\programs\\python\\python36-32\\lib\\site-packages\\statsmodels\\base\\model.py:508: ConvergenceWarning: Maximum Likelihood optimization failed to converge. Check mle_retvals\n",
      "  \"Check mle_retvals\", ConvergenceWarning)\n",
      "c:\\users\\ben stano\\appdata\\local\\programs\\python\\python36-32\\lib\\site-packages\\statsmodels\\base\\model.py:508: ConvergenceWarning: Maximum Likelihood optimization failed to converge. Check mle_retvals\n",
      "  \"Check mle_retvals\", ConvergenceWarning)\n",
      "c:\\users\\ben stano\\appdata\\local\\programs\\python\\python36-32\\lib\\site-packages\\statsmodels\\regression\\mixed_linear_model.py:2045: ConvergenceWarning: The MLE may be on the boundary of the parameter space.\n",
      "  warnings.warn(msg, ConvergenceWarning)\n"
     ]
    },
    {
     "name": "stdout",
     "output_type": "stream",
     "text": [
      "              Mixed Linear Model Regression Results\n",
      "=================================================================\n",
      "Model:                MixedLM   Dependent Variable:   Target     \n",
      "No. Observations:     8929      Method:               REML       \n",
      "No. Groups:           72        Scale:                1634.3576  \n",
      "Min. group size:      1         Likelihood:           -45786.2690\n",
      "Max. group size:      270       Converged:            Yes        \n",
      "Mean group size:      124.0                                      \n",
      "-----------------------------------------------------------------\n",
      "                   Coef.   Std.Err.    z    P>|z|  [0.025  0.975]\n",
      "-----------------------------------------------------------------\n",
      "Intercept           14.705    3.145   4.676 0.000   8.541  20.870\n",
      "Educ                 5.202    0.157  33.179 0.000   4.894   5.509\n",
      "Hours                0.542    0.026  21.151 0.000   0.492   0.592\n",
      "Weeks                0.624    0.030  21.116 0.000   0.566   0.682\n",
      "Part               -40.692    1.653 -24.615 0.000 -43.932 -37.452\n",
      "Group Var          212.109    1.352                              \n",
      "Group x Hours Cov    0.347    0.013                              \n",
      "Hours Var            0.001    0.000                              \n",
      "Group x Part Cov  -115.306    0.872                              \n",
      "Hours x Part Cov    -0.189    0.009                              \n",
      "Part Var            62.683    0.709                              \n",
      "=================================================================\n",
      "\n",
      "done!\n"
     ]
    }
   ],
   "source": [
    "print('Running...')\n",
    "rirht_model = smf.mixedlm(\"Target ~  Educ + Hours + Weeks + Part\",\n",
    "                          data=work_ft,groups=work_ft['Age'], \n",
    "                          re_formula=\"~ Hours + Part\")\n",
    "rirht_result = rirht_model.fit(method='nm', maxiter=200, full_output=True)\n",
    "print(rirht_result.summary())\n",
    "print(\"done!\")"
   ]
  },
  {
   "cell_type": "markdown",
   "metadata": {},
   "source": [
    "## 11. Random Intercept, Random Weeks and Part-Time\n",
    "\n",
    "This model configuration did not converge, I will comment it out."
   ]
  },
  {
   "cell_type": "code",
   "execution_count": 21,
   "metadata": {},
   "outputs": [],
   "source": [
    "#print('Running...')\n",
    "#rirwt_model = smf.mixedlm(\"Target ~  Educ + Hours + Weeks + Part\",\n",
    "#                          data=work_ft,groups=work_ft['Age'], \n",
    "#                          re_formula=\"~ Weeks + Part\")\n",
    "#rirwt_result = rirwt_model.fit(method='nm', maxiter=200, full_output=True)\n",
    "#print(rirwt_result.summary())\n",
    "#print(\"done!\")"
   ]
  },
  {
   "cell_type": "markdown",
   "metadata": {},
   "source": [
    "## 12. Random Intercept, Random Education"
   ]
  },
  {
   "cell_type": "code",
   "execution_count": 22,
   "metadata": {},
   "outputs": [
    {
     "name": "stdout",
     "output_type": "stream",
     "text": [
      "Running...\n",
      "             Mixed Linear Model Regression Results\n",
      "===============================================================\n",
      "Model:              MixedLM   Dependent Variable:   Target     \n",
      "No. Observations:   8929      Method:               REML       \n",
      "No. Groups:         72        Scale:                1641.3996  \n",
      "Min. group size:    1         Likelihood:           -45803.5624\n",
      "Max. group size:    270       Converged:            Yes        \n",
      "Mean group size:    124.0                                      \n",
      "---------------------------------------------------------------\n",
      "                  Coef.  Std.Err.    z    P>|z|  [0.025  0.975]\n",
      "---------------------------------------------------------------\n",
      "Intercept         14.773    2.588   5.708 0.000   9.700  19.845\n",
      "Educ               5.141    0.204  25.206 0.000   4.741   5.540\n",
      "Hours              0.545    0.025  21.651 0.000   0.495   0.594\n",
      "Weeks              0.632    0.030  21.379 0.000   0.574   0.690\n",
      "Part             -38.066    1.236 -30.803 0.000 -40.488 -35.644\n",
      "Group Var          6.508    1.217                              \n",
      "Group x Educ Cov  -0.809    0.099                              \n",
      "Educ Var           0.945    0.011                              \n",
      "===============================================================\n",
      "\n",
      "done!\n"
     ]
    }
   ],
   "source": [
    "print('Running...')\n",
    "rire_model = smf.mixedlm(\"Target ~  Educ + Hours + Weeks + Part\",\n",
    "                          data=work_ft,groups=work_ft['Age'], \n",
    "                          re_formula=\"~ Educ\")\n",
    "rire_result = rire_model.fit(method='nm', maxiter=200, full_output=True)\n",
    "print(rire_result.summary())\n",
    "print(\"done!\")"
   ]
  },
  {
   "cell_type": "markdown",
   "metadata": {},
   "source": [
    "## 13. Random Intercept, Random Hours"
   ]
  },
  {
   "cell_type": "code",
   "execution_count": 23,
   "metadata": {},
   "outputs": [
    {
     "name": "stdout",
     "output_type": "stream",
     "text": [
      "Running...\n",
      "             Mixed Linear Model Regression Results\n",
      "================================================================\n",
      "Model:               MixedLM   Dependent Variable:   Target     \n",
      "No. Observations:    8929      Method:               REML       \n",
      "No. Groups:          72        Scale:                1644.5189  \n",
      "Min. group size:     1         Likelihood:           -45809.6070\n",
      "Max. group size:     270       Converged:            Yes        \n",
      "Mean group size:     124.0                                      \n",
      "----------------------------------------------------------------\n",
      "                   Coef.  Std.Err.    z    P>|z|  [0.025  0.975]\n",
      "----------------------------------------------------------------\n",
      "Intercept          13.475    2.839   4.746 0.000   7.910  19.040\n",
      "Educ                5.237    0.157  33.323 0.000   4.929   5.545\n",
      "Hours               0.552    0.028  19.983 0.000   0.498   0.606\n",
      "Weeks               0.630    0.030  21.307 0.000   0.572   0.688\n",
      "Part              -38.436    1.233 -31.176 0.000 -40.852 -36.019\n",
      "Group Var         101.241    0.728                              \n",
      "Group x Hours Cov   0.786    0.010                              \n",
      "Hours Var           0.006    0.000                              \n",
      "================================================================\n",
      "\n",
      "done!\n"
     ]
    },
    {
     "name": "stderr",
     "output_type": "stream",
     "text": [
      "c:\\users\\ben stano\\appdata\\local\\programs\\python\\python36-32\\lib\\site-packages\\statsmodels\\regression\\mixed_linear_model.py:2045: ConvergenceWarning: The MLE may be on the boundary of the parameter space.\n",
      "  warnings.warn(msg, ConvergenceWarning)\n"
     ]
    }
   ],
   "source": [
    "print('Running...')\n",
    "rirh_model = smf.mixedlm(\"Target ~  Educ + Hours + Weeks + Part\",\n",
    "                          data=work_ft,groups=work_ft['Age'], \n",
    "                          re_formula=\"~ Hours\")\n",
    "rirh_result = rirh_model.fit(method='nm', maxiter=200, full_output=True)\n",
    "print(rirh_result.summary())\n",
    "print(\"done!\")"
   ]
  },
  {
   "cell_type": "markdown",
   "metadata": {},
   "source": [
    "## 14. Random Intercept, Random Weeks\n",
    "\n",
    "This model configuration did not converge, I will comment it out."
   ]
  },
  {
   "cell_type": "code",
   "execution_count": 24,
   "metadata": {},
   "outputs": [],
   "source": [
    "#print('Running...')\n",
    "#rirw_model = smf.mixedlm(\"Target ~  Educ + Hours + Weeks + Part\",\n",
    "#                          data=work_ft,groups=work_ft['Age'], \n",
    "#                          re_formula=\"~ Weeks\")\n",
    "#rirw_result = rirw_model.fit(method='nm', maxiter=200, full_output=True)\n",
    "#print(rirw_result.summary())\n",
    "#print(\"done!\")"
   ]
  },
  {
   "cell_type": "markdown",
   "metadata": {},
   "source": [
    "## 15. Random Intercept, Random Part-Time"
   ]
  },
  {
   "cell_type": "code",
   "execution_count": 25,
   "metadata": {
    "scrolled": true
   },
   "outputs": [
    {
     "name": "stdout",
     "output_type": "stream",
     "text": [
      "Running...\n",
      "             Mixed Linear Model Regression Results\n",
      "================================================================\n",
      "Model:               MixedLM   Dependent Variable:   Target     \n",
      "No. Observations:    8929      Method:               REML       \n",
      "No. Groups:          72        Scale:                1634.6402  \n",
      "Min. group size:     1         Likelihood:           -45786.6997\n",
      "Max. group size:     270       Converged:            Yes        \n",
      "Mean group size:     124.0                                      \n",
      "----------------------------------------------------------------\n",
      "                  Coef.   Std.Err.    z    P>|z|  [0.025  0.975]\n",
      "----------------------------------------------------------------\n",
      "Intercept          14.846    3.199   4.640 0.000   8.575  21.116\n",
      "Educ                5.204    0.157  33.200 0.000   4.897   5.511\n",
      "Hours               0.540    0.025  21.496 0.000   0.491   0.589\n",
      "Weeks               0.625    0.030  21.128 0.000   0.567   0.683\n",
      "Part              -40.812    1.676 -24.353 0.000 -44.096 -37.527\n",
      "Group Var         235.317    1.235                              \n",
      "Group x Part Cov -126.582    0.811                              \n",
      "Part Var           68.091    0.699                              \n",
      "================================================================\n",
      "\n",
      "done!\n"
     ]
    }
   ],
   "source": [
    "print('Running...')\n",
    "rirt_model = smf.mixedlm(\"Target ~  Educ + Hours + Weeks + Part\",\n",
    "                          data=work_ft,groups=work_ft['Age'], \n",
    "                          re_formula=\"~ Part\")\n",
    "rirt_result = rirt_model.fit(method='nm', maxiter=200, full_output=True)\n",
    "print(rirt_result.summary())\n",
    "print(\"done!\")"
   ]
  },
  {
   "cell_type": "markdown",
   "metadata": {},
   "source": [
    "## 16. Random Intercept, Fixed Slopes"
   ]
  },
  {
   "cell_type": "code",
   "execution_count": 26,
   "metadata": {},
   "outputs": [
    {
     "name": "stdout",
     "output_type": "stream",
     "text": [
      "Running\n",
      "          Mixed Linear Model Regression Results\n",
      "=========================================================\n",
      "Model:            MixedLM Dependent Variable: Target     \n",
      "No. Observations: 8929    Method:             REML       \n",
      "No. Groups:       72      Scale:              1647.1261  \n",
      "Min. group size:  1       Likelihood:         -45814.9579\n",
      "Max. group size:  270     Converged:          Yes        \n",
      "Mean group size:  124.0                                  \n",
      "---------------------------------------------------------\n",
      "            Coef.  Std.Err.    z    P>|z|  [0.025  0.975]\n",
      "---------------------------------------------------------\n",
      "Intercept   13.749    2.974   4.623 0.000   7.920  19.578\n",
      "Educ         5.251    0.157  33.417 0.000   4.943   5.559\n",
      "Hours        0.545    0.025  21.617 0.000   0.495   0.594\n",
      "Weeks        0.632    0.030  21.356 0.000   0.574   0.690\n",
      "Part       -38.438    1.235 -31.128 0.000 -40.859 -36.018\n",
      "Group Var  151.248    0.762                              \n",
      "=========================================================\n",
      "\n",
      "done!\n"
     ]
    }
   ],
   "source": [
    "print('Running')\n",
    "ri_model = smf.mixedlm(\"Target ~ Educ + Hours + Weeks + Part\",\n",
    "                          data=work_ft,groups=work_ft['Age'])\n",
    "ri_result = ri_model.fit(method='nm', maxiter=200, full_output=True)\n",
    "print(ri_result.summary())\n",
    "print(\"done!\")"
   ]
  },
  {
   "cell_type": "markdown",
   "metadata": {},
   "source": [
    "## 17. Fixed Intercept, Randam All Slopes\n",
    "\n",
    "This model configuration did not converge, I will comment it out."
   ]
  },
  {
   "cell_type": "code",
   "execution_count": 27,
   "metadata": {},
   "outputs": [],
   "source": [
    "#print('Running...')\n",
    "#firehwt_model = smf.mixedlm(\"Target ~  Educ + Hours + Weeks + Part\",\n",
    "#                          data=work_ft,groups=work_ft['Age'], \n",
    "#                          re_formula=\"~0 + Educ + Hours + Weeks + Part\")\n",
    "#firehwt_result = firehwt_model.fit(method='nm', maxiter=200, full_output=True)\n",
    "#print(firehwt_result.summary())\n",
    "#print(\"done!\")"
   ]
  },
  {
   "cell_type": "markdown",
   "metadata": {},
   "source": [
    "## 18. Fixed Intercept, Random Education, Hours, and Weeks"
   ]
  },
  {
   "cell_type": "code",
   "execution_count": 28,
   "metadata": {},
   "outputs": [
    {
     "name": "stdout",
     "output_type": "stream",
     "text": [
      "Running...\n"
     ]
    },
    {
     "name": "stderr",
     "output_type": "stream",
     "text": [
      "c:\\users\\ben stano\\appdata\\local\\programs\\python\\python36-32\\lib\\site-packages\\statsmodels\\base\\model.py:508: ConvergenceWarning: Maximum Likelihood optimization failed to converge. Check mle_retvals\n",
      "  \"Check mle_retvals\", ConvergenceWarning)\n",
      "c:\\users\\ben stano\\appdata\\local\\programs\\python\\python36-32\\lib\\site-packages\\statsmodels\\base\\model.py:508: ConvergenceWarning: Maximum Likelihood optimization failed to converge. Check mle_retvals\n",
      "  \"Check mle_retvals\", ConvergenceWarning)\n",
      "c:\\users\\ben stano\\appdata\\local\\programs\\python\\python36-32\\lib\\site-packages\\statsmodels\\regression\\mixed_linear_model.py:2045: ConvergenceWarning: The MLE may be on the boundary of the parameter space.\n",
      "  warnings.warn(msg, ConvergenceWarning)\n"
     ]
    },
    {
     "name": "stdout",
     "output_type": "stream",
     "text": [
      "             Mixed Linear Model Regression Results\n",
      "================================================================\n",
      "Model:               MixedLM   Dependent Variable:   Target     \n",
      "No. Observations:    8929      Method:               REML       \n",
      "No. Groups:          72        Scale:                1638.1082  \n",
      "Min. group size:     1         Likelihood:           -45798.4042\n",
      "Max. group size:     270       Converged:            Yes        \n",
      "Mean group size:     124.0                                      \n",
      "----------------------------------------------------------------\n",
      "                   Coef.  Std.Err.    z    P>|z|  [0.025  0.975]\n",
      "----------------------------------------------------------------\n",
      "Intercept          14.622    2.558   5.715 0.000   9.608  19.636\n",
      "Educ                5.137    0.193  26.592 0.000   4.759   5.516\n",
      "Hours               0.551    0.028  19.966 0.000   0.497   0.605\n",
      "Weeks               0.628    0.032  19.865 0.000   0.566   0.690\n",
      "Part              -38.141    1.233 -30.923 0.000 -40.559 -35.724\n",
      "Educ Var            0.729    0.005                              \n",
      "Educ x Hours Cov    0.067    0.001                              \n",
      "Hours Var           0.006    0.000                              \n",
      "Educ x Weeks Cov   -0.030    0.001                              \n",
      "Hours x Weeks Cov  -0.003    0.000                              \n",
      "Weeks Var           0.006    0.000                              \n",
      "================================================================\n",
      "\n",
      "done!\n"
     ]
    }
   ],
   "source": [
    "print('Running...')\n",
    "firehw_model = smf.mixedlm(\"Target ~ Educ + Hours + Weeks + Part\",\n",
    "                          data=work_ft,groups=work_ft['Age'], \n",
    "                          re_formula=\"~ 0 + Educ + Hours + Weeks\")\n",
    "firehw_result = firehw_model.fit(method='nm', maxiter=200, full_output=True)\n",
    "print(firehw_result.summary())\n",
    "print(\"done!\")"
   ]
  },
  {
   "cell_type": "markdown",
   "metadata": {},
   "source": [
    "## 19. Fixed Intercept, Random Education, Hours, and Part-Time"
   ]
  },
  {
   "cell_type": "code",
   "execution_count": 29,
   "metadata": {},
   "outputs": [
    {
     "name": "stdout",
     "output_type": "stream",
     "text": [
      "Running...\n"
     ]
    },
    {
     "name": "stderr",
     "output_type": "stream",
     "text": [
      "c:\\users\\ben stano\\appdata\\local\\programs\\python\\python36-32\\lib\\site-packages\\statsmodels\\base\\model.py:508: ConvergenceWarning: Maximum Likelihood optimization failed to converge. Check mle_retvals\n",
      "  \"Check mle_retvals\", ConvergenceWarning)\n",
      "c:\\users\\ben stano\\appdata\\local\\programs\\python\\python36-32\\lib\\site-packages\\statsmodels\\base\\model.py:508: ConvergenceWarning: Maximum Likelihood optimization failed to converge. Check mle_retvals\n",
      "  \"Check mle_retvals\", ConvergenceWarning)\n",
      "c:\\users\\ben stano\\appdata\\local\\programs\\python\\python36-32\\lib\\site-packages\\statsmodels\\base\\model.py:508: ConvergenceWarning: Maximum Likelihood optimization failed to converge. Check mle_retvals\n",
      "  \"Check mle_retvals\", ConvergenceWarning)\n",
      "c:\\users\\ben stano\\appdata\\local\\programs\\python\\python36-32\\lib\\site-packages\\statsmodels\\regression\\mixed_linear_model.py:2045: ConvergenceWarning: The MLE may be on the boundary of the parameter space.\n",
      "  warnings.warn(msg, ConvergenceWarning)\n"
     ]
    },
    {
     "name": "stdout",
     "output_type": "stream",
     "text": [
      "             Mixed Linear Model Regression Results\n",
      "===============================================================\n",
      "Model:              MixedLM   Dependent Variable:   Target     \n",
      "No. Observations:   8929      Method:               REML       \n",
      "No. Groups:         72        Scale:                1627.8123  \n",
      "Min. group size:    1         Likelihood:           -45772.9860\n",
      "Max. group size:    270       Converged:            Yes        \n",
      "Mean group size:    124.0                                      \n",
      "---------------------------------------------------------------\n",
      "                  Coef.  Std.Err.    z    P>|z|  [0.025  0.975]\n",
      "---------------------------------------------------------------\n",
      "Intercept         16.112    2.551   6.316 0.000  11.112  21.111\n",
      "Educ               5.059    0.215  23.506 0.000   4.637   5.480\n",
      "Hours              0.541    0.025  21.291 0.000   0.491   0.591\n",
      "Weeks              0.623    0.030  21.120 0.000   0.566   0.681\n",
      "Part             -40.220    1.665 -24.156 0.000 -43.483 -36.957\n",
      "Educ Var           1.280    0.008                              \n",
      "Educ x Hours Cov   0.022    0.001                              \n",
      "Hours Var          0.000    0.000                              \n",
      "Educ x Part Cov   -9.274    0.066                              \n",
      "Hours x Part Cov  -0.161    0.008                              \n",
      "Part Var          67.206    0.713                              \n",
      "===============================================================\n",
      "\n",
      "done!\n"
     ]
    }
   ],
   "source": [
    "print('Running...')\n",
    "fireht_model = smf.mixedlm(\"Target ~  Educ + Hours + Weeks + Part\",\n",
    "                          data=work_ft,groups=work_ft['Age'], \n",
    "                          re_formula=\"~ 0 + Educ + Hours + Part\")\n",
    "fireht_result = fireht_model.fit(method='nm', maxiter=200, full_output=True)\n",
    "print(fireht_result.summary())\n",
    "print(\"done!\")"
   ]
  },
  {
   "cell_type": "markdown",
   "metadata": {},
   "source": [
    "## 20. Fixed Intercept, Random Education, Weeks, and Part-Time"
   ]
  },
  {
   "cell_type": "code",
   "execution_count": 30,
   "metadata": {},
   "outputs": [
    {
     "name": "stdout",
     "output_type": "stream",
     "text": [
      "Running...\n"
     ]
    },
    {
     "name": "stderr",
     "output_type": "stream",
     "text": [
      "c:\\users\\ben stano\\appdata\\local\\programs\\python\\python36-32\\lib\\site-packages\\statsmodels\\base\\model.py:508: ConvergenceWarning: Maximum Likelihood optimization failed to converge. Check mle_retvals\n",
      "  \"Check mle_retvals\", ConvergenceWarning)\n",
      "c:\\users\\ben stano\\appdata\\local\\programs\\python\\python36-32\\lib\\site-packages\\statsmodels\\base\\model.py:508: ConvergenceWarning: Maximum Likelihood optimization failed to converge. Check mle_retvals\n",
      "  \"Check mle_retvals\", ConvergenceWarning)\n"
     ]
    },
    {
     "name": "stdout",
     "output_type": "stream",
     "text": [
      "             Mixed Linear Model Regression Results\n",
      "===============================================================\n",
      "Model:              MixedLM   Dependent Variable:   Target     \n",
      "No. Observations:   8929      Method:               REML       \n",
      "No. Groups:         72        Scale:                1627.1178  \n",
      "Min. group size:    1         Likelihood:           -45773.1179\n",
      "Max. group size:    270       Converged:            Yes        \n",
      "Mean group size:    124.0                                      \n",
      "---------------------------------------------------------------\n",
      "                  Coef.  Std.Err.    z    P>|z|  [0.025  0.975]\n",
      "---------------------------------------------------------------\n",
      "Intercept         16.134    2.556   6.313 0.000  11.125  21.143\n",
      "Educ               5.060    0.218  23.233 0.000   4.633   5.487\n",
      "Hours              0.539    0.025  21.512 0.000   0.490   0.588\n",
      "Weeks              0.625    0.030  20.493 0.000   0.565   0.685\n",
      "Part             -40.282    1.690 -23.831 0.000 -43.595 -36.969\n",
      "Educ Var           1.346    0.008                              \n",
      "Educ x Weeks Cov   0.004    0.001                              \n",
      "Weeks Var          0.003    0.000                              \n",
      "Educ x Part Cov   -9.886    0.066                              \n",
      "Weeks x Part Cov  -0.032    0.008                              \n",
      "Part Var          72.617    0.709                              \n",
      "===============================================================\n",
      "\n",
      "done!\n"
     ]
    },
    {
     "name": "stderr",
     "output_type": "stream",
     "text": [
      "c:\\users\\ben stano\\appdata\\local\\programs\\python\\python36-32\\lib\\site-packages\\statsmodels\\regression\\mixed_linear_model.py:2045: ConvergenceWarning: The MLE may be on the boundary of the parameter space.\n",
      "  warnings.warn(msg, ConvergenceWarning)\n"
     ]
    }
   ],
   "source": [
    "print('Running...')\n",
    "firewt_model = smf.mixedlm(\"Target ~  Educ + Hours + Weeks + Part\",\n",
    "                          data=work_ft,groups=work_ft['Age'], \n",
    "                          re_formula=\"~ 0 + Educ + Weeks + Part\")\n",
    "firewt_result = firewt_model.fit(method='nm', maxiter=200, full_output=True)\n",
    "print(firewt_result.summary())\n",
    "print(\"done!\")"
   ]
  },
  {
   "cell_type": "markdown",
   "metadata": {},
   "source": [
    "## 21. Fixed Intercept, Random Hours, Weeks, and Part-Time"
   ]
  },
  {
   "cell_type": "code",
   "execution_count": 31,
   "metadata": {},
   "outputs": [
    {
     "name": "stdout",
     "output_type": "stream",
     "text": [
      "Running...\n"
     ]
    },
    {
     "name": "stderr",
     "output_type": "stream",
     "text": [
      "c:\\users\\ben stano\\appdata\\local\\programs\\python\\python36-32\\lib\\site-packages\\statsmodels\\base\\model.py:508: ConvergenceWarning: Maximum Likelihood optimization failed to converge. Check mle_retvals\n",
      "  \"Check mle_retvals\", ConvergenceWarning)\n",
      "c:\\users\\ben stano\\appdata\\local\\programs\\python\\python36-32\\lib\\site-packages\\statsmodels\\base\\model.py:508: ConvergenceWarning: Maximum Likelihood optimization failed to converge. Check mle_retvals\n",
      "  \"Check mle_retvals\", ConvergenceWarning)\n",
      "c:\\users\\ben stano\\appdata\\local\\programs\\python\\python36-32\\lib\\site-packages\\statsmodels\\base\\model.py:508: ConvergenceWarning: Maximum Likelihood optimization failed to converge. Check mle_retvals\n",
      "  \"Check mle_retvals\", ConvergenceWarning)\n"
     ]
    },
    {
     "name": "stdout",
     "output_type": "stream",
     "text": [
      "             Mixed Linear Model Regression Results\n",
      "================================================================\n",
      "Model:               MixedLM   Dependent Variable:   Target     \n",
      "No. Observations:    8929      Method:               REML       \n",
      "No. Groups:          72        Scale:                1652.3699  \n",
      "Min. group size:     1         Likelihood:           -45834.6110\n",
      "Max. group size:     270       Converged:            Yes        \n",
      "Mean group size:     124.0                                      \n",
      "----------------------------------------------------------------\n",
      "                   Coef.  Std.Err.    z    P>|z|  [0.025  0.975]\n",
      "----------------------------------------------------------------\n",
      "Intercept          11.303    2.532   4.465 0.000   6.341  16.265\n",
      "Educ                5.248    0.158  33.303 0.000   4.940   5.557\n",
      "Hours               0.553    0.031  17.619 0.000   0.492   0.615\n",
      "Weeks               0.654    0.041  16.023 0.000   0.574   0.734\n",
      "Part              -39.741    1.362 -29.179 0.000 -42.410 -37.071\n",
      "Hours Var           0.018    0.000                              \n",
      "Hours x Weeks Cov   0.025    0.000                              \n",
      "Weeks Var           0.045    0.000                              \n",
      "Hours x Part Cov   -0.454    0.007                              \n",
      "Weeks x Part Cov   -0.726    0.010                              \n",
      "Part Var           12.313    0.469                              \n",
      "================================================================\n",
      "\n",
      "done!\n"
     ]
    }
   ],
   "source": [
    "print('Running...')\n",
    "firhwt_model = smf.mixedlm(\"Target ~  Educ + Hours + Weeks + Part\",\n",
    "                          data=work_ft,groups=work_ft['Age'], \n",
    "                          re_formula=\"~ 0 + Hours + Weeks + Part\")\n",
    "firhwt_result = firhwt_model.fit(method='nm', maxiter=200, full_output=True)\n",
    "print(firhwt_result.summary())\n",
    "print(\"done!\")"
   ]
  },
  {
   "cell_type": "markdown",
   "metadata": {},
   "source": [
    "## 22. Fixed Intercept, Random Education and Hours"
   ]
  },
  {
   "cell_type": "code",
   "execution_count": 32,
   "metadata": {},
   "outputs": [
    {
     "name": "stdout",
     "output_type": "stream",
     "text": [
      "Running...\n",
      "             Mixed Linear Model Regression Results\n",
      "===============================================================\n",
      "Model:              MixedLM   Dependent Variable:   Target     \n",
      "No. Observations:   8929      Method:               REML       \n",
      "No. Groups:         72        Scale:                1633.5478  \n",
      "Min. group size:    1         Likelihood:           -45823.1265\n",
      "Max. group size:    270       Converged:            Yes        \n",
      "Mean group size:    124.0                                      \n",
      "---------------------------------------------------------------\n",
      "                  Coef.  Std.Err.    z    P>|z|  [0.025  0.975]\n",
      "---------------------------------------------------------------\n",
      "Intercept         14.146    2.553   5.540 0.000   9.142  19.150\n",
      "Educ               5.191    0.225  23.100 0.000   4.751   5.632\n",
      "Hours              0.534    0.053  10.101 0.000   0.430   0.637\n",
      "Weeks              0.632    0.030  21.354 0.000   0.574   0.690\n",
      "Part             -38.384    1.237 -31.038 0.000 -40.808 -35.960\n",
      "Educ Var           1.552                                       \n",
      "Educ x Hours Cov  -0.316                                       \n",
      "Hours Var          0.121                                       \n",
      "===============================================================\n",
      "\n",
      "done!\n"
     ]
    }
   ],
   "source": [
    "print('Running...')\n",
    "fireh_model = smf.mixedlm(\"Target ~  Educ + Hours + Weeks + Part\",\n",
    "                          data=work_ft,groups=work_ft['Age'], \n",
    "                          re_formula=\"~ 0 + Educ + Hours\")\n",
    "fireh_result = fireh_model.fit(method='nm', maxiter=200, full_output=True)\n",
    "print(fireh_result.summary())\n",
    "print(\"done!\")"
   ]
  },
  {
   "cell_type": "markdown",
   "metadata": {},
   "source": [
    "## 23. Fixed Intercept, Random Education and Weeks"
   ]
  },
  {
   "cell_type": "code",
   "execution_count": 33,
   "metadata": {},
   "outputs": [
    {
     "name": "stdout",
     "output_type": "stream",
     "text": [
      "Running...\n",
      "             Mixed Linear Model Regression Results\n",
      "===============================================================\n",
      "Model:              MixedLM   Dependent Variable:   Target     \n",
      "No. Observations:   8929      Method:               REML       \n",
      "No. Groups:         72        Scale:                1640.9859  \n",
      "Min. group size:    1         Likelihood:           -45824.2443\n",
      "Max. group size:    270       Converged:            Yes        \n",
      "Mean group size:    124.0                                      \n",
      "---------------------------------------------------------------\n",
      "                  Coef.  Std.Err.    z    P>|z|  [0.025  0.975]\n",
      "---------------------------------------------------------------\n",
      "Intercept         13.539    2.541   5.328 0.000   8.559  18.519\n",
      "Educ               5.169    0.181  28.538 0.000   4.814   5.524\n",
      "Hours              0.543    0.025  21.594 0.000   0.494   0.592\n",
      "Weeks              0.648    0.040  16.053 0.000   0.569   0.727\n",
      "Part             -37.884    1.236 -30.639 0.000 -40.308 -35.461\n",
      "Educ Var           0.496    0.002                              \n",
      "Educ x Weeks Cov   0.153                                       \n",
      "Weeks Var          0.047                                       \n",
      "===============================================================\n",
      "\n",
      "done!\n"
     ]
    }
   ],
   "source": [
    "print('Running...')\n",
    "firew_model = smf.mixedlm(\"Target ~  Educ + Hours + Weeks + Part\",\n",
    "                          data=work_ft,groups=work_ft['Age'], \n",
    "                          re_formula=\"~ 0 + Educ + Weeks\")\n",
    "firew_result = firew_model.fit(method='nm', maxiter=200, full_output=True)\n",
    "print(firew_result.summary())\n",
    "print(\"done!\")"
   ]
  },
  {
   "cell_type": "markdown",
   "metadata": {},
   "source": [
    "## 24. Fixed Intercept, Random Education and Part-Time"
   ]
  },
  {
   "cell_type": "code",
   "execution_count": 34,
   "metadata": {},
   "outputs": [
    {
     "name": "stdout",
     "output_type": "stream",
     "text": [
      "Running...\n",
      "            Mixed Linear Model Regression Results\n",
      "==============================================================\n",
      "Model:               MixedLM  Dependent Variable:  Target     \n",
      "No. Observations:    8929     Method:              REML       \n",
      "No. Groups:          72       Scale:               1631.0364  \n",
      "Min. group size:     1        Likelihood:          -45795.3090\n",
      "Max. group size:     270      Converged:           Yes        \n",
      "Mean group size:     124.0                                    \n",
      "--------------------------------------------------------------\n",
      "                 Coef.  Std.Err.    z    P>|z|  [0.025  0.975]\n",
      "--------------------------------------------------------------\n",
      "Intercept        15.483    2.548   6.077 0.000  10.489  20.476\n",
      "Educ              5.112    0.205  24.933 0.000   4.710   5.514\n",
      "Hours             0.543    0.025  21.616 0.000   0.494   0.592\n",
      "Weeks             0.627    0.030  21.226 0.000   0.569   0.685\n",
      "Part            -39.140    1.616 -24.218 0.000 -42.307 -35.972\n",
      "Educ Var          1.031    0.002                              \n",
      "Educ x Part Cov  -0.162                                       \n",
      "Part Var         56.981                                       \n",
      "==============================================================\n",
      "\n",
      "done!\n"
     ]
    }
   ],
   "source": [
    "print('Running...')\n",
    "firet_model = smf.mixedlm(\"Target ~  Educ + Hours + Weeks + Part\",\n",
    "                          data=work_ft,groups=work_ft['Age'], \n",
    "                          re_formula=\"~ 0 + Educ + Part\")\n",
    "firet_result = firet_model.fit(method='nm', maxiter=200, full_output=True)\n",
    "print(firet_result.summary())\n",
    "print(\"done!\")"
   ]
  },
  {
   "cell_type": "markdown",
   "metadata": {},
   "source": [
    "## 25. Fixed Intercept, Random Hours and Weeks"
   ]
  },
  {
   "cell_type": "code",
   "execution_count": 35,
   "metadata": {},
   "outputs": [
    {
     "name": "stdout",
     "output_type": "stream",
     "text": [
      "Running...\n",
      "             Mixed Linear Model Regression Results\n",
      "================================================================\n",
      "Model:               MixedLM   Dependent Variable:   Target     \n",
      "No. Observations:    8929      Method:               REML       \n",
      "No. Groups:          72        Scale:                1649.6235  \n",
      "Min. group size:     1         Likelihood:           -45846.2820\n",
      "Max. group size:     270       Converged:            Yes        \n",
      "Mean group size:     124.0                                      \n",
      "----------------------------------------------------------------\n",
      "                   Coef.  Std.Err.    z    P>|z|  [0.025  0.975]\n",
      "----------------------------------------------------------------\n",
      "Intercept          11.422    2.525   4.523 0.000   6.472  16.371\n",
      "Educ                5.245    0.157  33.445 0.000   4.937   5.552\n",
      "Hours               0.551    0.032  17.429 0.000   0.489   0.613\n",
      "Weeks               0.657    0.048  13.584 0.000   0.562   0.752\n",
      "Part              -38.519    1.206 -31.941 0.000 -40.883 -36.155\n",
      "Hours Var           0.021    0.000                              \n",
      "Hours x Weeks Cov   0.031                                       \n",
      "Weeks Var           0.089                                       \n",
      "================================================================\n",
      "\n",
      "done!\n"
     ]
    }
   ],
   "source": [
    "print('Running...')\n",
    "firhw_model = smf.mixedlm(\"Target ~  Educ + Hours + Weeks + Part\",\n",
    "                          data=work_ft,groups=work_ft['Age'], \n",
    "                          re_formula=\"~ 0 + Hours + Weeks\")\n",
    "firhw_result = firhw_model.fit(method='nm', maxiter=200, full_output=True)\n",
    "print(firhw_result.summary())\n",
    "print(\"done!\")"
   ]
  },
  {
   "cell_type": "markdown",
   "metadata": {},
   "source": [
    "## 26. Fixed Intercept, Random Hours and Part-Time"
   ]
  },
  {
   "cell_type": "code",
   "execution_count": 36,
   "metadata": {},
   "outputs": [
    {
     "name": "stdout",
     "output_type": "stream",
     "text": [
      "Running...\n",
      "             Mixed Linear Model Regression Results\n",
      "===============================================================\n",
      "Model:              MixedLM   Dependent Variable:   Target     \n",
      "No. Observations:   8929      Method:               REML       \n",
      "No. Groups:         72        Scale:                1671.0162  \n",
      "Min. group size:    1         Likelihood:           -45875.5169\n",
      "Max. group size:    270       Converged:            Yes        \n",
      "Mean group size:    124.0                                      \n",
      "---------------------------------------------------------------\n",
      "                  Coef.  Std.Err.    z    P>|z|  [0.025  0.975]\n",
      "---------------------------------------------------------------\n",
      "Intercept         10.396    2.544   4.087 0.000   5.411  15.382\n",
      "Educ               5.308    0.158  33.557 0.000   4.998   5.618\n",
      "Hours              0.574    0.048  11.975 0.000   0.480   0.668\n",
      "Weeks              0.640    0.030  21.497 0.000   0.582   0.698\n",
      "Part             -39.578    1.276 -31.016 0.000 -42.079 -37.077\n",
      "Hours Var          0.091    0.001                              \n",
      "Hours x Part Cov   0.363    0.007                              \n",
      "Part Var           1.443    0.298                              \n",
      "===============================================================\n",
      "\n",
      "done!\n"
     ]
    }
   ],
   "source": [
    "print('Running...')\n",
    "firht_model = smf.mixedlm(\"Target ~  Educ + Hours + Weeks + Part\",\n",
    "                          data=work_ft,groups=work_ft['Age'], \n",
    "                          re_formula=\"~ 0 + Hours + Part\")\n",
    "firht_result = firht_model.fit(method='nm', maxiter=200, full_output=True)\n",
    "print(firht_result.summary())\n",
    "print(\"done!\")"
   ]
  },
  {
   "cell_type": "markdown",
   "metadata": {},
   "source": [
    "## 27. Fixed Intercept, Random Weeks and Part-Time"
   ]
  },
  {
   "cell_type": "code",
   "execution_count": 37,
   "metadata": {},
   "outputs": [
    {
     "name": "stdout",
     "output_type": "stream",
     "text": [
      "Running...\n",
      "             Mixed Linear Model Regression Results\n",
      "===============================================================\n",
      "Model:              MixedLM   Dependent Variable:   Target     \n",
      "No. Observations:   8929      Method:               REML       \n",
      "No. Groups:         72        Scale:                1659.1770  \n",
      "Min. group size:    1         Likelihood:           -45848.2474\n",
      "Max. group size:    270       Converged:            Yes        \n",
      "Mean group size:    124.0                                      \n",
      "---------------------------------------------------------------\n",
      "                  Coef.  Std.Err.    z    P>|z|  [0.025  0.975]\n",
      "---------------------------------------------------------------\n",
      "Intercept         10.940    2.531   4.323 0.000   5.980  15.900\n",
      "Educ               5.273    0.158  33.434 0.000   4.964   5.583\n",
      "Hours              0.547    0.025  21.688 0.000   0.497   0.596\n",
      "Weeks              0.669    0.049  13.667 0.000   0.573   0.765\n",
      "Part             -40.122    1.426 -28.129 0.000 -42.918 -37.327\n",
      "Weeks Var          0.089    0.000                              \n",
      "Weeks x Part Cov  -1.392    0.011                              \n",
      "Part Var          21.717    0.458                              \n",
      "===============================================================\n",
      "\n",
      "done!\n"
     ]
    }
   ],
   "source": [
    "print('Running...')\n",
    "firwt_model = smf.mixedlm(\"Target ~  Educ + Hours + Weeks + Part\",\n",
    "                          data=work_ft,groups=work_ft['Age'], \n",
    "                          re_formula=\"~ 0 + Weeks + Part\")\n",
    "firwt_result = firwt_model.fit(method='nm', maxiter=200, full_output=True)\n",
    "print(firwt_result.summary())\n",
    "print(\"done!\")"
   ]
  },
  {
   "cell_type": "markdown",
   "metadata": {},
   "source": [
    "## 28. Fixed Intercept, Random Education"
   ]
  },
  {
   "cell_type": "code",
   "execution_count": 38,
   "metadata": {},
   "outputs": [
    {
     "name": "stdout",
     "output_type": "stream",
     "text": [
      "Running...\n",
      "          Mixed Linear Model Regression Results\n",
      "=========================================================\n",
      "Model:            MixedLM Dependent Variable: Target     \n",
      "No. Observations: 8929    Method:             REML       \n",
      "No. Groups:       72      Scale:              1641.6249  \n",
      "Min. group size:  1       Likelihood:         -45803.5845\n",
      "Max. group size:  270     Converged:          Yes        \n",
      "Mean group size:  124.0                                  \n",
      "---------------------------------------------------------\n",
      "            Coef.  Std.Err.    z    P>|z|  [0.025  0.975]\n",
      "---------------------------------------------------------\n",
      "Intercept   14.759    2.547   5.796 0.000   9.768  19.751\n",
      "Educ         5.143    0.198  25.934 0.000   4.755   5.532\n",
      "Hours        0.545    0.025  21.650 0.000   0.495   0.594\n",
      "Weeks        0.632    0.030  21.379 0.000   0.574   0.690\n",
      "Part       -38.073    1.235 -30.835 0.000 -40.493 -35.653\n",
      "Educ Var     0.865    0.004                              \n",
      "=========================================================\n",
      "\n",
      "done!\n"
     ]
    }
   ],
   "source": [
    "print('Running...')\n",
    "fire_model = smf.mixedlm(\"Target ~  Educ + Hours + Weeks + Part\",\n",
    "                          data=work_ft,groups=work_ft['Age'], \n",
    "                          re_formula=\"~ 0 + Educ\")\n",
    "fire_result = fire_model.fit(method='nm', maxiter=200, full_output=True)\n",
    "print(fire_result.summary())\n",
    "print(\"done!\")"
   ]
  },
  {
   "cell_type": "markdown",
   "metadata": {},
   "source": [
    "## 29. Fixed Intercept, Prestige"
   ]
  },
  {
   "cell_type": "code",
   "execution_count": 39,
   "metadata": {},
   "outputs": [
    {
     "name": "stdout",
     "output_type": "stream",
     "text": [
      "Running...\n",
      "          Mixed Linear Model Regression Results\n",
      "=========================================================\n",
      "Model:            MixedLM Dependent Variable: Target     \n",
      "No. Observations: 8929    Method:             REML       \n",
      "No. Groups:       72      Scale:              1671.3174  \n",
      "Min. group size:  1       Likelihood:         -45876.3380\n",
      "Max. group size:  270     Converged:          Yes        \n",
      "Mean group size:  124.0                                  \n",
      "---------------------------------------------------------\n",
      "            Coef.  Std.Err.    z    P>|z|  [0.025  0.975]\n",
      "---------------------------------------------------------\n",
      "Intercept   10.319    2.543   4.058 0.000   5.336  15.303\n",
      "Educ         5.310    0.158  33.575 0.000   5.000   5.620\n",
      "Hours        0.574    0.049  11.804 0.000   0.478   0.669\n",
      "Weeks        0.640    0.030  21.497 0.000   0.582   0.698\n",
      "Part       -40.006    1.223 -32.723 0.000 -42.402 -37.609\n",
      "Hours Var    0.095    0.001                              \n",
      "=========================================================\n",
      "\n",
      "done!\n"
     ]
    }
   ],
   "source": [
    "print('Running...')\n",
    "firh_model = smf.mixedlm(\"Target ~  Educ + Hours + Weeks + Part\",\n",
    "                          data=work_ft,groups=work_ft['Age'], \n",
    "                          re_formula=\"~ 0 + Hours\")\n",
    "firh_result = firh_model.fit(method='nm', maxiter=200, full_output=True)\n",
    "print(firh_result.summary())\n",
    "print(\"done!\")"
   ]
  },
  {
   "cell_type": "markdown",
   "metadata": {},
   "source": [
    "## 30. Fixed Intercept, Random Weeks"
   ]
  },
  {
   "cell_type": "code",
   "execution_count": 40,
   "metadata": {},
   "outputs": [
    {
     "name": "stdout",
     "output_type": "stream",
     "text": [
      "Running...\n",
      "          Mixed Linear Model Regression Results\n",
      "=========================================================\n",
      "Model:            MixedLM Dependent Variable: Target     \n",
      "No. Observations: 8929    Method:             REML       \n",
      "No. Groups:       72      Scale:              1663.8750  \n",
      "Min. group size:  1       Likelihood:         -45857.8965\n",
      "Max. group size:  270     Converged:          Yes        \n",
      "Mean group size:  124.0                                  \n",
      "---------------------------------------------------------\n",
      "            Coef.  Std.Err.    z    P>|z|  [0.025  0.975]\n",
      "---------------------------------------------------------\n",
      "Intercept   10.759    2.535   4.245 0.000   5.791  15.726\n",
      "Educ         5.292    0.158  33.522 0.000   4.982   5.601\n",
      "Hours        0.549    0.025  21.760 0.000   0.500   0.599\n",
      "Weeks        0.670    0.045  14.801 0.000   0.581   0.758\n",
      "Part       -38.860    1.242 -31.284 0.000 -41.295 -36.426\n",
      "Weeks Var    0.069    0.000                              \n",
      "=========================================================\n",
      "\n",
      "done!\n"
     ]
    }
   ],
   "source": [
    "print('Running...')\n",
    "firw_model = smf.mixedlm(\"Target ~  Educ + Hours + Weeks + Part\",\n",
    "                          data=work_ft,groups=work_ft['Age'], \n",
    "                          re_formula=\"~ 0 + Weeks\")\n",
    "firw_result = firw_model.fit(method='nm', maxiter=200, full_output=True)\n",
    "print(firw_result.summary())\n",
    "print(\"done!\")"
   ]
  },
  {
   "cell_type": "markdown",
   "metadata": {},
   "source": [
    "## 31. Fixed Intercept, Random Part-Time"
   ]
  },
  {
   "cell_type": "code",
   "execution_count": 41,
   "metadata": {
    "scrolled": true
   },
   "outputs": [
    {
     "name": "stdout",
     "output_type": "stream",
     "text": [
      "Running...\n",
      "          Mixed Linear Model Regression Results\n",
      "=========================================================\n",
      "Model:            MixedLM Dependent Variable: Target     \n",
      "No. Observations: 8929    Method:             REML       \n",
      "No. Groups:       72      Scale:              1773.3302  \n",
      "Min. group size:  1       Likelihood:         -46087.5531\n",
      "Max. group size:  270     Converged:          Yes        \n",
      "Mean group size:  124.0                                  \n",
      "---------------------------------------------------------\n",
      "            Coef.  Std.Err.    z    P>|z|  [0.025  0.975]\n",
      "---------------------------------------------------------\n",
      "Intercept    6.509    2.601   2.502 0.012   1.410  11.607\n",
      "Educ         5.542    0.162  34.267 0.000   5.225   5.859\n",
      "Hours        0.585    0.026  22.550 0.000   0.534   0.636\n",
      "Weeks        0.672    0.031  22.000 0.000   0.612   0.732\n",
      "Part       -41.042    1.650 -24.871 0.000 -44.276 -37.808\n",
      "Part Var    58.634    0.503                              \n",
      "=========================================================\n",
      "\n",
      "done!\n"
     ]
    }
   ],
   "source": [
    "print('Running...')\n",
    "firt_model = smf.mixedlm(\"Target ~  Educ + Hours + Weeks + Part\",\n",
    "                          data=work_ft,groups=work_ft['Age'], \n",
    "                          re_formula=\"~ 0 + Part\")\n",
    "firt_result = firt_model.fit(method='nm', maxiter=200, full_output=True)\n",
    "print(firt_result.summary())\n",
    "print(\"done!\")"
   ]
  },
  {
   "cell_type": "markdown",
   "metadata": {},
   "source": [
    "## Comparing Random Effect Configurations\n",
    "\n",
    "After all is said and done, 9 of the random effect configurations did not converge. This leaves me with 22 different configurations left to test. \n",
    "\n",
    "Configurations 1, 2, 3, 4, 5, 6, 11, 14, and 17 did not converge.\n",
    "\n",
    "Both model configurations that failed were the ones that used random effects for both variables, showing just how large and overcomplicationed ME models can get very quickly\n",
    "\n",
    "Comparing between ME models can be tricky, since they can have such different parameters. You can only directly compare the performance of 2 ME models if one model is a subset of the other. This means that the components of one model are totally contained within the components of another models. For example, a random intercept ME model with be a subset of a random intercept and slope ME model, since the latter has the features of the random intercept ME and more.\n",
    "\n",
    "In order to test between test these model configurations, I will get a p-value from using the log-likelihood diferrence between the 2 models. If the p-value is below my set significance level, then the larger model explains significantly more variance than the smaller model, thus the larger is preferred. If the p-value is above my set significance level, then the larger model and the smaller model explain around the same amount of variance, thus the smaller model should be kept since it is more efficient."
   ]
  },
  {
   "cell_type": "code",
   "execution_count": 42,
   "metadata": {},
   "outputs": [],
   "source": [
    "from scipy.stats import chi2\n",
    "\n",
    "# set up method to get p-value from likelihood ratio\n",
    "def likelihood_ratio_test(bigmodel, smallmodel):\n",
    "    likelihoodratio=2*(bigmodel.llf-smallmodel.llf)\n",
    "    df=bigmodel.df_modelwc-smallmodel.df_modelwc\n",
    "    p=chi2.sf(likelihoodratio, df)\n",
    "    return p"
   ]
  },
  {
   "cell_type": "markdown",
   "metadata": {},
   "source": [
    "## Random Intercept Models\n",
    "\n",
    "First I will test the performance of the random intercept models.\n",
    "\n",
    "I'll start out by testing all the random slope configurations which have a random education slope"
   ]
  },
  {
   "cell_type": "code",
   "execution_count": 43,
   "metadata": {
    "scrolled": true
   },
   "outputs": [
    {
     "name": "stdout",
     "output_type": "stream",
     "text": [
      "Random Intercept, Random Education Slope vs. Random Intercept: \n",
      "1.1245227061454476e-05\n",
      "\n",
      "Random Intercept, Random Education and Part-Time Slope vs. Random Intercept, Random Education Slope: \n",
      "3.1403976456018405e-13\n",
      "\n",
      "Random Intercept, Random Education and Weeks Slope vs. Random Intercept, Random Education Slope: \n",
      "0.9421803875600645\n",
      "\n"
     ]
    }
   ],
   "source": [
    "lrt=likelihood_ratio_test(rire_result,ri_result)\n",
    "print('Random Intercept, Random Education Slope vs. Random Intercept: \\n{}\\n'.format(lrt))\n",
    "\n",
    "lrt=likelihood_ratio_test(riret_result,rire_result)\n",
    "print('Random Intercept, Random Education and Part-Time Slope vs. Random Intercept, Random Education Slope: \\n{}\\n'.format(lrt))\n",
    "\n",
    "lrt=likelihood_ratio_test(rirew_result,rire_result)\n",
    "print('Random Intercept, Random Education and Weeks Slope vs. Random Intercept, Random Education Slope: \\n{}\\n'.format(lrt))\\"
   ]
  },
  {
   "cell_type": "markdown",
   "metadata": {},
   "source": [
    "The best configuration with a random Education slope is the Random Intercept, Random Education and Part-Time Slope configuration\n",
    "\n",
    "Next, I will check all of the random effect configurations with have a random hours slope. "
   ]
  },
  {
   "cell_type": "code",
   "execution_count": 44,
   "metadata": {},
   "outputs": [
    {
     "name": "stdout",
     "output_type": "stream",
     "text": [
      "Random Intercept, Random Hours Slope vs. Random Intercept: \n",
      "0.004743849721635634\n",
      "\n",
      "Random Intercept, Random Hours and Weeks Slope vs. Random Intercept, Random Hours Slope: \n",
      "1.0\n",
      "\n",
      "Random Intercept, Random Hours and Part-Time Slope vs. Random Intercept, Random Hours Slope: \n",
      "4.0729931044545905e-10\n",
      "\n"
     ]
    }
   ],
   "source": [
    "lrt=likelihood_ratio_test(rirh_result,ri_result)\n",
    "print('Random Intercept, Random Hours Slope vs. Random Intercept: \\n{}\\n'.format(lrt))\n",
    "\n",
    "lrt=likelihood_ratio_test(rirhw_result,rirh_result)\n",
    "print('Random Intercept, Random Hours and Weeks Slope vs. Random Intercept, Random Hours Slope: \\n{}\\n'.format(lrt))\n",
    "\n",
    "lrt=likelihood_ratio_test(rirht_result,rirh_result)\n",
    "print('Random Intercept, Random Hours and Part-Time Slope vs. Random Intercept, Random Hours Slope: \\n{}\\n'.format(lrt))"
   ]
  },
  {
   "cell_type": "markdown",
   "metadata": {},
   "source": [
    "The best random effect configuration amoung these is the Random Intercept, Random Hours and Part-Time Slope configuration.\n",
    "\n",
    "Next, I will test the random slope configurations which have a random time component."
   ]
  },
  {
   "cell_type": "code",
   "execution_count": 45,
   "metadata": {},
   "outputs": [
    {
     "name": "stdout",
     "output_type": "stream",
     "text": [
      "Random Intercept, Random Part-Time Slope vs. Random Intercept: \n",
      "5.341003049694776e-13\n",
      "\n",
      "Random Intercept, Random Education and Part-Time Slope vs. Random Intercept, Random Part-Time Slope: \n",
      "4.51653831620383e-06\n",
      "\n",
      "Random Intercept, Random Hours and Part-Time Slope vs. Random Intercept, Random Part-Time Slope: \n",
      "0.834689905801984\n",
      "\n"
     ]
    }
   ],
   "source": [
    "lrt=likelihood_ratio_test(rirt_result,ri_result)\n",
    "print('Random Intercept, Random Part-Time Slope vs. Random Intercept: \\n{}\\n'.format(lrt))\n",
    "\n",
    "lrt=likelihood_ratio_test(riret_result,rirt_result)\n",
    "print('Random Intercept, Random Education and Part-Time Slope vs. Random Intercept, Random Part-Time Slope: \\n{}\\n'.format(lrt))\n",
    "\n",
    "lrt=likelihood_ratio_test(rirht_result,rirt_result)\n",
    "print('Random Intercept, Random Hours and Part-Time Slope vs. Random Intercept, Random Part-Time Slope: \\n{}\\n'.format(lrt))\n",
    "\n"
   ]
  },
  {
   "cell_type": "markdown",
   "metadata": {},
   "source": [
    "This just so happens to test between the 2 most powerful configurations of the Random Intercept models. \n",
    "\n",
    "The best Random Intercept configuration is the __Random Intercept, Random Education and Part-Time Slope__ configuration."
   ]
  },
  {
   "cell_type": "markdown",
   "metadata": {},
   "source": [
    "## Fixed  Intercept Models\n",
    "\n",
    "Now I will test the fixed intercept models.\n",
    "\n",
    "I'll start again by testing the simple fixed intercept models which have a random education slope."
   ]
  },
  {
   "cell_type": "code",
   "execution_count": 46,
   "metadata": {},
   "outputs": [
    {
     "name": "stdout",
     "output_type": "stream",
     "text": [
      "Fixed Intercept, Random Education and Hours Slope vs. Fixed Intercept, Random Education Slope: \n",
      "1.0\n",
      "\n",
      "Fixed Intercept, Random Education and Weeks Slope vs. Fixed Intercept, Random Education Slope: \n",
      "1.0\n",
      "\n",
      "Fixed Intercept, Random Education and Part-Time Slope vs. Fixed Intercept, Random Education Slope: \n",
      "0.0002546835930895279\n",
      "\n"
     ]
    }
   ],
   "source": [
    "lrt=likelihood_ratio_test(fireh_result,fire_result)\n",
    "print('Fixed Intercept, Random Education and Hours Slope vs. Fixed Intercept, Random Education Slope: \\n{}\\n'.format(lrt))\n",
    "\n",
    "lrt=likelihood_ratio_test(firew_result,fire_result)\n",
    "print('Fixed Intercept, Random Education and Weeks Slope vs. Fixed Intercept, Random Education Slope: \\n{}\\n'.format(lrt))\n",
    "\n",
    "lrt=likelihood_ratio_test(firet_result,fire_result)\n",
    "print('Fixed Intercept, Random Education and Part-Time Slope vs. Fixed Intercept, Random Education Slope: \\n{}\\n'.format(lrt))"
   ]
  },
  {
   "cell_type": "markdown",
   "metadata": {},
   "source": [
    "The best configuration amoung these tested is the Fixed Intercept, Random Education and Part-Time Slope configuration, though not by a vastly significant amount.\n",
    "\n",
    "I will test it against all applicable Fixed Intercept triple slopes."
   ]
  },
  {
   "cell_type": "code",
   "execution_count": 47,
   "metadata": {},
   "outputs": [
    {
     "name": "stdout",
     "output_type": "stream",
     "text": [
      "Fixed Intercept, Random Education, Hours, and Part-Time Slope vs. Fixed Intercept, Random Education and Part-Time Slope: \n",
      "1.1002359130604335e-09\n",
      "\n",
      "Fixed Intercept, Random Education, Weeks, and Part-Time Slope vs. Fixed Intercept, Random Education and Part-Time Slope: \n",
      "1.2517813008571911e-09\n",
      "\n"
     ]
    }
   ],
   "source": [
    "lrt=likelihood_ratio_test(fireht_result,firet_result)\n",
    "print('Fixed Intercept, Random Education, Hours, and Part-Time Slope vs. Fixed Intercept, Random Education and Part-Time Slope: \\n{}\\n'.format(lrt))\n",
    "\n",
    "lrt=likelihood_ratio_test(firewt_result,firet_result)\n",
    "print('Fixed Intercept, Random Education, Weeks, and Part-Time Slope vs. Fixed Intercept, Random Education and Part-Time Slope: \\n{}\\n'.format(lrt))"
   ]
  },
  {
   "cell_type": "markdown",
   "metadata": {},
   "source": [
    "The Fixed Intercept, Random Education, Hours, and Part-Time Slope configuration is better, but not by much.  I will also bring the Fixed Intercept, Random Education, Weeks, and Part-Time Slope configuration model to the final rounds of testing\n",
    "\n",
    "Next, I will test all of the fixed intercept models with random hours slopes, and less than 2 random slopes."
   ]
  },
  {
   "cell_type": "code",
   "execution_count": 48,
   "metadata": {},
   "outputs": [
    {
     "name": "stdout",
     "output_type": "stream",
     "text": [
      "Fixed Intercept, Random Education and Hours Slope vs. Fixed Intercept, Random Hours Slope: \n",
      "7.772291709727599e-24\n",
      "\n",
      "Fixed Intercept, Random Hours and Weeks Slope vs. Fixed Intercept, Random Hours Slope: \n",
      "8.847805306641264e-14\n",
      "\n",
      "Fixed Intercept, Random Hours and Part-Time Slope vs. Fixed Intercept, Random Hours Slope: \n",
      "0.4399684185910905\n",
      "\n"
     ]
    }
   ],
   "source": [
    "lrt=likelihood_ratio_test(fireh_result,firh_result)\n",
    "print('Fixed Intercept, Random Education and Hours Slope vs. Fixed Intercept, Random Hours Slope: \\n{}\\n'.format(lrt))\n",
    "\n",
    "lrt=likelihood_ratio_test(firhw_result,firh_result)\n",
    "print('Fixed Intercept, Random Hours and Weeks Slope vs. Fixed Intercept, Random Hours Slope: \\n{}\\n'.format(lrt))\n",
    "\n",
    "lrt=likelihood_ratio_test(firht_result,firh_result)\n",
    "print('Fixed Intercept, Random Hours and Part-Time Slope vs. Fixed Intercept, Random Hours Slope: \\n{}\\n'.format(lrt))"
   ]
  },
  {
   "cell_type": "markdown",
   "metadata": {},
   "source": [
    "The best configuration between these models is the Fixed Intercept, Random Education and Hours Slope configuration. But, I already know that this model is inferior to the Fixed Intercept, Random Education and Part-Time slope.\n",
    "\n",
    "Next, I will test all of the fixed intercept model with less than 2 random slopes and a random weeks slope."
   ]
  },
  {
   "cell_type": "code",
   "execution_count": 49,
   "metadata": {},
   "outputs": [
    {
     "name": "stdout",
     "output_type": "stream",
     "text": [
      "Fixed Intercept, Random Education and Weeks Slope vs. Fixed Intercept, Random Weeks Slope: \n",
      "2.4267344446440714e-15\n",
      "\n",
      "Fixed Intercept, Random Hours and Weeks Slope vs. Fixed Intercept, Random Weeks Slope: \n",
      "9.033507788904395e-06\n",
      "\n",
      "Fixed Intercept, Random Weeks and Part-Time Slope vs. Fixed Intercept, Random Weeks Slope: \n",
      "6.447861009486341e-05\n",
      "\n"
     ]
    }
   ],
   "source": [
    "lrt=likelihood_ratio_test(firew_result,firw_result)\n",
    "print('Fixed Intercept, Random Education and Weeks Slope vs. Fixed Intercept, Random Weeks Slope: \\n{}\\n'.format(lrt))\n",
    "\n",
    "lrt=likelihood_ratio_test(firhw_result,firw_result)\n",
    "print('Fixed Intercept, Random Hours and Weeks Slope vs. Fixed Intercept, Random Weeks Slope: \\n{}\\n'.format(lrt))\n",
    "\n",
    "lrt=likelihood_ratio_test(firwt_result,firw_result)\n",
    "print('Fixed Intercept, Random Weeks and Part-Time Slope vs. Fixed Intercept, Random Weeks Slope: \\n{}\\n'.format(lrt))"
   ]
  },
  {
   "cell_type": "markdown",
   "metadata": {},
   "source": [
    "The best configuration between these models is the Fixed Intercept, Random Education and Weeks Slope configuration. Like before, I already know that this model is inferior to the Fixed Intercept, Random Education and Part-Time model.\n",
    "\n",
    "Now I will test the Fixed Intercept, Random Part-time slope configuration. I have already tested all the other fixed intercept model configurations and rules them out."
   ]
  },
  {
   "cell_type": "code",
   "execution_count": 50,
   "metadata": {},
   "outputs": [
    {
     "name": "stdout",
     "output_type": "stream",
     "text": [
      "Fixed Intercept, Random Education and Part-Time Slope vs. Fixed Intercept, Random Part-Time Slope: \n",
      "1.2022718346230705e-127\n",
      "\n"
     ]
    }
   ],
   "source": [
    "lrt=likelihood_ratio_test(firet_result,firt_result)\n",
    "print('Fixed Intercept, Random Education and Part-Time Slope vs. Fixed Intercept, Random Part-Time Slope: \\n{}\\n'.format(lrt))"
   ]
  },
  {
   "cell_type": "markdown",
   "metadata": {},
   "source": [
    "The best configuration here, and thus the best configuration of the set is still the __Fixed Intercept, Random Education, Hours, and Part-Time Slope configuration__."
   ]
  },
  {
   "cell_type": "markdown",
   "metadata": {},
   "source": [
    "## Best Random Intercept vs. Best Random Intercept\n",
    "\n",
    "Now I need to test how the __Random Intercept, Random Education and Part-Time Slope__ configuration models stacks up against the __Fixed Intercept, Random Education, Hours, and Part-Time Slope__ configuration model."
   ]
  },
  {
   "cell_type": "code",
   "execution_count": 51,
   "metadata": {},
   "outputs": [
    {
     "name": "stdout",
     "output_type": "stream",
     "text": [
      "Random Intercept, Random Education and Part-Time Slope vs. Fixed Intercept, Random Education Slope: \n",
      "1.036798830839933e-09\n",
      "\n",
      "Fixed Intercept, Random Education and Part-Time Slope vs. Fixed Intercept, Random Education Slope: \n",
      "1.1002359130604335e-09\n",
      "\n"
     ]
    }
   ],
   "source": [
    "lrt=likelihood_ratio_test(riret_result,firet_result)\n",
    "print('Random Intercept, Random Education and Part-Time Slope vs. Fixed Intercept, Random Education Slope: \\n{}\\n'.format(lrt))\n",
    "\n",
    "lrt=likelihood_ratio_test(fireht_result,firet_result)\n",
    "print('Fixed Intercept, Random Education and Part-Time Slope vs. Fixed Intercept, Random Education Slope: \\n{}\\n'.format(lrt))"
   ]
  },
  {
   "cell_type": "markdown",
   "metadata": {},
   "source": [
    "The __Random Intercept, Random Education and Part-Time Slope__ configuration is the best one, but not by that much. The Fixed Intercept, Random Education and Part-Time Slope was not too far off. Still, the best was the RIREP configuration, so that is the one I will use."
   ]
  },
  {
   "cell_type": "code",
   "execution_count": 52,
   "metadata": {},
   "outputs": [
    {
     "name": "stdout",
     "output_type": "stream",
     "text": [
      "             Mixed Linear Model Regression Results\n",
      "===============================================================\n",
      "Model:              MixedLM   Dependent Variable:   Target     \n",
      "No. Observations:   8929      Method:               REML       \n",
      "No. Groups:         72        Scale:                1626.4969  \n",
      "Min. group size:    1         Likelihood:           -45772.9253\n",
      "Max. group size:    270       Converged:            Yes        \n",
      "Mean group size:    124.0                                      \n",
      "---------------------------------------------------------------\n",
      "                  Coef.  Std.Err.    z    P>|z|  [0.025  0.975]\n",
      "---------------------------------------------------------------\n",
      "Intercept         16.118    2.685   6.004 0.000  10.856  21.380\n",
      "Educ               5.068    0.222  22.866 0.000   4.634   5.503\n",
      "Hours              0.540    0.025  21.529 0.000   0.490   0.589\n",
      "Weeks              0.624    0.030  21.122 0.000   0.566   0.682\n",
      "Part             -40.326    1.712 -23.557 0.000 -43.681 -36.971\n",
      "Group Var         31.100    1.626                              \n",
      "Group x Educ Cov  -0.960    0.125                              \n",
      "Educ Var           1.362    0.016                              \n",
      "Group x Part Cov -19.057    0.865                              \n",
      "Educ x Part Cov   -8.690    0.086                              \n",
      "Part Var          76.297    0.752                              \n",
      "===============================================================\n",
      "\n"
     ]
    }
   ],
   "source": [
    "print(riret_result.summary())"
   ]
  },
  {
   "cell_type": "markdown",
   "metadata": {},
   "source": [
    "# Checking Model Residuals\n",
    "\n",
    "Though I know which RE configuration models best, I still need to be sure that I have a good model.  This is still linear regression, and as such the model residuals must satisfying certain conditions before I can be sure that my model is reliable.\n",
    "\n",
    "First, the residuals must be normally distributed. Second, the data must be relatively homoscedastic, meaning the resudiuals must be relatively even amoung the square root income values. Last, the residuals must be equally distributed amoung parameter values, in this case education, hours, weeks, and if they are part-time."
   ]
  },
  {
   "cell_type": "code",
   "execution_count": 53,
   "metadata": {},
   "outputs": [],
   "source": [
    "# get model residuals\n",
    "work_results = work_ft\n",
    "\n",
    "# get residuals\n",
    "work_results['residual']=riret_result.resid"
   ]
  },
  {
   "cell_type": "markdown",
   "metadata": {},
   "source": [
    "## Normal Distributed Residuals"
   ]
  },
  {
   "cell_type": "code",
   "execution_count": 54,
   "metadata": {},
   "outputs": [
    {
     "data": {
      "image/png": "[encoded data removed]",
      "text/plain": [
       "<Figure size 432x288 with 1 Axes>"
      ]
     },
     "metadata": {},
     "output_type": "display_data"
    }
   ],
   "source": [
    "# Are residuals normally distributed?\n",
    "plt.hist(work_results['residual'])\n",
    "plt.title('Distribution of Residuals')\n",
    "plt.show()"
   ]
  },
  {
   "cell_type": "markdown",
   "metadata": {},
   "source": [
    "Though it is ever so slightly skewed, the residuals are normal enough."
   ]
  },
  {
   "cell_type": "markdown",
   "metadata": {},
   "source": [
    "## Evenly distributed Residuals amoung Parameters"
   ]
  },
  {
   "cell_type": "code",
   "execution_count": 55,
   "metadata": {
    "scrolled": true
   },
   "outputs": [
    {
     "data": {
      "image/png": "[encoded data removed]",
      "text/plain": [
       "<Figure size 432x288 with 1 Axes>"
      ]
     },
     "metadata": {},
     "output_type": "display_data"
    }
   ],
   "source": [
    "# Is variance constant for all values of the predictors?\n",
    "plt.scatter(work_results['Educ'],work_results['residual'])\n",
    "plt.title('Residuals by Education Level')\n",
    "plt.show()"
   ]
  },
  {
   "cell_type": "code",
   "execution_count": 56,
   "metadata": {
    "scrolled": true
   },
   "outputs": [
    {
     "data": {
      "image/png": "[encoded data removed]",
      "text/plain": [
       "<Figure size 432x288 with 1 Axes>"
      ]
     },
     "metadata": {},
     "output_type": "display_data"
    }
   ],
   "source": [
    "# Is variance constant for all values of the predictors?\n",
    "plt.scatter(work_results['Hours'],work_results['residual'])\n",
    "plt.title('Residuals by Hours Worked')\n",
    "plt.show()"
   ]
  },
  {
   "cell_type": "code",
   "execution_count": 57,
   "metadata": {
    "scrolled": true
   },
   "outputs": [
    {
     "data": {
      "image/png": "[encoded data removed]",
      "text/plain": [
       "<Figure size 432x288 with 1 Axes>"
      ]
     },
     "metadata": {},
     "output_type": "display_data"
    }
   ],
   "source": [
    "# Is variance constant for all values of the predictors?\n",
    "plt.scatter(work_results['Weeks'],work_results['residual'])\n",
    "plt.title('Residuals by Weeks Worked')\n",
    "plt.show()"
   ]
  },
  {
   "cell_type": "markdown",
   "metadata": {},
   "source": [
    "The week residuals are slightly heteroscedastic, but not by that much. They earlier education values have more negative errors, while most of the other values have an equal distribution."
   ]
  },
  {
   "cell_type": "code",
   "execution_count": 58,
   "metadata": {
    "scrolled": true
   },
   "outputs": [
    {
     "data": {
      "image/png": "[encoded data removed]",
      "text/plain": [
       "<Figure size 432x288 with 1 Axes>"
      ]
     },
     "metadata": {},
     "output_type": "display_data"
    }
   ],
   "source": [
    "# Is variance constant for all values of the predictors?\n",
    "plt.scatter(work_results['Part'],work_results['residual'])\n",
    "plt.title('Residuals by Part-Time status')\n",
    "plt.show()"
   ]
  },
  {
   "cell_type": "markdown",
   "metadata": {},
   "source": [
    "This looks great too. There is a little inconsistency in the education level residuals, but overall both features seem pretty balanced."
   ]
  },
  {
   "cell_type": "markdown",
   "metadata": {},
   "source": [
    "## Homoscedastic Residuals"
   ]
  },
  {
   "cell_type": "code",
   "execution_count": 59,
   "metadata": {
    "scrolled": true
   },
   "outputs": [
    {
     "data": {
      "image/png": "[encoded data removed]",
      "text/plain": [
       "<Figure size 432x288 with 1 Axes>"
      ]
     },
     "metadata": {},
     "output_type": "display_data"
    }
   ],
   "source": [
    "# Is variance constant for all values of the outcome?\n",
    "plt.scatter(work_results['Target'],work_results['residual'])\n",
    "plt.title('Residuals by Income values')\n",
    "plt.show()"
   ]
  },
  {
   "cell_type": "markdown",
   "metadata": {},
   "source": [
    "Unfortunately, my model is very heteroscadastic about the outcome. I did much to try and remedy this, include the performed square root transformations, to features transformation and selection sets I tried behind the scenes."
   ]
  },
  {
   "cell_type": "markdown",
   "metadata": {},
   "source": [
    "# Interpreting Model Results"
   ]
  },
  {
   "cell_type": "code",
   "execution_count": 60,
   "metadata": {},
   "outputs": [
    {
     "name": "stdout",
     "output_type": "stream",
     "text": [
      "             Mixed Linear Model Regression Results\n",
      "===============================================================\n",
      "Model:              MixedLM   Dependent Variable:   Target     \n",
      "No. Observations:   8929      Method:               REML       \n",
      "No. Groups:         72        Scale:                1626.4969  \n",
      "Min. group size:    1         Likelihood:           -45772.9253\n",
      "Max. group size:    270       Converged:            Yes        \n",
      "Mean group size:    124.0                                      \n",
      "---------------------------------------------------------------\n",
      "                  Coef.  Std.Err.    z    P>|z|  [0.025  0.975]\n",
      "---------------------------------------------------------------\n",
      "Intercept         16.118    2.685   6.004 0.000  10.856  21.380\n",
      "Educ               5.068    0.222  22.866 0.000   4.634   5.503\n",
      "Hours              0.540    0.025  21.529 0.000   0.490   0.589\n",
      "Weeks              0.624    0.030  21.122 0.000   0.566   0.682\n",
      "Part             -40.326    1.712 -23.557 0.000 -43.681 -36.971\n",
      "Group Var         31.100    1.626                              \n",
      "Group x Educ Cov  -0.960    0.125                              \n",
      "Educ Var           1.362    0.016                              \n",
      "Group x Part Cov -19.057    0.865                              \n",
      "Educ x Part Cov   -8.690    0.086                              \n",
      "Part Var          76.297    0.752                              \n",
      "===============================================================\n",
      "\n"
     ]
    }
   ],
   "source": [
    "print(riret_result.summary())"
   ]
  },
  {
   "cell_type": "markdown",
   "metadata": {},
   "source": [
    "The best fitting model configuration, __Random Intercept, Random Education and Part-Time Slope__, gives me this linear equation:\n",
    "\n",
    "$$\\sqrt{Income_{a}} = 16.118+G_{a} + (5.068+GE_{a}) * E + 0.540 * H + 0.624 * W + (-40.326+GP_{a}) * P $$\n",
    "\n",
    "where $Income_{a}$ is equal to Income given age, $G_{a}$ is the change in intercept given age, $GE_{a}$ is the education coefficinet change given age, $E$ is education level, $H$ is hours worked per week, $W$ is weeks worked per year, $GP_{a}$ is the Part-Time coefficient change given age, and $P$ is if the respondant is a part-time worker.\n",
    "\n",
    "Skipping past the intercept for now, I'll look at Education level. It has a value of around 5.1, meaning that the square root of an average erson's income will go up by 5.1 for each additional year of education they complete. Education has a tiny group variance, only being 1/5 the value of the coefficent itself and having a very low standard error. Out of all the random effects, the effect of education of the square root of income is the least variable with age.\n",
    "\n",
    "An average person's square root income will go up by 0.5 for each addional hour per week they work.\n",
    "\n",
    "An average person's square root income will go up by 0.6 for each additional week per year they work.\n",
    "\n",
    "An average person who works part-time will have a square root income that is 40.3 less than someone who is not a part-time worker. This distrinction is key, as there are more than just full-time workers that are not part-time workers. This has a very large group variance, being almost doulbe the actual coefficient value. This means that the way that being a part-time worker affects a person's square root income is very affected by their age.\n",
    "\n",
    "Coming back to the intercept, the base starting point for square root income is 16.1. Because of how categorical variables function in a linear model, this has become the value representing people who are not part-time workers, have 0 years of education, 0 hours of work, and are not part-time workers. These could be full-time workers, retiree pension earners, trust-funders, etc. So, the average person who has no education, or work hours has an income of $16.1^{2}$, or \\$259.21. Just by being a part-time worker, the average person starts at an income of $-24.2^{2}$, or \\$-585.64, and must make it up through some combination of education and time worked.\n",
    "\n",
    "It has a much higher standard errer, only being 1/8 the size of the intercept value. This is probably due to it containing so many different types of earners within the non-part-time workers group. The random intercept, called \"Group\", is also very large, being twice as large as the intercept itself. This tells me that the base income varies widely for different ages.\n",
    "\n",
    "This means that all of these affects have a quadratic affect on the income, each factors afftects a person more the more income the have. This is especially troubling news for the average people working part-time, as it means that much of their education and work time is put into just getting into a positive income from the initial hit they take."
   ]
  },
  {
   "cell_type": "markdown",
   "metadata": {},
   "source": [
    "# Conclusions\n",
    "\n",
    "Being a part time worker in America is an enormous detriment to Income. Two people with equal education and time spent working will have very different income values.\n",
    "\n",
    "Additionally, the way that education level and being a part-time worker affect income change drastically with a persons age, significantly more than any change in way hours and weeks worked affect income.  The based income a person can have changes drastically as well.\n",
    "\n",
    "This is shown in the real world, as the younger of 2 workers with the same credentials will usually be the seen as the one who is less valuable due to less experiance, and thus paid less. Conversely, older people who no longer work with equal credentials to people who do work will earner less because their income has been scaled back based on their retirement plans.\n",
    "\n",
    "My model had some errors which could be addressed in future researched. A linear mixed effect model may not be the most ideal model to use for an Income outcome variable, but it was the scope of my project. In the future, I may attempt to use a Pareto distribution based model and try to account for age in another way."
   ]
  }
 ],
 "metadata": {
  "kernelspec": {
   "display_name": "Python 3",
   "language": "python",
   "name": "python3"
  },
  "language_info": {
   "codemirror_mode": {
    "name": "ipython",
    "version": 3
   },
   "file_extension": ".py",
   "mimetype": "text/x-python",
   "name": "python",
   "nbconvert_exporter": "python",
   "pygments_lexer": "ipython3",
   "version": "3.6.4"
  }
 },
 "nbformat": 4,
 "nbformat_minor": 2
}
