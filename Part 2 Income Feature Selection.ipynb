{
 "cells": [
  {
   "cell_type": "markdown",
   "metadata": {},
   "source": [
    "# Exploring Income Factors\n",
    "\n",
    "I want to the most important income determinant factors for Income in Amercia, controlling for Age.\n",
    "\n",
    "This project is a large undertaking for a single computer, and as such will be split into 3 parts. In the first part, I will import and combine the data. The second part will pertain to my data cleaning and feature selection. Finally, I will perform descriptive modeling on the most important factors using linear mixed effect modeling."
   ]
  },
  {
   "cell_type": "code",
   "execution_count": 1,
   "metadata": {},
   "outputs": [],
   "source": [
    "import numpy as np\n",
    "import pandas as pd\n",
    "import statistics\n",
    "import scipy.stats as stats\n",
    "import matplotlib.pyplot as plt\n",
    "import seaborn as sns\n",
    "%matplotlib inline\n",
    "import savReaderWriter"
   ]
  },
  {
   "cell_type": "markdown",
   "metadata": {},
   "source": [
    "# Part 2: Selecting Features\n",
    "\n",
    "Now that I have combined all the GSS data one larger one, I must choose which features to use. The goal of this part of the project is to produce a data set entirely ready for descriptive modeling using linear mixed-effect models. \n",
    "\n",
    "The data set has 407 features. This is far too many too analyze all of them with complete scrutiny in a model. I must determine which features are most important and should be kept, and which should be thrown away. Because Linear Mixed Effect modelings are so complicated and easily overburdened, I will need to be especially selective when choosing my features. My goal of the feature selection process is to reduce my feature set to 4 features in total.\n",
    "\n",
    "The first thing I will do is import the combined data set I created in part 1."
   ]
  },
  {
   "cell_type": "code",
   "execution_count": 2,
   "metadata": {},
   "outputs": [],
   "source": [
    "work_mult = pd.read_csv('C:\\\\Code\\\\SSP\\\\workmult.csv')\n",
    "\n",
    "work_mult = work_mult.drop('Unnamed: 0',1)"
   ]
  },
  {
   "cell_type": "code",
   "execution_count": 3,
   "metadata": {},
   "outputs": [
    {
     "data": {
      "text/html": [
       "<div>\n",
       "<style scoped>\n",
       "    .dataframe tbody tr th:only-of-type {\n",
       "        vertical-align: middle;\n",
       "    }\n",
       "\n",
       "    .dataframe tbody tr th {\n",
       "        vertical-align: top;\n",
       "    }\n",
       "\n",
       "    .dataframe thead th {\n",
       "        text-align: right;\n",
       "    }\n",
       "</style>\n",
       "<table border=\"1\" class=\"dataframe\">\n",
       "  <thead>\n",
       "    <tr style=\"text-align: right;\">\n",
       "      <th></th>\n",
       "      <th>CONEDUC</th>\n",
       "      <th>SPHRS2</th>\n",
       "      <th>BORN</th>\n",
       "      <th>AGED</th>\n",
       "      <th>MAPRES105PLUS</th>\n",
       "      <th>HHTYPE1</th>\n",
       "      <th>DWELLING</th>\n",
       "      <th>RACECEN2</th>\n",
       "      <th>OLD5</th>\n",
       "      <th>FAMILY16</th>\n",
       "      <th>...</th>\n",
       "      <th>MARBLK</th>\n",
       "      <th>SUICIDE1</th>\n",
       "      <th>LIBATH</th>\n",
       "      <th>FORM</th>\n",
       "      <th>CLOSEWHT</th>\n",
       "      <th>ROWNGUN</th>\n",
       "      <th>CONSCI</th>\n",
       "      <th>CHLDIDEL</th>\n",
       "      <th>FEPOL</th>\n",
       "      <th>DISCAFFW</th>\n",
       "    </tr>\n",
       "  </thead>\n",
       "  <tbody>\n",
       "    <tr>\n",
       "      <th>0</th>\n",
       "      <td>0.0</td>\n",
       "      <td>-1.0</td>\n",
       "      <td>1.0</td>\n",
       "      <td>0.0</td>\n",
       "      <td>0.0</td>\n",
       "      <td>11.0</td>\n",
       "      <td>2.0</td>\n",
       "      <td>0.0</td>\n",
       "      <td>11.0</td>\n",
       "      <td>1.0</td>\n",
       "      <td>...</td>\n",
       "      <td>3.0</td>\n",
       "      <td>1.0</td>\n",
       "      <td>2.0</td>\n",
       "      <td>1.0</td>\n",
       "      <td>9.0</td>\n",
       "      <td>0.0</td>\n",
       "      <td>0.0</td>\n",
       "      <td>3.0</td>\n",
       "      <td>2.0</td>\n",
       "      <td>0.0</td>\n",
       "    </tr>\n",
       "    <tr>\n",
       "      <th>1</th>\n",
       "      <td>3.0</td>\n",
       "      <td>-1.0</td>\n",
       "      <td>1.0</td>\n",
       "      <td>1.0</td>\n",
       "      <td>18.0</td>\n",
       "      <td>4.0</td>\n",
       "      <td>2.0</td>\n",
       "      <td>0.0</td>\n",
       "      <td>-1.0</td>\n",
       "      <td>1.0</td>\n",
       "      <td>...</td>\n",
       "      <td>1.0</td>\n",
       "      <td>1.0</td>\n",
       "      <td>0.0</td>\n",
       "      <td>1.0</td>\n",
       "      <td>0.0</td>\n",
       "      <td>0.0</td>\n",
       "      <td>2.0</td>\n",
       "      <td>2.0</td>\n",
       "      <td>2.0</td>\n",
       "      <td>0.0</td>\n",
       "    </tr>\n",
       "    <tr>\n",
       "      <th>2</th>\n",
       "      <td>2.0</td>\n",
       "      <td>-1.0</td>\n",
       "      <td>1.0</td>\n",
       "      <td>1.0</td>\n",
       "      <td>0.0</td>\n",
       "      <td>1.0</td>\n",
       "      <td>2.0</td>\n",
       "      <td>0.0</td>\n",
       "      <td>-1.0</td>\n",
       "      <td>1.0</td>\n",
       "      <td>...</td>\n",
       "      <td>0.0</td>\n",
       "      <td>0.0</td>\n",
       "      <td>2.0</td>\n",
       "      <td>1.0</td>\n",
       "      <td>5.0</td>\n",
       "      <td>0.0</td>\n",
       "      <td>1.0</td>\n",
       "      <td>-1.0</td>\n",
       "      <td>0.0</td>\n",
       "      <td>0.0</td>\n",
       "    </tr>\n",
       "    <tr>\n",
       "      <th>3</th>\n",
       "      <td>0.0</td>\n",
       "      <td>-1.0</td>\n",
       "      <td>1.0</td>\n",
       "      <td>0.0</td>\n",
       "      <td>50.0</td>\n",
       "      <td>11.0</td>\n",
       "      <td>2.0</td>\n",
       "      <td>0.0</td>\n",
       "      <td>17.0</td>\n",
       "      <td>5.0</td>\n",
       "      <td>...</td>\n",
       "      <td>3.0</td>\n",
       "      <td>1.0</td>\n",
       "      <td>2.0</td>\n",
       "      <td>1.0</td>\n",
       "      <td>7.0</td>\n",
       "      <td>2.0</td>\n",
       "      <td>0.0</td>\n",
       "      <td>2.0</td>\n",
       "      <td>1.0</td>\n",
       "      <td>0.0</td>\n",
       "    </tr>\n",
       "    <tr>\n",
       "      <th>4</th>\n",
       "      <td>2.0</td>\n",
       "      <td>-1.0</td>\n",
       "      <td>1.0</td>\n",
       "      <td>1.0</td>\n",
       "      <td>55.0</td>\n",
       "      <td>1.0</td>\n",
       "      <td>2.0</td>\n",
       "      <td>0.0</td>\n",
       "      <td>-1.0</td>\n",
       "      <td>1.0</td>\n",
       "      <td>...</td>\n",
       "      <td>0.0</td>\n",
       "      <td>0.0</td>\n",
       "      <td>2.0</td>\n",
       "      <td>2.0</td>\n",
       "      <td>9.0</td>\n",
       "      <td>0.0</td>\n",
       "      <td>1.0</td>\n",
       "      <td>-1.0</td>\n",
       "      <td>0.0</td>\n",
       "      <td>0.0</td>\n",
       "    </tr>\n",
       "  </tbody>\n",
       "</table>\n",
       "<p>5 rows × 407 columns</p>\n",
       "</div>"
      ],
      "text/plain": [
       "   CONEDUC  SPHRS2  BORN  AGED  MAPRES105PLUS  HHTYPE1  DWELLING  RACECEN2  \\\n",
       "0      0.0    -1.0   1.0   0.0            0.0     11.0       2.0       0.0   \n",
       "1      3.0    -1.0   1.0   1.0           18.0      4.0       2.0       0.0   \n",
       "2      2.0    -1.0   1.0   1.0            0.0      1.0       2.0       0.0   \n",
       "3      0.0    -1.0   1.0   0.0           50.0     11.0       2.0       0.0   \n",
       "4      2.0    -1.0   1.0   1.0           55.0      1.0       2.0       0.0   \n",
       "\n",
       "   OLD5  FAMILY16    ...     MARBLK  SUICIDE1  LIBATH  FORM  CLOSEWHT  \\\n",
       "0  11.0       1.0    ...        3.0       1.0     2.0   1.0       9.0   \n",
       "1  -1.0       1.0    ...        1.0       1.0     0.0   1.0       0.0   \n",
       "2  -1.0       1.0    ...        0.0       0.0     2.0   1.0       5.0   \n",
       "3  17.0       5.0    ...        3.0       1.0     2.0   1.0       7.0   \n",
       "4  -1.0       1.0    ...        0.0       0.0     2.0   2.0       9.0   \n",
       "\n",
       "   ROWNGUN  CONSCI  CHLDIDEL  FEPOL  DISCAFFW  \n",
       "0      0.0     0.0       3.0    2.0       0.0  \n",
       "1      0.0     2.0       2.0    2.0       0.0  \n",
       "2      0.0     1.0      -1.0    0.0       0.0  \n",
       "3      2.0     0.0       2.0    1.0       0.0  \n",
       "4      0.0     1.0      -1.0    0.0       0.0  \n",
       "\n",
       "[5 rows x 407 columns]"
      ]
     },
     "execution_count": 3,
     "metadata": {},
     "output_type": "execute_result"
    }
   ],
   "source": [
    "work_mult.head()"
   ]
  },
  {
   "cell_type": "markdown",
   "metadata": {},
   "source": [
    "# Cleaning Data\n",
    "\n",
    "Before I begin feature selection, I will clean the data. \n",
    "\n",
    "First, I will drop any columns with null values. Then, I will drop indexes, or respondents, which did not provide income data, either because it was inapplicable, or they simply chose not to answer. So, our data will only model Income for people who have an Income. It seems obvious to say, but there it is."
   ]
  },
  {
   "cell_type": "code",
   "execution_count": 4,
   "metadata": {},
   "outputs": [
    {
     "name": "stdout",
     "output_type": "stream",
     "text": [
      "dropped columns ['ISCO88', 'PAISCO88', 'MAISCO88', 'SPISCO88'] with nulls\n"
     ]
    }
   ],
   "source": [
    "null_col = work_mult.columns[work_mult.isna().any()].tolist()\n",
    "work_mult = work_mult.drop(null_col,1)\n",
    "print('dropped columns {} with nulls'.format(null_col))"
   ]
  },
  {
   "cell_type": "code",
   "execution_count": 5,
   "metadata": {},
   "outputs": [],
   "source": [
    "# drop people for whom income was non-applicable\n",
    "work_mult = work_mult.drop(work_mult[work_mult['CONINC']==0].index)"
   ]
  },
  {
   "cell_type": "code",
   "execution_count": 6,
   "metadata": {},
   "outputs": [],
   "source": [
    "# drop people for whom income was non-applicable\n",
    "work_mult = work_mult.drop(work_mult[work_mult['REALRINC']==0].index)"
   ]
  },
  {
   "cell_type": "code",
   "execution_count": 7,
   "metadata": {},
   "outputs": [
    {
     "data": {
      "text/plain": [
       "Int64Index([], dtype='int64')"
      ]
     },
     "execution_count": 7,
     "metadata": {},
     "output_type": "execute_result"
    }
   ],
   "source": [
    "work_mult[work_mult['REALRINC']==0].index"
   ]
  },
  {
   "cell_type": "markdown",
   "metadata": {},
   "source": [
    "# Refining Income, Using Past Inflation\n",
    "\n",
    "There are multiple income values within the GSS. I will note here that I have chosen to use the Income value which is transformed to be relative to 1986 inflation. Using an inflation adjusted income is important since my data spans 16 years. The 1986 inflation injusted income statistic is simply the most recent one all 8 years share. Tp put this in perspective, the average American income in 1986 was \\$17,000\n",
    "\n",
    "I want to visually inspect the outcome to make sure it will do well in linear modeling. Specifically, I want to check for any outliers and to see if the distribution of the Income is normal.\n",
    "\n",
    "I'll start with the distribution."
   ]
  },
  {
   "cell_type": "code",
   "execution_count": 8,
   "metadata": {},
   "outputs": [
    {
     "data": {
      "image/png": "[encoded data removed]",
      "text/plain": [
       "<Figure size 432x288 with 1 Axes>"
      ]
     },
     "metadata": {},
     "output_type": "display_data"
    }
   ],
   "source": [
    "plt.hist(work_mult['REALRINC'])\n",
    "plt.title('Income Distribution')\n",
    "plt.show()"
   ]
  },
  {
   "cell_type": "markdown",
   "metadata": {},
   "source": [
    "The income is certainly not normally distributed. While a normally distributed outcome is not an absolute requirement of linear modeling, it usually provides more accurate results and less headaches down the line (like producing normal errors, which is a requirement).\n",
    "\n",
    "I will take the square root of the income to make it more normal, and use the square root income as my outomce. This means that any I models I create will relate to the square root of the income, not directly the income itself. This will add a layer of complexity when interpreting my results, but will be a small price to pay for accuraccy. "
   ]
  },
  {
   "cell_type": "code",
   "execution_count": 9,
   "metadata": {},
   "outputs": [],
   "source": [
    "work_mult['REALINCSQRT'] = np.sqrt(work_mult['REALRINC'])"
   ]
  },
  {
   "cell_type": "code",
   "execution_count": 10,
   "metadata": {},
   "outputs": [
    {
     "data": {
      "image/png": "[encoded data removed]",
      "text/plain": [
       "<Figure size 432x288 with 1 Axes>"
      ]
     },
     "metadata": {},
     "output_type": "display_data"
    }
   ],
   "source": [
    "plt.hist(work_mult['REALINCSQRT'])\n",
    "plt.title('Income Square Root Distribution')\n",
    "plt.show()"
   ]
  },
  {
   "cell_type": "markdown",
   "metadata": {},
   "source": [
    "It worked, the income looks much more normally distributed. But there still seems to be too many outliers to really tell. I want to identify and remove those outliers if they exist."
   ]
  },
  {
   "cell_type": "code",
   "execution_count": 11,
   "metadata": {},
   "outputs": [
    {
     "data": {
      "image/png": "[encoded data removed]",
      "text/plain": [
       "<Figure size 432x288 with 1 Axes>"
      ]
     },
     "metadata": {},
     "output_type": "display_data"
    }
   ],
   "source": [
    "plt.boxplot(work_mult['REALINCSQRT'])\n",
    "plt.title('Income Square Root Outlier Check')\n",
    "plt.show()"
   ]
  },
  {
   "cell_type": "markdown",
   "metadata": {},
   "source": [
    "There, appear to be a few outliers in the outcome. I need to remove them. "
   ]
  },
  {
   "cell_type": "code",
   "execution_count": 12,
   "metadata": {
    "scrolled": true
   },
   "outputs": [
    {
     "data": {
      "text/plain": [
       "count    14287.000000\n",
       "mean       138.899833\n",
       "std         77.230981\n",
       "min         15.297059\n",
       "25%         92.754380\n",
       "50%        131.174502\n",
       "75%        168.789810\n",
       "max        692.924579\n",
       "Name: REALINCSQRT, dtype: float64"
      ]
     },
     "execution_count": 12,
     "metadata": {},
     "output_type": "execute_result"
    }
   ],
   "source": [
    "descr = list(work_mult['REALINCSQRT'].describe())\n",
    "# set outlier limit using IQR\n",
    "outlier = (descr[6] - descr[4]) * 1.5 + descr[6]\n",
    "work_mult['REALINCSQRT'].describe()"
   ]
  },
  {
   "cell_type": "code",
   "execution_count": 13,
   "metadata": {},
   "outputs": [],
   "source": [
    "new_inc = []\n",
    "for inc in work_mult['REALINCSQRT']:\n",
    "    if inc < outlier:\n",
    "        new_inc.append(inc)\n",
    "    else:\n",
    "        new_inc.append(-1)\n",
    "        \n",
    "work_mult['REALINCSQRT'] = new_inc"
   ]
  },
  {
   "cell_type": "code",
   "execution_count": 14,
   "metadata": {},
   "outputs": [],
   "source": [
    "work_mult = work_mult.drop(work_mult[work_mult['REALINCSQRT']==-1].index)"
   ]
  },
  {
   "cell_type": "code",
   "execution_count": 15,
   "metadata": {},
   "outputs": [
    {
     "name": "stdout",
     "output_type": "stream",
     "text": [
      "The outlier limit is 282.843\n"
     ]
    }
   ],
   "source": [
    "print('The outlier limit is',round(outlier,3))"
   ]
  },
  {
   "cell_type": "code",
   "execution_count": 16,
   "metadata": {},
   "outputs": [
    {
     "data": {
      "text/plain": [
       "(13827, 404)"
      ]
     },
     "execution_count": 16,
     "metadata": {},
     "output_type": "execute_result"
    }
   ],
   "source": [
    "work_mult.shape"
   ]
  },
  {
   "cell_type": "markdown",
   "metadata": {},
   "source": [
    "I am dropping all of the respondants who had an Income of more than $$(282.843)^{2}$$, or more than \\$80,000.  This results is me dropping only 404 out of the remaing 16,000 or so respondents. Not too many people had an income so high."
   ]
  },
  {
   "cell_type": "code",
   "execution_count": 17,
   "metadata": {},
   "outputs": [
    {
     "data": {
      "image/png": "[encoded data removed]",
      "text/plain": [
       "<Figure size 432x288 with 1 Axes>"
      ]
     },
     "metadata": {},
     "output_type": "display_data"
    }
   ],
   "source": [
    "plt.hist(work_mult['REALINCSQRT'])\n",
    "plt.title('Income Square Root Distribution')\n",
    "plt.show()"
   ]
  },
  {
   "cell_type": "markdown",
   "metadata": {},
   "source": [
    "This leaves me with a data with 13,000 rows, down from 24,000, of respondants applicable to this model investigation. The outcome now looks almost perfectly normally distributed as well.\n",
    "\n",
    "Now that have prepared the outcome for modeling, I must prepare my features as well."
   ]
  },
  {
   "cell_type": "markdown",
   "metadata": {},
   "source": [
    "# Cleaning Continuous Features\n",
    "\n",
    "I will start by cleaning the continuous features in my data. It is important to note that none of the variables here are completely continuous, but are integer based. Since the GSS is survey data, it is of course mostly categorical data. Still, I will treat the ordinal continuous variables as continuous since it will be more effective for linear modeling.\n",
    "\n",
    "I have 7 continuous features in my data set. Not too many out of 402 total. The continuous features are as follows:\n",
    "\n",
    "__EDUC__ is the respondant's education level in years of formal schooling (from 0-20), __SPEDUC__ is the respondant's spouse's education level, __PAEDUC__ is the respondant's Father's education level, __MAEDUC__ is the respondant's mothers's education level, __WEEKSWRK__ is the number of weeks per year the respondant works, and __HRS1__ is how many hours the respondant worked last week.\n",
    "\n",
    "But before I jump into testing each of these, there are a few continuous features I want to clean. "
   ]
  },
  {
   "cell_type": "code",
   "execution_count": 18,
   "metadata": {},
   "outputs": [],
   "source": [
    "continuous_feat = ['EDUC','SPEDUC','PAEDUC','MAEDUC','WEEKSWRK','HRS1']"
   ]
  },
  {
   "cell_type": "code",
   "execution_count": 19,
   "metadata": {},
   "outputs": [],
   "source": [
    "# drop respondants who have no age information\n",
    "work_mult = work_mult.drop(work_mult[work_mult['AGE']==99].index)\n",
    "work_mult.reset_index(drop=True,inplace=True)"
   ]
  },
  {
   "cell_type": "markdown",
   "metadata": {},
   "source": [
    "There were many people who did not give information about their own, spouse's, or parent's education. I will treat those missing answers as having zero education, under the theory that these people do not respond to this question because they were ashamed of their own low education level, do not know(missing parents), or did not apply (no spouse). \n",
    "\n",
    "All these relationships are well represented with a value of 0. I will also add a categorical variable to my data resprents people who gave no response, so my model can differ between a true education level of 0 and a 0 representing no data."
   ]
  },
  {
   "cell_type": "code",
   "execution_count": 20,
   "metadata": {},
   "outputs": [],
   "source": [
    "for ed in ['EDUC','SPEDUC','PAEDUC','MAEDUC']:\n",
    "    clean = []\n",
    "    no_data = []\n",
    "    for value in work_mult[ed]:\n",
    "        if value==97 or value==98 or value==99:\n",
    "            clean.append(0)\n",
    "            no_data.append(2)\n",
    "            \n",
    "        else:\n",
    "            clean.append(value)\n",
    "            no_data.append(1)\n",
    "    work_mult[ed] = clean   \n",
    "    work_mult['{}_NA'.format(ed)] = no_data       "
   ]
  },
  {
   "cell_type": "markdown",
   "metadata": {},
   "source": [
    "Set the values for people who did not respond of found this question to be non-applicable to zero weeks worked. Do the same for hours worked."
   ]
  },
  {
   "cell_type": "code",
   "execution_count": 21,
   "metadata": {},
   "outputs": [],
   "source": [
    "clean = []\n",
    "for value in work_mult['WEEKSWRK']:\n",
    "    if value == 98 or value == 99 or value ==-1:\n",
    "        clean.append(0)\n",
    "    else:\n",
    "        clean.append(value)\n",
    "        \n",
    "work_mult['WEEKSWRK'] = clean"
   ]
  },
  {
   "cell_type": "code",
   "execution_count": 22,
   "metadata": {},
   "outputs": [],
   "source": [
    "clean = []\n",
    "for value in work_mult['HRS1']:\n",
    "    if value == 98 or value == 99 or value ==-1:\n",
    "        clean.append(0)\n",
    "    else:\n",
    "        clean.append(value)\n",
    "        \n",
    "work_mult['HRS1'] = clean"
   ]
  },
  {
   "cell_type": "markdown",
   "metadata": {},
   "source": [
    "## Visualizing Continuous Features\n",
    "\n",
    "Now that my continuous features have been appropriately cleaned, I will plot the relationship between each of them and the outcome, the square root of the income. Since I want to use these in a linear model, it is important that they have a near linear relationship with the outcome."
   ]
  },
  {
   "cell_type": "code",
   "execution_count": 23,
   "metadata": {
    "scrolled": false
   },
   "outputs": [
    {
     "data": {
      "image/png": "[encoded data removed]",
      "text/plain": [
       "<Figure size 576x288 with 1 Axes>"
      ]
     },
     "metadata": {},
     "output_type": "display_data"
    },
    {
     "data": {
      "image/png": "[encoded data removed]",
      "text/plain": [
       "<Figure size 576x288 with 1 Axes>"
      ]
     },
     "metadata": {},
     "output_type": "display_data"
    },
    {
     "data": {
      "image/png": "[encoded data removed]",
      "text/plain": [
       "<Figure size 576x288 with 1 Axes>"
      ]
     },
     "metadata": {},
     "output_type": "display_data"
    },
    {
     "data": {
      "image/png": "[encoded data removed]",
      "text/plain": [
       "<Figure size 576x288 with 1 Axes>"
      ]
     },
     "metadata": {},
     "output_type": "display_data"
    },
    {
     "data": {
      "image/png": "[encoded data removed]",
      "text/plain": [
       "<Figure size 576x288 with 1 Axes>"
      ]
     },
     "metadata": {},
     "output_type": "display_data"
    },
    {
     "data": {
      "image/png": "[encoded data removed]",
      "text/plain": [
       "<Figure size 576x288 with 1 Axes>"
      ]
     },
     "metadata": {},
     "output_type": "display_data"
    }
   ],
   "source": [
    "for feature in continuous_feat:\n",
    "    fig, ax = plt.subplots(figsize=(8,4))\n",
    "    sns.axes_style(\"white\")\n",
    "    plt.tick_params(zorder=2.0)\n",
    "    sns.pointplot(x=feature,\n",
    "                  y=\"REALINCSQRT\",\n",
    "                  data=work_mult,\n",
    "                  alpha=0.1,\n",
    "                  palette=sns.color_palette(\"hls\", 20),\n",
    "                  ax=ax)\n",
    "    plt.title('Feature: {} vs Income Square Root'.format(feature))\n",
    "    plt.ylabel('Income (USD)')\n",
    "    plt.ylim(bottom=0)\n",
    "    plt.show()"
   ]
  },
  {
   "cell_type": "markdown",
   "metadata": {},
   "source": [
    "All of the features appear the be somewhat linearly related to the outcome. \n",
    "\n",
    "Now that I have features which could be used in modeling, I am going to intiate a data frame to hold my features and add any of the continuous features with sufficient correlation with the outcome."
   ]
  },
  {
   "cell_type": "code",
   "execution_count": 24,
   "metadata": {},
   "outputs": [],
   "source": [
    "# initiate dataset to hold possible modeling features\n",
    "features = pd.DataFrame(index=work_mult.index)"
   ]
  },
  {
   "cell_type": "code",
   "execution_count": 25,
   "metadata": {},
   "outputs": [
    {
     "data": {
      "text/plain": [
       "array([[1.        , 0.17442638],\n",
       "       [0.17442638, 1.        ]])"
      ]
     },
     "execution_count": 25,
     "metadata": {},
     "output_type": "execute_result"
    }
   ],
   "source": [
    "np.corrcoef(work_mult['AGE'],work_mult['REALINCSQRT'])"
   ]
  },
  {
   "cell_type": "code",
   "execution_count": 26,
   "metadata": {},
   "outputs": [],
   "source": [
    "contin = []\n",
    "for feature in continuous_feat:\n",
    "    a,b = np.corrcoef(work_mult[feature],work_mult['REALINCSQRT'])\n",
    "    contin.append(a[1])"
   ]
  },
  {
   "cell_type": "code",
   "execution_count": 27,
   "metadata": {},
   "outputs": [],
   "source": [
    "cont = pd.DataFrame()\n",
    "cont[\"Feature\"] = continuous_feat\n",
    "cont[\"Coefficient\"] = contin"
   ]
  },
  {
   "cell_type": "code",
   "execution_count": 28,
   "metadata": {
    "scrolled": true
   },
   "outputs": [
    {
     "data": {
      "text/html": [
       "<div>\n",
       "<style scoped>\n",
       "    .dataframe tbody tr th:only-of-type {\n",
       "        vertical-align: middle;\n",
       "    }\n",
       "\n",
       "    .dataframe tbody tr th {\n",
       "        vertical-align: top;\n",
       "    }\n",
       "\n",
       "    .dataframe thead th {\n",
       "        text-align: right;\n",
       "    }\n",
       "</style>\n",
       "<table border=\"1\" class=\"dataframe\">\n",
       "  <thead>\n",
       "    <tr style=\"text-align: right;\">\n",
       "      <th></th>\n",
       "      <th>Feature</th>\n",
       "      <th>Coefficient</th>\n",
       "    </tr>\n",
       "  </thead>\n",
       "  <tbody>\n",
       "    <tr>\n",
       "      <th>0</th>\n",
       "      <td>EDUC</td>\n",
       "      <td>0.328511</td>\n",
       "    </tr>\n",
       "    <tr>\n",
       "      <th>1</th>\n",
       "      <td>SPEDUC</td>\n",
       "      <td>0.197911</td>\n",
       "    </tr>\n",
       "    <tr>\n",
       "      <th>2</th>\n",
       "      <td>PAEDUC</td>\n",
       "      <td>0.145723</td>\n",
       "    </tr>\n",
       "    <tr>\n",
       "      <th>4</th>\n",
       "      <td>WEEKSWRK</td>\n",
       "      <td>0.277781</td>\n",
       "    </tr>\n",
       "    <tr>\n",
       "      <th>5</th>\n",
       "      <td>HRS1</td>\n",
       "      <td>0.380359</td>\n",
       "    </tr>\n",
       "  </tbody>\n",
       "</table>\n",
       "</div>"
      ],
      "text/plain": [
       "    Feature  Coefficient\n",
       "0      EDUC     0.328511\n",
       "1    SPEDUC     0.197911\n",
       "2    PAEDUC     0.145723\n",
       "4  WEEKSWRK     0.277781\n",
       "5      HRS1     0.380359"
      ]
     },
     "execution_count": 28,
     "metadata": {},
     "output_type": "execute_result"
    }
   ],
   "source": [
    "# continuous like features that correalate well\n",
    "cont[abs(cont['Coefficient'])>.1].head()"
   ]
  },
  {
   "cell_type": "code",
   "execution_count": 29,
   "metadata": {},
   "outputs": [],
   "source": [
    "for feat in list(cont.Feature[abs(cont['Coefficient'])>.1]):\n",
    "    features['{}'.format(feat)] = work_mult[feat]"
   ]
  },
  {
   "cell_type": "code",
   "execution_count": 30,
   "metadata": {},
   "outputs": [
    {
     "data": {
      "text/html": [
       "<div>\n",
       "<style scoped>\n",
       "    .dataframe tbody tr th:only-of-type {\n",
       "        vertical-align: middle;\n",
       "    }\n",
       "\n",
       "    .dataframe tbody tr th {\n",
       "        vertical-align: top;\n",
       "    }\n",
       "\n",
       "    .dataframe thead th {\n",
       "        text-align: right;\n",
       "    }\n",
       "</style>\n",
       "<table border=\"1\" class=\"dataframe\">\n",
       "  <thead>\n",
       "    <tr style=\"text-align: right;\">\n",
       "      <th></th>\n",
       "      <th>EDUC</th>\n",
       "      <th>SPEDUC</th>\n",
       "      <th>PAEDUC</th>\n",
       "      <th>WEEKSWRK</th>\n",
       "      <th>HRS1</th>\n",
       "    </tr>\n",
       "  </thead>\n",
       "  <tbody>\n",
       "    <tr>\n",
       "      <th>0</th>\n",
       "      <td>12.0</td>\n",
       "      <td>0.0</td>\n",
       "      <td>8.0</td>\n",
       "      <td>52.0</td>\n",
       "      <td>42.0</td>\n",
       "    </tr>\n",
       "    <tr>\n",
       "      <th>1</th>\n",
       "      <td>12.0</td>\n",
       "      <td>12.0</td>\n",
       "      <td>0.0</td>\n",
       "      <td>48.0</td>\n",
       "      <td>30.0</td>\n",
       "    </tr>\n",
       "    <tr>\n",
       "      <th>2</th>\n",
       "      <td>18.0</td>\n",
       "      <td>16.0</td>\n",
       "      <td>16.0</td>\n",
       "      <td>52.0</td>\n",
       "      <td>5.0</td>\n",
       "    </tr>\n",
       "    <tr>\n",
       "      <th>3</th>\n",
       "      <td>11.0</td>\n",
       "      <td>8.0</td>\n",
       "      <td>5.0</td>\n",
       "      <td>40.0</td>\n",
       "      <td>30.0</td>\n",
       "    </tr>\n",
       "    <tr>\n",
       "      <th>4</th>\n",
       "      <td>12.0</td>\n",
       "      <td>9.0</td>\n",
       "      <td>8.0</td>\n",
       "      <td>48.0</td>\n",
       "      <td>80.0</td>\n",
       "    </tr>\n",
       "  </tbody>\n",
       "</table>\n",
       "</div>"
      ],
      "text/plain": [
       "   EDUC  SPEDUC  PAEDUC  WEEKSWRK  HRS1\n",
       "0  12.0     0.0     8.0      52.0  42.0\n",
       "1  12.0    12.0     0.0      48.0  30.0\n",
       "2  18.0    16.0    16.0      52.0   5.0\n",
       "3  11.0     8.0     5.0      40.0  30.0\n",
       "4  12.0     9.0     8.0      48.0  80.0"
      ]
     },
     "execution_count": 30,
     "metadata": {},
     "output_type": "execute_result"
    }
   ],
   "source": [
    "features.head()"
   ]
  },
  {
   "cell_type": "markdown",
   "metadata": {},
   "source": [
    "Now the GSS continuous features are clean, I can move on to the categorical features."
   ]
  },
  {
   "cell_type": "markdown",
   "metadata": {},
   "source": [
    "# Categorial Features\n",
    "\n",
    "Now I will clean the categorial features. There are many more categorical features than continuous, almost 400. There are so many features, it is much quicker to talk about the features I dropped, that the ones I did not.\n",
    "\n",
    "__YEAR__, __ID__, __DATEINTV__, __SAMPCODE__, __VSTRAT__, __WTSS__, __WTSSNR__, and __WTSSALL__ are all clerical features which have not place in modeling. \n",
    "\n",
    "__AGE__ is being thrown out because it is being used as the control for my mixed effect model. __COHORT__ (Birthyear) is being thrown out because it represents much the same thing.\n",
    "\n",
    "__SIZE__ (Size of respondant's house) is being thrown out because it is represented in other variables and is misleading as houses cost very different in different areas.\n",
    "\n",
    "__NUMMEM__ and __NUMWOMEN__, the numbr of men and women respective the respondent has slept with, is being thrown out because they have hard to detect nulls.\n",
    "\n",
    "__OTHER__ and __OTH16__ refer to whether of not the respondent a Jehovah's Witness, far too niche for modeling.\n",
    "\n",
    "__PRESTG10__ and __PRESTG105PLUS__, are a little different. They are not responses, but filled in by the GSS survey keepers. They are based on the Census Occupation-Prestige Score of the respondent. This number takes the occupation of the respondent, their parents, and their spouse (if applicable). It then quantifies a person's \"occupation-based\" social status in a ranked way. PRESTG10 is the actual number (16-80) while PRESTG105PLUS is scaled with more transitive ranks (1-99). Though these are very interesting features, and I'm sure would make for a very accurate model, I will not be using them here as it they are made from too many features. If prestige becomes an important factor, I will not be sure just want component of prestige is the most important part.\n",
    "\n",
    "__RACE__ (respondent race) and __HHRACE__ (race of respondent's household) are being dropped because they both represent respondent racial information, which is better captured in the other feature, RACECEN1, which will be kept.\n",
    "\n",
    "__FINRELA__, __SATFIN__, and __FINALTER__ all relate to the respondent's answers to questions about their financial stability and satisfaction. While these may be perfectly good features for accuracy in predicting income, it will not be valuable or interesting for me to conclude that someone who thinks they make little money makes little money. So I will throw these 'obvious' features out."
   ]
  },
  {
   "cell_type": "code",
   "execution_count": 31,
   "metadata": {},
   "outputs": [],
   "source": [
    "dropped_feat = ['YEAR','ID','DATEINTV','AGE','COHORT','SIZE','NUMMEN','NUMWOMEN','OTHER','OTH16','SAMPCODE','VSTRAT','PRESTG10',\n",
    "                'PRESTG105PLUS','WTSS','WTSSNR','WTSSALL','HHTYPE','RESPNUM','RACE','HHRACE','FINRELA','SATFIN','FINALTER']"
   ]
  },
  {
   "cell_type": "markdown",
   "metadata": {},
   "source": [
    "## Occupational and Industrial Codes\n",
    "\n",
    "Before I get to selecting all the categorical features, I want to look at the OCC10 and INDUS10 features. They both represent the Occupational and Industrial code of the respondants, and there is data on the occupational and industrial codes of the respondent's spouse and parent's as well. Howevever, these values are a little too specific, they range from 0-9999 and contain detailed information about every type of job someone can have. "
   ]
  },
  {
   "cell_type": "code",
   "execution_count": 32,
   "metadata": {},
   "outputs": [
    {
     "data": {
      "text/plain": [
       "count    13802.000000\n",
       "mean      4288.664976\n",
       "std       2586.962770\n",
       "min          0.000000\n",
       "25%       2310.000000\n",
       "50%       4230.000000\n",
       "75%       5800.000000\n",
       "max       9999.000000\n",
       "Name: OCC10, dtype: float64"
      ]
     },
     "execution_count": 32,
     "metadata": {},
     "output_type": "execute_result"
    }
   ],
   "source": [
    "work_mult['OCC10'].describe()"
   ]
  },
  {
   "cell_type": "code",
   "execution_count": 33,
   "metadata": {},
   "outputs": [
    {
     "data": {
      "text/plain": [
       "count    13802.000000\n",
       "mean      6312.440516\n",
       "std       2709.022014\n",
       "min          0.000000\n",
       "25%       4770.000000\n",
       "50%       7380.000000\n",
       "75%       8270.000000\n",
       "max       9999.000000\n",
       "Name: INDUS10, dtype: float64"
      ]
     },
     "execution_count": 33,
     "metadata": {},
     "output_type": "execute_result"
    }
   ],
   "source": [
    "work_mult['INDUS10'].describe()"
   ]
  },
  {
   "cell_type": "markdown",
   "metadata": {},
   "source": [
    "Though this level of specificity is nice, I would also like to see how more general occupational and industrial trends shape income. I will create and additional feature that represents a grouping of the Occupational and Industrial codes. \n",
    "\n",
    "The new OCCG range will be from 1-6, representing: Management, Service employees, Office workers, Contruction/Maintenance workers, Production/Transportation workers, and everyone else.\n",
    "  \n",
    "The INDUSG range will be from 1-17; representing: Agriculture, Mining, Utilities, Construction, Manufacturing, Trade, Transportation, Information, Financial, Proffessional/Technical Services, Management/Admin/Waste Service, Education/Health Service, Leisure Services, Other Services, Public Administration, Military, and any other unrepresented industry.\n",
    "\n",
    "I'll define my cleaning method here."
   ]
  },
  {
   "cell_type": "code",
   "execution_count": 34,
   "metadata": {},
   "outputs": [],
   "source": [
    "# group occ code\n",
    "def GroupOCC(feat):\n",
    "    grouped = []\n",
    "    for num in feat:\n",
    "        if num in range(10,3550):\n",
    "            # MANAGEMENT, PROFESSIONAL, AND RELATED OCCUPATIONS\n",
    "            grouped.append(1)\n",
    "        elif num in range(3600,4660):\n",
    "            # SERVICE OCCUPATIONS\n",
    "            grouped.append(2)\n",
    "        elif num in range(4700,5950):\n",
    "            # SALES AND OFFICE OCCUPATIONS\n",
    "            grouped.append(3)\n",
    "        elif num in range(6000,7640):\n",
    "            # NATURAL RESOURCES, CONSTRUCTION, AND MAINTENANCE OCCUPATIONS\n",
    "            grouped.append(4)\n",
    "        elif num in range(7700,9760):\n",
    "            # PRODUCTION, TRANSPORTATION, AND MATERIAL MOVING OCCUPATIONS\n",
    "            grouped.append(5)\n",
    "        else:\n",
    "            grouped.append(0)\n",
    "\n",
    "        \n",
    "    return grouped"
   ]
  },
  {
   "cell_type": "code",
   "execution_count": 35,
   "metadata": {},
   "outputs": [],
   "source": [
    "# respondant's industrial code\n",
    "def GroupINDUS(feat):\n",
    "    grouped = []\n",
    "    for num in feat:\n",
    "        if num in range(160,300):\n",
    "            # AGRICULTURE, FORESTRY, AND FISHERIES\n",
    "            grouped.append(1)\n",
    "        elif num in range(360,500):\n",
    "            # MINING\n",
    "            grouped.append(2)\n",
    "        elif num in range(560,700):\n",
    "            # UTILITIES\n",
    "            grouped.append(3)\n",
    "        elif num in range(760,800):\n",
    "            # CONSTRUCTION\n",
    "            grouped.append(4)\n",
    "        elif num in range(1060,4000):\n",
    "            # MANUFACTURING\n",
    "            grouped.append(5)\n",
    "        elif num in range(4060,6000):\n",
    "            # WHOLESALE TRADE AND RETAIL TRADE\n",
    "            grouped.append(6)\n",
    "        elif num in range(6060,6400):\n",
    "            # TRANSPORTATION\n",
    "            grouped.append(7)\n",
    "        elif num in range(6460,6800):\n",
    "            # INFORMATION\n",
    "            grouped.append(8)\n",
    "        elif num in range(6870,7200):\n",
    "            # FINANCIAL ACTIVITIES\n",
    "            grouped.append(9)\n",
    "        elif num in range(7260,7500):\n",
    "            # PROFESSIONAL AND TECHNICAL SERVICES\n",
    "            grouped.append(10)\n",
    "        elif num in range(7560,8000):\n",
    "            # MANAGEMENT, ADMINISTRATIVE, AND WASTE SERVICES\n",
    "            grouped.append(11)\n",
    "        elif num in range(7850,8480):\n",
    "            # EDUCATION AND HEALTH SERVICES\n",
    "            grouped.append(12)\n",
    "        elif num in range(8550,8700):\n",
    "            # LEISURE AND HOSPITALITY\n",
    "            grouped.append(13)\n",
    "        elif num in range(8760,9300):\n",
    "            # OTHER SERVICES\n",
    "            grouped.append(14)\n",
    "        elif num in range(9360,9600):\n",
    "            # PUBLIC ADMINISTRATION\n",
    "            grouped.append(15)\n",
    "        elif num in range(9660,9880):\n",
    "            # ACTIVE DUTY MILITARY PERSONNEL (NO CIVILIAN EMPLOYEES)\n",
    "            grouped.append(16)\n",
    "        else:\n",
    "            grouped.append(17)\n",
    "\n",
    "    return grouped"
   ]
  },
  {
   "cell_type": "markdown",
   "metadata": {},
   "source": [
    "Now I'll created grouped Occupation and Education codes for respondants, their spouses, and their parents."
   ]
  },
  {
   "cell_type": "markdown",
   "metadata": {},
   "source": [
    "### Respondant"
   ]
  },
  {
   "cell_type": "code",
   "execution_count": 36,
   "metadata": {},
   "outputs": [],
   "source": [
    "work_mult['OCCG'] = GroupOCC(work_mult['OCC10'])"
   ]
  },
  {
   "cell_type": "code",
   "execution_count": 37,
   "metadata": {},
   "outputs": [],
   "source": [
    "work_mult['INDUSG'] = GroupINDUS(work_mult['INDUS10'])"
   ]
  },
  {
   "cell_type": "markdown",
   "metadata": {},
   "source": [
    "### Spouse"
   ]
  },
  {
   "cell_type": "code",
   "execution_count": 38,
   "metadata": {},
   "outputs": [],
   "source": [
    "work_mult['SPOCCG'] = GroupOCC(work_mult['SPOCC10'])"
   ]
  },
  {
   "cell_type": "code",
   "execution_count": 39,
   "metadata": {},
   "outputs": [],
   "source": [
    "work_mult['SPINDG'] = GroupINDUS(work_mult['SPIND10'])"
   ]
  },
  {
   "cell_type": "markdown",
   "metadata": {},
   "source": [
    "### Mother"
   ]
  },
  {
   "cell_type": "code",
   "execution_count": 40,
   "metadata": {},
   "outputs": [],
   "source": [
    "work_mult['MAOCCG'] = GroupOCC(work_mult['MAOCC10'])"
   ]
  },
  {
   "cell_type": "code",
   "execution_count": 41,
   "metadata": {},
   "outputs": [],
   "source": [
    "work_mult['MAINDG'] = GroupINDUS(work_mult['MAIND10'])"
   ]
  },
  {
   "cell_type": "markdown",
   "metadata": {},
   "source": [
    "### Father"
   ]
  },
  {
   "cell_type": "code",
   "execution_count": 42,
   "metadata": {},
   "outputs": [],
   "source": [
    "work_mult['PAOCCG'] = GroupOCC(work_mult['PAOCC10'])"
   ]
  },
  {
   "cell_type": "code",
   "execution_count": 43,
   "metadata": {},
   "outputs": [],
   "source": [
    "work_mult['PAINDG'] = GroupINDUS(work_mult['PAIND10'])"
   ]
  },
  {
   "cell_type": "markdown",
   "metadata": {},
   "source": [
    "Now that I have all the categorical features I want to look at for modeling, I will create a new data frame for the categorical GSS features of interest."
   ]
  },
  {
   "cell_type": "code",
   "execution_count": 44,
   "metadata": {},
   "outputs": [],
   "source": [
    "income_feat = ['INCOME','RINCOME','CONINC','CONRINC','REALINC','REALRINC','REALINCSQRT']"
   ]
  },
  {
   "cell_type": "code",
   "execution_count": 45,
   "metadata": {},
   "outputs": [],
   "source": [
    "work_drop = work_mult.drop(dropped_feat+income_feat,1)"
   ]
  },
  {
   "cell_type": "markdown",
   "metadata": {},
   "source": [
    "## Dropping Relation Features\n",
    "\n",
    "I will also drop the features that describe the relationship the respondent has the the other members of their household. Any income affecting relationships from these variables would be too soophisticated to model with my limited processing power."
   ]
  },
  {
   "cell_type": "code",
   "execution_count": 46,
   "metadata": {},
   "outputs": [],
   "source": [
    "words = ['RELATE','GENDER','OLD','MAR','AWAY','WHERE']\n",
    "words_col = []\n",
    "for i in range(1,13):\n",
    "    for word in words:\n",
    "        words_col.append(word+str(i))\n",
    "    "
   ]
  },
  {
   "cell_type": "code",
   "execution_count": 47,
   "metadata": {},
   "outputs": [],
   "source": [
    "for word in words_col:\n",
    "    if word in work_drop.columns:\n",
    "        del work_drop[word]"
   ]
  },
  {
   "cell_type": "markdown",
   "metadata": {},
   "source": [
    "## Finding Problem Features\n",
    "\n",
    "I will now search through the categorical feature columns and find those which features which could be useful for modeling. \n",
    "\n",
    "I will throw out any column which has more than one fourth null or non-applicable responses, whose columns were more than 20% not applicable responses, or were dominated by at least 90% or more by one value. "
   ]
  },
  {
   "cell_type": "code",
   "execution_count": 48,
   "metadata": {},
   "outputs": [],
   "source": [
    "prob_cols = []\n",
    "for feature in work_drop.columns:\n",
    "    normals = work_drop[feature].value_counts(normalize=True)\n",
    "    max_ = max(work_drop[feature])\n",
    "    # throw out columns many did not answer\n",
    "    if max_ == 9:\n",
    "        try:\n",
    "            a = normals[8] + normals[9]\n",
    "            if a > 0.25:\n",
    "                prob_cols.append(feature)\n",
    "        except:\n",
    "            a = normals[9]\n",
    "            if a > 0.25:\n",
    "                prob_cols.append(feature)\n",
    "    elif max_ == 99:\n",
    "        try:\n",
    "            a = normals[98] + normals[99]\n",
    "            if a > 0.25:\n",
    "                prob_cols.append(feature)\n",
    "        except:\n",
    "            a = normals[99]\n",
    "            if a > 0.25:\n",
    "                prob_cols.append(feature)\n",
    "    elif max_ == 999:\n",
    "        try:\n",
    "            a = normals[998] + normals[999]\n",
    "            if a > 0.25:\n",
    "                prob_cols.append(feature)\n",
    "        except:\n",
    "            a = normals[999]\n",
    "            if a > 0.25:\n",
    "                prob_cols.append(feature)\n",
    "    \n",
    "    # throw out columns which were N/A for many\n",
    "    try:\n",
    "        a = normals[-1]\n",
    "        if a > 0.2:\n",
    "            prob_cols.append(feature)\n",
    "    except:\n",
    "        pass\n",
    "    \n",
    "    # throw out columns which were N/A for many\n",
    "    try:\n",
    "        b = normals[0]\n",
    "        if b > 0.2:\n",
    "            prob_cols.append(feature)\n",
    "    except:\n",
    "        pass\n",
    "        \n",
    "    # throw out columns dominate by one value\n",
    "    for n in normals:\n",
    "        if n > 0.9:\n",
    "            prob_cols.append(feature)"
   ]
  },
  {
   "cell_type": "code",
   "execution_count": 49,
   "metadata": {},
   "outputs": [],
   "source": [
    "prob_cols = list(set(prob_cols))"
   ]
  },
  {
   "cell_type": "code",
   "execution_count": 50,
   "metadata": {},
   "outputs": [
    {
     "name": "stdout",
     "output_type": "stream",
     "text": [
      "There are  261  features which had too many null values\n"
     ]
    }
   ],
   "source": [
    "print('There are ',len(prob_cols),' features which had too many null values')"
   ]
  },
  {
   "cell_type": "code",
   "execution_count": 51,
   "metadata": {},
   "outputs": [],
   "source": [
    "work_drop = work_drop.drop(prob_cols, 1)"
   ]
  },
  {
   "cell_type": "code",
   "execution_count": 52,
   "metadata": {},
   "outputs": [
    {
     "data": {
      "text/html": [
       "<div>\n",
       "<style scoped>\n",
       "    .dataframe tbody tr th:only-of-type {\n",
       "        vertical-align: middle;\n",
       "    }\n",
       "\n",
       "    .dataframe tbody tr th {\n",
       "        vertical-align: top;\n",
       "    }\n",
       "\n",
       "    .dataframe thead th {\n",
       "        text-align: right;\n",
       "    }\n",
       "</style>\n",
       "<table border=\"1\" class=\"dataframe\">\n",
       "  <thead>\n",
       "    <tr style=\"text-align: right;\">\n",
       "      <th></th>\n",
       "      <th>BORN</th>\n",
       "      <th>HHTYPE1</th>\n",
       "      <th>DWELLING</th>\n",
       "      <th>FAMILY16</th>\n",
       "      <th>NATSOC</th>\n",
       "      <th>COMPREND</th>\n",
       "      <th>WRKGOVT</th>\n",
       "      <th>RACLIVE</th>\n",
       "      <th>HEFINFO</th>\n",
       "      <th>MAWRKGRW</th>\n",
       "      <th>...</th>\n",
       "      <th>RELATSEX</th>\n",
       "      <th>FORM</th>\n",
       "      <th>SPEDUC_NA</th>\n",
       "      <th>PAEDUC_NA</th>\n",
       "      <th>MAEDUC_NA</th>\n",
       "      <th>OCCG</th>\n",
       "      <th>INDUSG</th>\n",
       "      <th>SPINDG</th>\n",
       "      <th>MAINDG</th>\n",
       "      <th>PAINDG</th>\n",
       "    </tr>\n",
       "  </thead>\n",
       "  <tbody>\n",
       "    <tr>\n",
       "      <th>0</th>\n",
       "      <td>1.0</td>\n",
       "      <td>4.0</td>\n",
       "      <td>2.0</td>\n",
       "      <td>1.0</td>\n",
       "      <td>8.0</td>\n",
       "      <td>1.0</td>\n",
       "      <td>2.0</td>\n",
       "      <td>1.0</td>\n",
       "      <td>1.0</td>\n",
       "      <td>1.0</td>\n",
       "      <td>...</td>\n",
       "      <td>1.0</td>\n",
       "      <td>1.0</td>\n",
       "      <td>2</td>\n",
       "      <td>1</td>\n",
       "      <td>1</td>\n",
       "      <td>5</td>\n",
       "      <td>5</td>\n",
       "      <td>17</td>\n",
       "      <td>6</td>\n",
       "      <td>5</td>\n",
       "    </tr>\n",
       "    <tr>\n",
       "      <th>1</th>\n",
       "      <td>1.0</td>\n",
       "      <td>11.0</td>\n",
       "      <td>2.0</td>\n",
       "      <td>5.0</td>\n",
       "      <td>1.0</td>\n",
       "      <td>1.0</td>\n",
       "      <td>2.0</td>\n",
       "      <td>2.0</td>\n",
       "      <td>2.0</td>\n",
       "      <td>1.0</td>\n",
       "      <td>...</td>\n",
       "      <td>0.0</td>\n",
       "      <td>1.0</td>\n",
       "      <td>1</td>\n",
       "      <td>2</td>\n",
       "      <td>1</td>\n",
       "      <td>2</td>\n",
       "      <td>12</td>\n",
       "      <td>4</td>\n",
       "      <td>12</td>\n",
       "      <td>17</td>\n",
       "    </tr>\n",
       "    <tr>\n",
       "      <th>2</th>\n",
       "      <td>1.0</td>\n",
       "      <td>1.0</td>\n",
       "      <td>2.0</td>\n",
       "      <td>1.0</td>\n",
       "      <td>2.0</td>\n",
       "      <td>1.0</td>\n",
       "      <td>2.0</td>\n",
       "      <td>2.0</td>\n",
       "      <td>2.0</td>\n",
       "      <td>1.0</td>\n",
       "      <td>...</td>\n",
       "      <td>1.0</td>\n",
       "      <td>2.0</td>\n",
       "      <td>1</td>\n",
       "      <td>1</td>\n",
       "      <td>1</td>\n",
       "      <td>3</td>\n",
       "      <td>6</td>\n",
       "      <td>10</td>\n",
       "      <td>10</td>\n",
       "      <td>10</td>\n",
       "    </tr>\n",
       "    <tr>\n",
       "      <th>3</th>\n",
       "      <td>2.0</td>\n",
       "      <td>11.0</td>\n",
       "      <td>4.0</td>\n",
       "      <td>1.0</td>\n",
       "      <td>1.0</td>\n",
       "      <td>1.0</td>\n",
       "      <td>1.0</td>\n",
       "      <td>1.0</td>\n",
       "      <td>1.0</td>\n",
       "      <td>1.0</td>\n",
       "      <td>...</td>\n",
       "      <td>1.0</td>\n",
       "      <td>1.0</td>\n",
       "      <td>1</td>\n",
       "      <td>1</td>\n",
       "      <td>1</td>\n",
       "      <td>2</td>\n",
       "      <td>12</td>\n",
       "      <td>13</td>\n",
       "      <td>13</td>\n",
       "      <td>13</td>\n",
       "    </tr>\n",
       "    <tr>\n",
       "      <th>4</th>\n",
       "      <td>2.0</td>\n",
       "      <td>11.0</td>\n",
       "      <td>3.0</td>\n",
       "      <td>1.0</td>\n",
       "      <td>2.0</td>\n",
       "      <td>1.0</td>\n",
       "      <td>2.0</td>\n",
       "      <td>1.0</td>\n",
       "      <td>1.0</td>\n",
       "      <td>1.0</td>\n",
       "      <td>...</td>\n",
       "      <td>0.0</td>\n",
       "      <td>1.0</td>\n",
       "      <td>1</td>\n",
       "      <td>1</td>\n",
       "      <td>1</td>\n",
       "      <td>2</td>\n",
       "      <td>12</td>\n",
       "      <td>12</td>\n",
       "      <td>14</td>\n",
       "      <td>6</td>\n",
       "    </tr>\n",
       "  </tbody>\n",
       "</table>\n",
       "<p>5 rows × 83 columns</p>\n",
       "</div>"
      ],
      "text/plain": [
       "   BORN  HHTYPE1  DWELLING  FAMILY16  NATSOC  COMPREND  WRKGOVT  RACLIVE  \\\n",
       "0   1.0      4.0       2.0       1.0     8.0       1.0      2.0      1.0   \n",
       "1   1.0     11.0       2.0       5.0     1.0       1.0      2.0      2.0   \n",
       "2   1.0      1.0       2.0       1.0     2.0       1.0      2.0      2.0   \n",
       "3   2.0     11.0       4.0       1.0     1.0       1.0      1.0      1.0   \n",
       "4   2.0     11.0       3.0       1.0     2.0       1.0      2.0      1.0   \n",
       "\n",
       "   HEFINFO  MAWRKGRW   ...    RELATSEX  FORM  SPEDUC_NA  PAEDUC_NA  MAEDUC_NA  \\\n",
       "0      1.0       1.0   ...         1.0   1.0          2          1          1   \n",
       "1      2.0       1.0   ...         0.0   1.0          1          2          1   \n",
       "2      2.0       1.0   ...         1.0   2.0          1          1          1   \n",
       "3      1.0       1.0   ...         1.0   1.0          1          1          1   \n",
       "4      1.0       1.0   ...         0.0   1.0          1          1          1   \n",
       "\n",
       "   OCCG  INDUSG  SPINDG  MAINDG  PAINDG  \n",
       "0     5       5      17       6       5  \n",
       "1     2      12       4      12      17  \n",
       "2     3       6      10      10      10  \n",
       "3     2      12      13      13      13  \n",
       "4     2      12      12      14       6  \n",
       "\n",
       "[5 rows x 83 columns]"
      ]
     },
     "execution_count": 52,
     "metadata": {},
     "output_type": "execute_result"
    }
   ],
   "source": [
    "work_drop.head()"
   ]
  },
  {
   "cell_type": "markdown",
   "metadata": {},
   "source": [
    "I have selected the features who have the appropriate amount of response density for descriptive modeling. \n",
    "\n",
    "Now I will drop all the non response values for each of the selected features."
   ]
  },
  {
   "cell_type": "code",
   "execution_count": 53,
   "metadata": {},
   "outputs": [],
   "source": [
    "marital = work_mult['MARITAL'][work_drop.index]\n",
    "work_drop = work_drop.drop(work_drop[work_drop['MARITAL']==9].index)\n",
    "\n",
    "for feature in work_drop.columns:\n",
    "    clean_f = []\n",
    "    max_ = max(work_drop[feature])\n",
    "    try:  \n",
    "        mode = statistics.mode(work_drop[feature])\n",
    "    except:\n",
    "        mode=-1\n",
    "    for i in work_drop.index:\n",
    "        value = work_drop[feature][i]\n",
    "        if value == -1 or value == 0:\n",
    "            if marital[i] == 1:\n",
    "                clean_f.append(-1)\n",
    "            else:\n",
    "                clean_f.append(0)\n",
    "        elif max_ == 9999 and value == 9998 or value == 9999:\n",
    "            clean_f.append(mode)\n",
    "        elif max_ == 999 and value == 998 or value == 999:\n",
    "            clean_f.append(mode)\n",
    "        elif max_ == 99 and value == 98 or value == 99:\n",
    "            clean_f.append(mode)\n",
    "        elif max_ == 9 and value == 8 or value == 9:\n",
    "            clean_f.append(mode)\n",
    "        else:\n",
    "            clean_f.append(value)\n",
    "    \n",
    "    work_drop[feature] = clean_f\n",
    "        \n",
    "    work_drop = work_drop.drop(work_drop[work_drop[feature]==-1].index)"
   ]
  },
  {
   "cell_type": "markdown",
   "metadata": {},
   "source": [
    "## Creating Dummies\n",
    "\n",
    "With dropped null responses, my data is now 8929 respondants long and 83 categorical features accross. I have reduced the size of my data by quite a bit, but I have ensured that the data I do have is valuable.\n",
    "\n",
    "The next to do is to convert all of the categorial features into dummy variables. I intend to use Mixed Effect Linear modeling, and it does not handle non-binary categorical data very well."
   ]
  },
  {
   "cell_type": "code",
   "execution_count": 54,
   "metadata": {},
   "outputs": [
    {
     "data": {
      "text/plain": [
       "(8929, 83)"
      ]
     },
     "execution_count": 54,
     "metadata": {},
     "output_type": "execute_result"
    }
   ],
   "source": [
    "work_drop.shape"
   ]
  },
  {
   "cell_type": "code",
   "execution_count": 55,
   "metadata": {},
   "outputs": [],
   "source": [
    "features = features.iloc[list(work_drop.index),:]"
   ]
  },
  {
   "cell_type": "code",
   "execution_count": 56,
   "metadata": {},
   "outputs": [],
   "source": [
    "work_drop = work_drop.astype(str)"
   ]
  },
  {
   "cell_type": "code",
   "execution_count": 57,
   "metadata": {
    "scrolled": true
   },
   "outputs": [
    {
     "data": {
      "text/html": [
       "<div>\n",
       "<style scoped>\n",
       "    .dataframe tbody tr th:only-of-type {\n",
       "        vertical-align: middle;\n",
       "    }\n",
       "\n",
       "    .dataframe tbody tr th {\n",
       "        vertical-align: top;\n",
       "    }\n",
       "\n",
       "    .dataframe thead th {\n",
       "        text-align: right;\n",
       "    }\n",
       "</style>\n",
       "<table border=\"1\" class=\"dataframe\">\n",
       "  <thead>\n",
       "    <tr style=\"text-align: right;\">\n",
       "      <th></th>\n",
       "      <th>BORN_0.0</th>\n",
       "      <th>BORN_1.0</th>\n",
       "      <th>BORN_2.0</th>\n",
       "      <th>HHTYPE1_1.0</th>\n",
       "      <th>HHTYPE1_11.0</th>\n",
       "      <th>HHTYPE1_13.0</th>\n",
       "      <th>HHTYPE1_15.0</th>\n",
       "      <th>HHTYPE1_16.0</th>\n",
       "      <th>HHTYPE1_18.0</th>\n",
       "      <th>HHTYPE1_2.0</th>\n",
       "      <th>...</th>\n",
       "      <th>PAINDG_15</th>\n",
       "      <th>PAINDG_16</th>\n",
       "      <th>PAINDG_17</th>\n",
       "      <th>PAINDG_2</th>\n",
       "      <th>PAINDG_3</th>\n",
       "      <th>PAINDG_4</th>\n",
       "      <th>PAINDG_5</th>\n",
       "      <th>PAINDG_6</th>\n",
       "      <th>PAINDG_7</th>\n",
       "      <th>PAINDG_8</th>\n",
       "    </tr>\n",
       "  </thead>\n",
       "  <tbody>\n",
       "    <tr>\n",
       "      <th>0</th>\n",
       "      <td>0</td>\n",
       "      <td>1</td>\n",
       "      <td>0</td>\n",
       "      <td>0</td>\n",
       "      <td>0</td>\n",
       "      <td>0</td>\n",
       "      <td>0</td>\n",
       "      <td>0</td>\n",
       "      <td>0</td>\n",
       "      <td>0</td>\n",
       "      <td>...</td>\n",
       "      <td>0</td>\n",
       "      <td>0</td>\n",
       "      <td>0</td>\n",
       "      <td>0</td>\n",
       "      <td>0</td>\n",
       "      <td>0</td>\n",
       "      <td>1</td>\n",
       "      <td>0</td>\n",
       "      <td>0</td>\n",
       "      <td>0</td>\n",
       "    </tr>\n",
       "    <tr>\n",
       "      <th>2</th>\n",
       "      <td>0</td>\n",
       "      <td>1</td>\n",
       "      <td>0</td>\n",
       "      <td>1</td>\n",
       "      <td>0</td>\n",
       "      <td>0</td>\n",
       "      <td>0</td>\n",
       "      <td>0</td>\n",
       "      <td>0</td>\n",
       "      <td>0</td>\n",
       "      <td>...</td>\n",
       "      <td>0</td>\n",
       "      <td>0</td>\n",
       "      <td>0</td>\n",
       "      <td>0</td>\n",
       "      <td>0</td>\n",
       "      <td>0</td>\n",
       "      <td>0</td>\n",
       "      <td>0</td>\n",
       "      <td>0</td>\n",
       "      <td>0</td>\n",
       "    </tr>\n",
       "    <tr>\n",
       "      <th>6</th>\n",
       "      <td>0</td>\n",
       "      <td>1</td>\n",
       "      <td>0</td>\n",
       "      <td>0</td>\n",
       "      <td>0</td>\n",
       "      <td>0</td>\n",
       "      <td>0</td>\n",
       "      <td>0</td>\n",
       "      <td>0</td>\n",
       "      <td>0</td>\n",
       "      <td>...</td>\n",
       "      <td>0</td>\n",
       "      <td>0</td>\n",
       "      <td>0</td>\n",
       "      <td>0</td>\n",
       "      <td>0</td>\n",
       "      <td>0</td>\n",
       "      <td>0</td>\n",
       "      <td>0</td>\n",
       "      <td>1</td>\n",
       "      <td>0</td>\n",
       "    </tr>\n",
       "    <tr>\n",
       "      <th>7</th>\n",
       "      <td>0</td>\n",
       "      <td>1</td>\n",
       "      <td>0</td>\n",
       "      <td>0</td>\n",
       "      <td>0</td>\n",
       "      <td>0</td>\n",
       "      <td>1</td>\n",
       "      <td>0</td>\n",
       "      <td>0</td>\n",
       "      <td>0</td>\n",
       "      <td>...</td>\n",
       "      <td>0</td>\n",
       "      <td>0</td>\n",
       "      <td>0</td>\n",
       "      <td>0</td>\n",
       "      <td>0</td>\n",
       "      <td>0</td>\n",
       "      <td>0</td>\n",
       "      <td>1</td>\n",
       "      <td>0</td>\n",
       "      <td>0</td>\n",
       "    </tr>\n",
       "    <tr>\n",
       "      <th>9</th>\n",
       "      <td>0</td>\n",
       "      <td>1</td>\n",
       "      <td>0</td>\n",
       "      <td>0</td>\n",
       "      <td>0</td>\n",
       "      <td>0</td>\n",
       "      <td>0</td>\n",
       "      <td>0</td>\n",
       "      <td>0</td>\n",
       "      <td>0</td>\n",
       "      <td>...</td>\n",
       "      <td>0</td>\n",
       "      <td>0</td>\n",
       "      <td>0</td>\n",
       "      <td>0</td>\n",
       "      <td>0</td>\n",
       "      <td>0</td>\n",
       "      <td>0</td>\n",
       "      <td>0</td>\n",
       "      <td>0</td>\n",
       "      <td>0</td>\n",
       "    </tr>\n",
       "  </tbody>\n",
       "</table>\n",
       "<p>5 rows × 1497 columns</p>\n",
       "</div>"
      ],
      "text/plain": [
       "   BORN_0.0  BORN_1.0  BORN_2.0  HHTYPE1_1.0  HHTYPE1_11.0  HHTYPE1_13.0  \\\n",
       "0         0         1         0            0             0             0   \n",
       "2         0         1         0            1             0             0   \n",
       "6         0         1         0            0             0             0   \n",
       "7         0         1         0            0             0             0   \n",
       "9         0         1         0            0             0             0   \n",
       "\n",
       "   HHTYPE1_15.0  HHTYPE1_16.0  HHTYPE1_18.0  HHTYPE1_2.0    ...     PAINDG_15  \\\n",
       "0             0             0             0            0    ...             0   \n",
       "2             0             0             0            0    ...             0   \n",
       "6             0             0             0            0    ...             0   \n",
       "7             1             0             0            0    ...             0   \n",
       "9             0             0             0            0    ...             0   \n",
       "\n",
       "   PAINDG_16  PAINDG_17  PAINDG_2  PAINDG_3  PAINDG_4  PAINDG_5  PAINDG_6  \\\n",
       "0          0          0         0         0         0         1         0   \n",
       "2          0          0         0         0         0         0         0   \n",
       "6          0          0         0         0         0         0         0   \n",
       "7          0          0         0         0         0         0         1   \n",
       "9          0          0         0         0         0         0         0   \n",
       "\n",
       "   PAINDG_7  PAINDG_8  \n",
       "0         0         0  \n",
       "2         0         0  \n",
       "6         1         0  \n",
       "7         0         0  \n",
       "9         0         0  \n",
       "\n",
       "[5 rows x 1497 columns]"
      ]
     },
     "execution_count": 57,
     "metadata": {},
     "output_type": "execute_result"
    }
   ],
   "source": [
    "work_dums = pd.get_dummies(work_drop)\n",
    "work_dums.head()"
   ]
  },
  {
   "cell_type": "code",
   "execution_count": 58,
   "metadata": {},
   "outputs": [
    {
     "data": {
      "text/plain": [
       "(8929, 1497)"
      ]
     },
     "execution_count": 58,
     "metadata": {},
     "output_type": "execute_result"
    }
   ],
   "source": [
    "work_dums.shape"
   ]
  },
  {
   "cell_type": "markdown",
   "metadata": {},
   "source": [
    "By converting the categorical features into dummies, the 83 categorical features have been extended into 1497 dummy features. \n",
    "\n",
    "Once again, I will only add those dummy features to the possible modeling feature list if they have sufficient correlation with the outcome."
   ]
  },
  {
   "cell_type": "code",
   "execution_count": 59,
   "metadata": {},
   "outputs": [],
   "source": [
    "cor = []\n",
    "for dummy in work_dums.columns:\n",
    "    a,b = np.corrcoef(work_dums[dummy],work_mult['REALINCSQRT'][work_dums.index])\n",
    "    cor.append(a[1])"
   ]
  },
  {
   "cell_type": "code",
   "execution_count": 60,
   "metadata": {},
   "outputs": [],
   "source": [
    "corr = pd.DataFrame()\n",
    "corr[\"Feature\"] = list(work_dums.columns)\n",
    "corr[\"Coefficient\"] = cor"
   ]
  },
  {
   "cell_type": "code",
   "execution_count": 61,
   "metadata": {},
   "outputs": [
    {
     "data": {
      "text/html": [
       "<div>\n",
       "<style scoped>\n",
       "    .dataframe tbody tr th:only-of-type {\n",
       "        vertical-align: middle;\n",
       "    }\n",
       "\n",
       "    .dataframe tbody tr th {\n",
       "        vertical-align: top;\n",
       "    }\n",
       "\n",
       "    .dataframe thead th {\n",
       "        text-align: right;\n",
       "    }\n",
       "</style>\n",
       "<table border=\"1\" class=\"dataframe\">\n",
       "  <thead>\n",
       "    <tr style=\"text-align: right;\">\n",
       "      <th></th>\n",
       "      <th>Feature</th>\n",
       "      <th>Coefficient</th>\n",
       "    </tr>\n",
       "  </thead>\n",
       "  <tbody>\n",
       "    <tr>\n",
       "      <th>15</th>\n",
       "      <td>DWELLING_1.0</td>\n",
       "      <td>-0.102201</td>\n",
       "    </tr>\n",
       "    <tr>\n",
       "      <th>17</th>\n",
       "      <td>DWELLING_2.0</td>\n",
       "      <td>0.138797</td>\n",
       "    </tr>\n",
       "    <tr>\n",
       "      <th>25</th>\n",
       "      <td>FAMILY16_1.0</td>\n",
       "      <td>0.134979</td>\n",
       "    </tr>\n",
       "    <tr>\n",
       "      <th>37</th>\n",
       "      <td>COMPREND_1.0</td>\n",
       "      <td>0.173811</td>\n",
       "    </tr>\n",
       "    <tr>\n",
       "      <th>38</th>\n",
       "      <td>COMPREND_2.0</td>\n",
       "      <td>-0.151657</td>\n",
       "    </tr>\n",
       "  </tbody>\n",
       "</table>\n",
       "</div>"
      ],
      "text/plain": [
       "         Feature  Coefficient\n",
       "15  DWELLING_1.0    -0.102201\n",
       "17  DWELLING_2.0     0.138797\n",
       "25  FAMILY16_1.0     0.134979\n",
       "37  COMPREND_1.0     0.173811\n",
       "38  COMPREND_2.0    -0.151657"
      ]
     },
     "execution_count": 61,
     "metadata": {},
     "output_type": "execute_result"
    }
   ],
   "source": [
    "corr[abs(corr['Coefficient'])>.1].head()"
   ]
  },
  {
   "cell_type": "code",
   "execution_count": 62,
   "metadata": {},
   "outputs": [
    {
     "name": "stdout",
     "output_type": "stream",
     "text": [
      "Adding  78  categorical features.\n"
     ]
    }
   ],
   "source": [
    "print('Adding ',len(corr[abs(corr['Coefficient'])>.1]),' categorical features.')"
   ]
  },
  {
   "cell_type": "code",
   "execution_count": 63,
   "metadata": {},
   "outputs": [],
   "source": [
    "for feat in list(corr.Feature[abs(corr['Coefficient'])>.1]):\n",
    "    features['{}'.format(feat)] = work_dums[feat]"
   ]
  },
  {
   "cell_type": "markdown",
   "metadata": {},
   "source": [
    "# Feature Overview\n",
    "\n",
    "Now that I have thrown out the superfluous features, I am left only with those which correlation linearly with the outcome. \n",
    "\n",
    "This leaves me with a features set consisting of 8929 respondents and 83 features."
   ]
  },
  {
   "cell_type": "code",
   "execution_count": 64,
   "metadata": {},
   "outputs": [
    {
     "data": {
      "text/plain": [
       "(8929, 83)"
      ]
     },
     "execution_count": 64,
     "metadata": {},
     "output_type": "execute_result"
    }
   ],
   "source": [
    "features.shape"
   ]
  },
  {
   "cell_type": "code",
   "execution_count": 65,
   "metadata": {},
   "outputs": [
    {
     "data": {
      "text/html": [
       "<div>\n",
       "<style scoped>\n",
       "    .dataframe tbody tr th:only-of-type {\n",
       "        vertical-align: middle;\n",
       "    }\n",
       "\n",
       "    .dataframe tbody tr th {\n",
       "        vertical-align: top;\n",
       "    }\n",
       "\n",
       "    .dataframe thead th {\n",
       "        text-align: right;\n",
       "    }\n",
       "</style>\n",
       "<table border=\"1\" class=\"dataframe\">\n",
       "  <thead>\n",
       "    <tr style=\"text-align: right;\">\n",
       "      <th></th>\n",
       "      <th>EDUC</th>\n",
       "      <th>SPEDUC</th>\n",
       "      <th>PAEDUC</th>\n",
       "      <th>WEEKSWRK</th>\n",
       "      <th>HRS1</th>\n",
       "      <th>DWELLING_1.0</th>\n",
       "      <th>DWELLING_2.0</th>\n",
       "      <th>FAMILY16_1.0</th>\n",
       "      <th>COMPREND_1.0</th>\n",
       "      <th>COMPREND_2.0</th>\n",
       "      <th>...</th>\n",
       "      <th>SPEDUC_NA_2</th>\n",
       "      <th>PAEDUC_NA_1</th>\n",
       "      <th>PAEDUC_NA_2</th>\n",
       "      <th>OCCG_1</th>\n",
       "      <th>OCCG_2</th>\n",
       "      <th>INDUSG_10</th>\n",
       "      <th>INDUSG_13</th>\n",
       "      <th>INDUSG_15</th>\n",
       "      <th>SPINDG_11</th>\n",
       "      <th>SPINDG_17</th>\n",
       "    </tr>\n",
       "  </thead>\n",
       "  <tbody>\n",
       "    <tr>\n",
       "      <th>0</th>\n",
       "      <td>12.0</td>\n",
       "      <td>0.0</td>\n",
       "      <td>8.0</td>\n",
       "      <td>52.0</td>\n",
       "      <td>42.0</td>\n",
       "      <td>0</td>\n",
       "      <td>1</td>\n",
       "      <td>1</td>\n",
       "      <td>1</td>\n",
       "      <td>0</td>\n",
       "      <td>...</td>\n",
       "      <td>1</td>\n",
       "      <td>1</td>\n",
       "      <td>0</td>\n",
       "      <td>0</td>\n",
       "      <td>0</td>\n",
       "      <td>0</td>\n",
       "      <td>0</td>\n",
       "      <td>0</td>\n",
       "      <td>0</td>\n",
       "      <td>1</td>\n",
       "    </tr>\n",
       "    <tr>\n",
       "      <th>2</th>\n",
       "      <td>18.0</td>\n",
       "      <td>16.0</td>\n",
       "      <td>16.0</td>\n",
       "      <td>52.0</td>\n",
       "      <td>5.0</td>\n",
       "      <td>0</td>\n",
       "      <td>1</td>\n",
       "      <td>1</td>\n",
       "      <td>1</td>\n",
       "      <td>0</td>\n",
       "      <td>...</td>\n",
       "      <td>0</td>\n",
       "      <td>1</td>\n",
       "      <td>0</td>\n",
       "      <td>0</td>\n",
       "      <td>0</td>\n",
       "      <td>0</td>\n",
       "      <td>0</td>\n",
       "      <td>0</td>\n",
       "      <td>0</td>\n",
       "      <td>0</td>\n",
       "    </tr>\n",
       "    <tr>\n",
       "      <th>6</th>\n",
       "      <td>10.0</td>\n",
       "      <td>0.0</td>\n",
       "      <td>0.0</td>\n",
       "      <td>52.0</td>\n",
       "      <td>0.0</td>\n",
       "      <td>0</td>\n",
       "      <td>0</td>\n",
       "      <td>1</td>\n",
       "      <td>1</td>\n",
       "      <td>0</td>\n",
       "      <td>...</td>\n",
       "      <td>1</td>\n",
       "      <td>0</td>\n",
       "      <td>1</td>\n",
       "      <td>1</td>\n",
       "      <td>0</td>\n",
       "      <td>0</td>\n",
       "      <td>0</td>\n",
       "      <td>0</td>\n",
       "      <td>0</td>\n",
       "      <td>1</td>\n",
       "    </tr>\n",
       "    <tr>\n",
       "      <th>7</th>\n",
       "      <td>13.0</td>\n",
       "      <td>0.0</td>\n",
       "      <td>12.0</td>\n",
       "      <td>52.0</td>\n",
       "      <td>42.0</td>\n",
       "      <td>0</td>\n",
       "      <td>0</td>\n",
       "      <td>0</td>\n",
       "      <td>1</td>\n",
       "      <td>0</td>\n",
       "      <td>...</td>\n",
       "      <td>1</td>\n",
       "      <td>1</td>\n",
       "      <td>0</td>\n",
       "      <td>1</td>\n",
       "      <td>0</td>\n",
       "      <td>0</td>\n",
       "      <td>0</td>\n",
       "      <td>0</td>\n",
       "      <td>0</td>\n",
       "      <td>1</td>\n",
       "    </tr>\n",
       "    <tr>\n",
       "      <th>9</th>\n",
       "      <td>18.0</td>\n",
       "      <td>0.0</td>\n",
       "      <td>12.0</td>\n",
       "      <td>52.0</td>\n",
       "      <td>40.0</td>\n",
       "      <td>0</td>\n",
       "      <td>0</td>\n",
       "      <td>1</td>\n",
       "      <td>1</td>\n",
       "      <td>0</td>\n",
       "      <td>...</td>\n",
       "      <td>1</td>\n",
       "      <td>1</td>\n",
       "      <td>0</td>\n",
       "      <td>1</td>\n",
       "      <td>0</td>\n",
       "      <td>0</td>\n",
       "      <td>0</td>\n",
       "      <td>0</td>\n",
       "      <td>0</td>\n",
       "      <td>1</td>\n",
       "    </tr>\n",
       "  </tbody>\n",
       "</table>\n",
       "<p>5 rows × 83 columns</p>\n",
       "</div>"
      ],
      "text/plain": [
       "   EDUC  SPEDUC  PAEDUC  WEEKSWRK  HRS1  DWELLING_1.0  DWELLING_2.0  \\\n",
       "0  12.0     0.0     8.0      52.0  42.0             0             1   \n",
       "2  18.0    16.0    16.0      52.0   5.0             0             1   \n",
       "6  10.0     0.0     0.0      52.0   0.0             0             0   \n",
       "7  13.0     0.0    12.0      52.0  42.0             0             0   \n",
       "9  18.0     0.0    12.0      52.0  40.0             0             0   \n",
       "\n",
       "   FAMILY16_1.0  COMPREND_1.0  COMPREND_2.0    ...      SPEDUC_NA_2  \\\n",
       "0             1             1             0    ...                1   \n",
       "2             1             1             0    ...                0   \n",
       "6             1             1             0    ...                1   \n",
       "7             0             1             0    ...                1   \n",
       "9             1             1             0    ...                1   \n",
       "\n",
       "   PAEDUC_NA_1  PAEDUC_NA_2  OCCG_1  OCCG_2  INDUSG_10  INDUSG_13  INDUSG_15  \\\n",
       "0            1            0       0       0          0          0          0   \n",
       "2            1            0       0       0          0          0          0   \n",
       "6            0            1       1       0          0          0          0   \n",
       "7            1            0       1       0          0          0          0   \n",
       "9            1            0       1       0          0          0          0   \n",
       "\n",
       "   SPINDG_11  SPINDG_17  \n",
       "0          0          1  \n",
       "2          0          0  \n",
       "6          0          1  \n",
       "7          0          1  \n",
       "9          0          1  \n",
       "\n",
       "[5 rows x 83 columns]"
      ]
     },
     "execution_count": 65,
     "metadata": {},
     "output_type": "execute_result"
    }
   ],
   "source": [
    "features.head()"
   ]
  },
  {
   "cell_type": "code",
   "execution_count": 66,
   "metadata": {},
   "outputs": [],
   "source": [
    "f = features.corr()"
   ]
  },
  {
   "cell_type": "code",
   "execution_count": 67,
   "metadata": {},
   "outputs": [
    {
     "data": {
      "text/plain": [
       "(83, 83)"
      ]
     },
     "execution_count": 67,
     "metadata": {},
     "output_type": "execute_result"
    }
   ],
   "source": [
    "f.shape"
   ]
  },
  {
   "cell_type": "markdown",
   "metadata": {},
   "source": [
    "# Getting Features Importances\n",
    "\n",
    "Now that I have the features which are most likely to perform well in a descriptive linear model, I want to determine which features are the most important when determining income. \n",
    "\n",
    "I will do this using emsemble modeling. Specifically, I will using a Random Forest model and a Gradient Boosted Decision Tree model to get 2 different sets of features importances. I will use the importances of 2 different models to better ensure accuracy of my predicted featurs importances"
   ]
  },
  {
   "cell_type": "markdown",
   "metadata": {},
   "source": [
    "## Random Forest Importances\n",
    "\n",
    "I will first get the importances from the Random Forest model."
   ]
  },
  {
   "cell_type": "code",
   "execution_count": 68,
   "metadata": {},
   "outputs": [],
   "source": [
    "from sklearn.ensemble import RandomForestRegressor"
   ]
  },
  {
   "cell_type": "code",
   "execution_count": 69,
   "metadata": {},
   "outputs": [],
   "source": [
    "outcome = work_mult['REALINCSQRT'][features.index]"
   ]
  },
  {
   "cell_type": "code",
   "execution_count": 70,
   "metadata": {},
   "outputs": [],
   "source": [
    "rf = RandomForestRegressor(n_estimators=300, n_jobs=4, random_state=42)"
   ]
  },
  {
   "cell_type": "code",
   "execution_count": 71,
   "metadata": {
    "scrolled": true
   },
   "outputs": [
    {
     "data": {
      "text/plain": [
       "RandomForestRegressor(bootstrap=True, criterion='mse', max_depth=None,\n",
       "           max_features='auto', max_leaf_nodes=None,\n",
       "           min_impurity_decrease=0.0, min_impurity_split=None,\n",
       "           min_samples_leaf=1, min_samples_split=2,\n",
       "           min_weight_fraction_leaf=0.0, n_estimators=300, n_jobs=4,\n",
       "           oob_score=False, random_state=42, verbose=0, warm_start=False)"
      ]
     },
     "execution_count": 71,
     "metadata": {},
     "output_type": "execute_result"
    }
   ],
   "source": [
    "rf.fit(features, outcome)"
   ]
  },
  {
   "cell_type": "code",
   "execution_count": 72,
   "metadata": {},
   "outputs": [
    {
     "data": {
      "text/plain": [
       "0.9330058949514339"
      ]
     },
     "execution_count": 72,
     "metadata": {},
     "output_type": "execute_result"
    }
   ],
   "source": [
    "rf.score(features, outcome)"
   ]
  },
  {
   "cell_type": "markdown",
   "metadata": {},
   "source": [
    "Now that my random forest model is fit, I will plot my feature importances."
   ]
  },
  {
   "cell_type": "code",
   "execution_count": 73,
   "metadata": {
    "scrolled": false
   },
   "outputs": [
    {
     "data": {
      "image/png": "[encoded data removed]",
      "text/plain": [
       "<Figure size 720x1080 with 1 Axes>"
      ]
     },
     "metadata": {},
     "output_type": "display_data"
    }
   ],
   "source": [
    "imp = rf.feature_importances_\n",
    "# Make importances relative to max importance.\n",
    "imp = 100.0 * (imp / imp.max())\n",
    "sorted_idx = np.argsort(imp)\n",
    "pos = np.arange(sorted_idx.shape[0]) + .5\n",
    "plt.figure(figsize=(10,15))\n",
    "plt.barh(pos, imp[sorted_idx], align='center')\n",
    "plt.yticks(pos, features.columns[sorted_idx])\n",
    "plt.xlabel('Relative Importance')\n",
    "plt.title('Random Forest Feature Importance')\n",
    "plt.show()\n",
    "\n",
    "importances_rf = pd.DataFrame(index=list(features.columns[sorted_idx]))\n",
    "importances_rf['Imp'] = list(imp[sorted_idx])"
   ]
  },
  {
   "cell_type": "code",
   "execution_count": 74,
   "metadata": {},
   "outputs": [
    {
     "name": "stdout",
     "output_type": "stream",
     "text": [
      "Top 10 most important Random Forest Features\n"
     ]
    },
    {
     "data": {
      "text/html": [
       "<div>\n",
       "<style scoped>\n",
       "    .dataframe tbody tr th:only-of-type {\n",
       "        vertical-align: middle;\n",
       "    }\n",
       "\n",
       "    .dataframe tbody tr th {\n",
       "        vertical-align: top;\n",
       "    }\n",
       "\n",
       "    .dataframe thead th {\n",
       "        text-align: right;\n",
       "    }\n",
       "</style>\n",
       "<table border=\"1\" class=\"dataframe\">\n",
       "  <thead>\n",
       "    <tr style=\"text-align: right;\">\n",
       "      <th></th>\n",
       "      <th>Imp</th>\n",
       "    </tr>\n",
       "  </thead>\n",
       "  <tbody>\n",
       "    <tr>\n",
       "      <th>WRKSTAT_1.0</th>\n",
       "      <td>100.000000</td>\n",
       "    </tr>\n",
       "    <tr>\n",
       "      <th>EDUC</th>\n",
       "      <td>41.694973</td>\n",
       "    </tr>\n",
       "    <tr>\n",
       "      <th>WEEKSWRK</th>\n",
       "      <td>39.667782</td>\n",
       "    </tr>\n",
       "    <tr>\n",
       "      <th>HRS1</th>\n",
       "      <td>31.294057</td>\n",
       "    </tr>\n",
       "    <tr>\n",
       "      <th>CLASS_3.0</th>\n",
       "      <td>26.912963</td>\n",
       "    </tr>\n",
       "    <tr>\n",
       "      <th>PAEDUC</th>\n",
       "      <td>19.564590</td>\n",
       "    </tr>\n",
       "    <tr>\n",
       "      <th>OCCG_1</th>\n",
       "      <td>14.151194</td>\n",
       "    </tr>\n",
       "    <tr>\n",
       "      <th>PARTFULL_1.0</th>\n",
       "      <td>13.535278</td>\n",
       "    </tr>\n",
       "    <tr>\n",
       "      <th>PARTFULL_2.0</th>\n",
       "      <td>8.169764</td>\n",
       "    </tr>\n",
       "    <tr>\n",
       "      <th>OCCG_2</th>\n",
       "      <td>7.601766</td>\n",
       "    </tr>\n",
       "  </tbody>\n",
       "</table>\n",
       "</div>"
      ],
      "text/plain": [
       "                     Imp\n",
       "WRKSTAT_1.0   100.000000\n",
       "EDUC           41.694973\n",
       "WEEKSWRK       39.667782\n",
       "HRS1           31.294057\n",
       "CLASS_3.0      26.912963\n",
       "PAEDUC         19.564590\n",
       "OCCG_1         14.151194\n",
       "PARTFULL_1.0   13.535278\n",
       "PARTFULL_2.0    8.169764\n",
       "OCCG_2          7.601766"
      ]
     },
     "metadata": {},
     "output_type": "display_data"
    }
   ],
   "source": [
    "print('Top 10 most important Random Forest Features')\n",
    "display(importances_rf.sort_values('Imp', ascending=False).head(10))"
   ]
  },
  {
   "cell_type": "markdown",
   "metadata": {},
   "source": [
    "The most important random forest features were __WRKSTAT_1.0__, people who work full time, __EDUC__, respondent's education level, __WEEKSWRK__, how many weeks per year the respondent works ,__HRS1__, how many hours the repsondent works per week, __CLASS_3.0__, respondents who identify as middle class, __PAEDUC__, respondent's father's education level, __OCCG_1__, respondents who work in manangement positions, __PARTFULL_1.0__, respondents who were full-time, __PARTFULL_2.0__, respondents who work full-time, and __OCCG_2__, and respondants who work in service occupations. "
   ]
  },
  {
   "cell_type": "markdown",
   "metadata": {},
   "source": [
    "## Gradient Boosted Importances\n",
    "\n",
    "I will find the feature importances using the Gradient Boosted modeling next."
   ]
  },
  {
   "cell_type": "code",
   "execution_count": 75,
   "metadata": {},
   "outputs": [],
   "source": [
    "from sklearn.ensemble import GradientBoostingRegressor"
   ]
  },
  {
   "cell_type": "code",
   "execution_count": 76,
   "metadata": {},
   "outputs": [],
   "source": [
    "gb = GradientBoostingRegressor(n_estimators=300, learning_rate=0.2, random_state=42)"
   ]
  },
  {
   "cell_type": "code",
   "execution_count": 77,
   "metadata": {
    "scrolled": true
   },
   "outputs": [
    {
     "data": {
      "text/plain": [
       "GradientBoostingRegressor(alpha=0.9, criterion='friedman_mse', init=None,\n",
       "             learning_rate=0.2, loss='ls', max_depth=3, max_features=None,\n",
       "             max_leaf_nodes=None, min_impurity_decrease=0.0,\n",
       "             min_impurity_split=None, min_samples_leaf=1,\n",
       "             min_samples_split=2, min_weight_fraction_leaf=0.0,\n",
       "             n_estimators=300, presort='auto', random_state=42,\n",
       "             subsample=1.0, verbose=0, warm_start=False)"
      ]
     },
     "execution_count": 77,
     "metadata": {},
     "output_type": "execute_result"
    }
   ],
   "source": [
    "gb.fit(features, outcome)"
   ]
  },
  {
   "cell_type": "code",
   "execution_count": 78,
   "metadata": {
    "scrolled": true
   },
   "outputs": [
    {
     "data": {
      "text/plain": [
       "0.6475245006823778"
      ]
     },
     "execution_count": 78,
     "metadata": {},
     "output_type": "execute_result"
    }
   ],
   "source": [
    "gb.score(features, outcome)"
   ]
  },
  {
   "cell_type": "markdown",
   "metadata": {},
   "source": [
    "Now that my random forest model is fit, I will plot my feature importances."
   ]
  },
  {
   "cell_type": "code",
   "execution_count": 79,
   "metadata": {
    "scrolled": true
   },
   "outputs": [
    {
     "data": {
      "image/png": "[encoded data removed]",
      "text/plain": [
       "<Figure size 720x1080 with 1 Axes>"
      ]
     },
     "metadata": {},
     "output_type": "display_data"
    }
   ],
   "source": [
    "imp = gb.feature_importances_\n",
    "# Make importances relative to max importance.\n",
    "imp = 100.0 * (imp / imp.max())\n",
    "sorted_idx = np.argsort(imp)\n",
    "pos = np.arange(sorted_idx.shape[0]) + .5\n",
    "plt.figure(figsize=(10,15))\n",
    "plt.barh(pos, imp[sorted_idx], align='center')\n",
    "plt.yticks(pos, features.columns[sorted_idx])\n",
    "plt.xlabel('Relative Importance')\n",
    "plt.title('Boosted Tree Feature Importance')\n",
    "plt.show()\n",
    "\n",
    "importances_gb = pd.DataFrame(index=list(features.columns[sorted_idx]))\n",
    "importances_gb['Imp'] = list(imp[sorted_idx])"
   ]
  },
  {
   "cell_type": "code",
   "execution_count": 80,
   "metadata": {},
   "outputs": [
    {
     "name": "stdout",
     "output_type": "stream",
     "text": [
      "Top 10 most important Gradient Boosted Features\n"
     ]
    },
    {
     "data": {
      "text/html": [
       "<div>\n",
       "<style scoped>\n",
       "    .dataframe tbody tr th:only-of-type {\n",
       "        vertical-align: middle;\n",
       "    }\n",
       "\n",
       "    .dataframe tbody tr th {\n",
       "        vertical-align: top;\n",
       "    }\n",
       "\n",
       "    .dataframe thead th {\n",
       "        text-align: right;\n",
       "    }\n",
       "</style>\n",
       "<table border=\"1\" class=\"dataframe\">\n",
       "  <thead>\n",
       "    <tr style=\"text-align: right;\">\n",
       "      <th></th>\n",
       "      <th>Imp</th>\n",
       "    </tr>\n",
       "  </thead>\n",
       "  <tbody>\n",
       "    <tr>\n",
       "      <th>HRS1</th>\n",
       "      <td>100.000000</td>\n",
       "    </tr>\n",
       "    <tr>\n",
       "      <th>WEEKSWRK</th>\n",
       "      <td>84.983085</td>\n",
       "    </tr>\n",
       "    <tr>\n",
       "      <th>EDUC</th>\n",
       "      <td>69.532019</td>\n",
       "    </tr>\n",
       "    <tr>\n",
       "      <th>PAEDUC</th>\n",
       "      <td>37.637807</td>\n",
       "    </tr>\n",
       "    <tr>\n",
       "      <th>SPEDUC</th>\n",
       "      <td>33.574644</td>\n",
       "    </tr>\n",
       "    <tr>\n",
       "      <th>PARTFULL_2.0</th>\n",
       "      <td>23.735403</td>\n",
       "    </tr>\n",
       "    <tr>\n",
       "      <th>OCCG_1</th>\n",
       "      <td>21.092350</td>\n",
       "    </tr>\n",
       "    <tr>\n",
       "      <th>CLASS_2.0</th>\n",
       "      <td>16.839693</td>\n",
       "    </tr>\n",
       "    <tr>\n",
       "      <th>CLASS_3.0</th>\n",
       "      <td>16.246774</td>\n",
       "    </tr>\n",
       "    <tr>\n",
       "      <th>PARTFULL_1.0</th>\n",
       "      <td>15.035826</td>\n",
       "    </tr>\n",
       "  </tbody>\n",
       "</table>\n",
       "</div>"
      ],
      "text/plain": [
       "                     Imp\n",
       "HRS1          100.000000\n",
       "WEEKSWRK       84.983085\n",
       "EDUC           69.532019\n",
       "PAEDUC         37.637807\n",
       "SPEDUC         33.574644\n",
       "PARTFULL_2.0   23.735403\n",
       "OCCG_1         21.092350\n",
       "CLASS_2.0      16.839693\n",
       "CLASS_3.0      16.246774\n",
       "PARTFULL_1.0   15.035826"
      ]
     },
     "metadata": {},
     "output_type": "display_data"
    }
   ],
   "source": [
    "print('Top 10 most important Gradient Boosted Features')\n",
    "display(importances_gb.sort_values('Imp', ascending=False).head(10))"
   ]
  },
  {
   "cell_type": "markdown",
   "metadata": {},
   "source": [
    "The most important gradient boosted features were __HRS1__, how many hours worked per week, __WEEKSWRK__, how many weeks worked per year,  __EDUC__, respondent's education level, __PAEDUC__, respondent's feather's education level, __SPEDUC__, respondent's spouse's education level, __PARTFULL_2.0__, respondents who work part-time, __OCCG_1__, respondents who work in manangement positions, __CLASS_2.0__, respondents who identify as working class, __CLASS_3.0__, respondents who identify as middle class, and __PARTFULL_1.0__, respondents who were full-time."
   ]
  },
  {
   "cell_type": "markdown",
   "metadata": {},
   "source": [
    "# Dropping Correalated Features\n",
    "\n",
    "Because I am using a linear model, it will be very important for me to prevent to much multi-colinearity. This simply means that the features I am using cannot correlate with each other. This is important because having correlating features creates an over respresentation of certain factors in the data and will lead to model error.\n",
    "\n",
    "I will set my correaltion threshold to 0.7, and any 2 features which have a correlation greater than that will raise an alarm and be inspected.  The feature which has the highest importance in both the random forest and the gradient boosted feature set will the kept.  If neither features satisfy this, I will choose the feature which had the greatest importance overall.  "
   ]
  },
  {
   "cell_type": "code",
   "execution_count": 81,
   "metadata": {},
   "outputs": [],
   "source": [
    "corr_feats_ind = []\n",
    "corr_feats_col = []\n",
    "for i in range(0,f.shape[0]):\n",
    "    for c in range(0,f.shape[1]):\n",
    "        if i != c:\n",
    "            if f.iloc[i,c] > 0.7:\n",
    "                corr_feats_ind.append(f.index[i])\n",
    "                corr_feats_col.append(f.columns[c])"
   ]
  },
  {
   "cell_type": "code",
   "execution_count": 82,
   "metadata": {},
   "outputs": [],
   "source": [
    "corrs = pd.DataFrame()\n",
    "corrs['Feat1'] = corr_feats_ind\n",
    "corrs['Feat2'] = corr_feats_col"
   ]
  },
  {
   "cell_type": "code",
   "execution_count": 83,
   "metadata": {},
   "outputs": [
    {
     "data": {
      "text/html": [
       "<div>\n",
       "<style scoped>\n",
       "    .dataframe tbody tr th:only-of-type {\n",
       "        vertical-align: middle;\n",
       "    }\n",
       "\n",
       "    .dataframe tbody tr th {\n",
       "        vertical-align: top;\n",
       "    }\n",
       "\n",
       "    .dataframe thead th {\n",
       "        text-align: right;\n",
       "    }\n",
       "</style>\n",
       "<table border=\"1\" class=\"dataframe\">\n",
       "  <thead>\n",
       "    <tr style=\"text-align: right;\">\n",
       "      <th></th>\n",
       "      <th>Feat1</th>\n",
       "      <th>Feat2</th>\n",
       "    </tr>\n",
       "  </thead>\n",
       "  <tbody>\n",
       "    <tr>\n",
       "      <th>0</th>\n",
       "      <td>SPEDUC</td>\n",
       "      <td>MARITAL_1.0</td>\n",
       "    </tr>\n",
       "    <tr>\n",
       "      <th>1</th>\n",
       "      <td>SPEDUC</td>\n",
       "      <td>SPEDUC_NA_1</td>\n",
       "    </tr>\n",
       "    <tr>\n",
       "      <th>2</th>\n",
       "      <td>PAEDUC</td>\n",
       "      <td>PAEDUC_NA_1</td>\n",
       "    </tr>\n",
       "    <tr>\n",
       "      <th>3</th>\n",
       "      <td>HRS1</td>\n",
       "      <td>WRKSTAT_1.0</td>\n",
       "    </tr>\n",
       "    <tr>\n",
       "      <th>4</th>\n",
       "      <td>EVSTRAY_3.0</td>\n",
       "      <td>MARITAL_5.0</td>\n",
       "    </tr>\n",
       "  </tbody>\n",
       "</table>\n",
       "</div>"
      ],
      "text/plain": [
       "         Feat1        Feat2\n",
       "0       SPEDUC  MARITAL_1.0\n",
       "1       SPEDUC  SPEDUC_NA_1\n",
       "2       PAEDUC  PAEDUC_NA_1\n",
       "3         HRS1  WRKSTAT_1.0\n",
       "4  EVSTRAY_3.0  MARITAL_5.0"
      ]
     },
     "execution_count": 83,
     "metadata": {},
     "output_type": "execute_result"
    }
   ],
   "source": [
    "corrs.head()"
   ]
  },
  {
   "cell_type": "code",
   "execution_count": 84,
   "metadata": {},
   "outputs": [],
   "source": [
    "dropped_feats = []\n",
    "for i in range(0,corrs.shape[0]):\n",
    "    feat1 = corrs['Feat1'][i]\n",
    "    feat2 = corrs['Feat2'][i]\n",
    "    if feat1 not in dropped_feats and feat2 not in dropped_feats:\n",
    "        imp1_rf = importances_rf.loc[feat1,'Imp']\n",
    "        imp1_gb = importances_gb.loc[feat1,'Imp']\n",
    "        imp2_rf = importances_rf.loc[feat2,'Imp']\n",
    "        imp2_gb = importances_gb.loc[feat2,'Imp']\n",
    "        if imp1_rf > imp2_rf and imp1_gb > imp2_gb:\n",
    "            dropped_feats.append(feat2)\n",
    "        elif imp1_rf < imp2_rf and imp1_gb < imp2_gb:\n",
    "            dropped_feats.append(feat1)\n",
    "        else:\n",
    "            if imp1_gb > imp1_rf and imp2_gb > imp2_rf:\n",
    "                if imp1_gb > imp2_gb:\n",
    "                    dropped_feats.append(feat2)\n",
    "                else:\n",
    "                    dropped_feats.append(feat1)\n",
    "            elif imp1_gb < imp1_rf and imp2_gb < imp2_rf:\n",
    "                if imp1_rf > imp2_rf:\n",
    "                    dropped_feats.append(feat2)\n",
    "                else:\n",
    "                    dropped_feats.append(feat1)\n",
    "            else:\n",
    "                if abs(imp1_rf-imp2_rf) > abs(imp1_gb-imp2_gb):\n",
    "                    if imp1_rf > imp2_rf:\n",
    "                        dropped_feats.append(feat2)\n",
    "                    else:\n",
    "                        dropped_feats.append(feat1)\n",
    "                elif abs(imp1_gb-imp2_gb) > abs(imp1_rf-imp2_rf):\n",
    "                    if imp1_gb > imp2_gb:\n",
    "                        dropped_feats.append(feat2)\n",
    "                    else:\n",
    "                        dropped_feats.append(feat1)\n",
    "                else:\n",
    "                    print('{} imps  rf: {}  gb: {}'.format(feat1,round(imp1_rf,2),round(imp1_gb,2)))\n",
    "                    print('{} imps  rf: {}  gb: {}\\n'.format(feat2,round(imp2_rf,2),round(imp2_gb,2)))"
   ]
  },
  {
   "cell_type": "code",
   "execution_count": 85,
   "metadata": {},
   "outputs": [
    {
     "data": {
      "text/plain": [
       "['MARITAL_1.0',\n",
       " 'SPEDUC_NA_1',\n",
       " 'PAEDUC_NA_1',\n",
       " 'WRKSTAT_1.0',\n",
       " 'EVSTRAY_3.0',\n",
       " 'EDUC_16.0',\n",
       " 'SPEDUC_NA_2',\n",
       " 'SPINDG_17',\n",
       " 'HRS1_0.0',\n",
       " 'INDUS10_8680.0']"
      ]
     },
     "execution_count": 85,
     "metadata": {},
     "output_type": "execute_result"
    }
   ],
   "source": [
    "dropped_feats"
   ]
  },
  {
   "cell_type": "code",
   "execution_count": 86,
   "metadata": {},
   "outputs": [],
   "source": [
    "X = features.drop(dropped_feats,1)"
   ]
  },
  {
   "cell_type": "markdown",
   "metadata": {},
   "source": [
    "## Rerunning Importance without Correlating Features\n",
    "\n",
    "Now that I have removed the features which correlate with each other, I want to see if my overall feature importances have changed at all."
   ]
  },
  {
   "cell_type": "code",
   "execution_count": 87,
   "metadata": {},
   "outputs": [],
   "source": [
    "rf2 = RandomForestRegressor(n_estimators=300, n_jobs=4, random_state=42)"
   ]
  },
  {
   "cell_type": "code",
   "execution_count": 88,
   "metadata": {
    "scrolled": true
   },
   "outputs": [
    {
     "data": {
      "text/plain": [
       "RandomForestRegressor(bootstrap=True, criterion='mse', max_depth=None,\n",
       "           max_features='auto', max_leaf_nodes=None,\n",
       "           min_impurity_decrease=0.0, min_impurity_split=None,\n",
       "           min_samples_leaf=1, min_samples_split=2,\n",
       "           min_weight_fraction_leaf=0.0, n_estimators=300, n_jobs=4,\n",
       "           oob_score=False, random_state=42, verbose=0, warm_start=False)"
      ]
     },
     "execution_count": 88,
     "metadata": {},
     "output_type": "execute_result"
    }
   ],
   "source": [
    "rf2.fit(X, outcome)"
   ]
  },
  {
   "cell_type": "code",
   "execution_count": 89,
   "metadata": {},
   "outputs": [
    {
     "data": {
      "text/plain": [
       "0.9335663220715987"
      ]
     },
     "execution_count": 89,
     "metadata": {},
     "output_type": "execute_result"
    }
   ],
   "source": [
    "rf2.score(X, outcome)"
   ]
  },
  {
   "cell_type": "code",
   "execution_count": 90,
   "metadata": {
    "scrolled": false
   },
   "outputs": [
    {
     "data": {
      "image/png": "[encoded data removed]",
      "text/plain": [
       "<Figure size 720x1080 with 1 Axes>"
      ]
     },
     "metadata": {},
     "output_type": "display_data"
    }
   ],
   "source": [
    "imp = rf2.feature_importances_\n",
    "# Make importances relative to max importance.\n",
    "imp = 100.0 * (imp / imp.max())\n",
    "sorted_idx = np.argsort(imp)\n",
    "pos = np.arange(sorted_idx.shape[0]) + .5\n",
    "plt.figure(figsize=(10,15))\n",
    "plt.barh(pos, imp[sorted_idx], align='center')\n",
    "plt.yticks(pos, X.columns[sorted_idx])\n",
    "plt.xlabel('Relative Importance')\n",
    "plt.title('Random Forest Feature Importance')\n",
    "plt.show()\n",
    "\n",
    "importances_rf2 = pd.DataFrame(index=list(X.columns[sorted_idx]))\n",
    "importances_rf2['Imp'] = list(imp[sorted_idx])"
   ]
  },
  {
   "cell_type": "code",
   "execution_count": 91,
   "metadata": {},
   "outputs": [
    {
     "name": "stdout",
     "output_type": "stream",
     "text": [
      "Top 10 most important Random Forest Features\n"
     ]
    },
    {
     "data": {
      "text/html": [
       "<div>\n",
       "<style scoped>\n",
       "    .dataframe tbody tr th:only-of-type {\n",
       "        vertical-align: middle;\n",
       "    }\n",
       "\n",
       "    .dataframe tbody tr th {\n",
       "        vertical-align: top;\n",
       "    }\n",
       "\n",
       "    .dataframe thead th {\n",
       "        text-align: right;\n",
       "    }\n",
       "</style>\n",
       "<table border=\"1\" class=\"dataframe\">\n",
       "  <thead>\n",
       "    <tr style=\"text-align: right;\">\n",
       "      <th></th>\n",
       "      <th>Imp</th>\n",
       "    </tr>\n",
       "  </thead>\n",
       "  <tbody>\n",
       "    <tr>\n",
       "      <th>HRS1</th>\n",
       "      <td>100.000000</td>\n",
       "    </tr>\n",
       "    <tr>\n",
       "      <th>EDUC</th>\n",
       "      <td>64.776438</td>\n",
       "    </tr>\n",
       "    <tr>\n",
       "      <th>WEEKSWRK</th>\n",
       "      <td>61.901942</td>\n",
       "    </tr>\n",
       "    <tr>\n",
       "      <th>PARTFULL_2.0</th>\n",
       "      <td>55.923507</td>\n",
       "    </tr>\n",
       "  </tbody>\n",
       "</table>\n",
       "</div>"
      ],
      "text/plain": [
       "                     Imp\n",
       "HRS1          100.000000\n",
       "EDUC           64.776438\n",
       "WEEKSWRK       61.901942\n",
       "PARTFULL_2.0   55.923507"
      ]
     },
     "execution_count": 91,
     "metadata": {},
     "output_type": "execute_result"
    }
   ],
   "source": [
    "print('Top 10 most important Random Forest Features')\n",
    "importances_rf2.sort_values('Imp', ascending=False).head(4)"
   ]
  },
  {
   "cell_type": "markdown",
   "metadata": {},
   "source": [
    "The most important features amoung the random forest have changed. The previous most important features were, in order: __WRKSTAT_1.0__, __EDUC__, __WEEKSWRK__, __HRS1__, __CLASS_3.0__, __PAEDUC__, __OCCG_1__, __PARTFULL_1.0__, __PARTFULL_2.0__, __OCCG_2__. \n",
    "\n",
    "They are now __HRS1__, hours worked, __EDUC__, education level, __WEEKSWRK__, weeks worked per year, __PARTFULL_2.0__, part-time workers, __CLASS_3.0__, respondents identifying as middle class, __PARTFULL_1.0__, full-time workers, __PAEDUC__, father's education level, __OCCG_1__, working a management occupation, __MARITAL_5.0__, never having been married, and __OCCG_2__, working a service job.\n",
    "\n",
    "So the redundant full-time feature was thrown out and replaced with a feature indicating never having been married. Additionally, the order and overall importance of each of the features has drastically changed. Still, the 4 most important features have remained the same."
   ]
  },
  {
   "cell_type": "code",
   "execution_count": 92,
   "metadata": {},
   "outputs": [],
   "source": [
    "gb2 = GradientBoostingRegressor(n_estimators=300, learning_rate=0.2, random_state=42)"
   ]
  },
  {
   "cell_type": "code",
   "execution_count": 93,
   "metadata": {
    "scrolled": true
   },
   "outputs": [
    {
     "data": {
      "text/plain": [
       "GradientBoostingRegressor(alpha=0.9, criterion='friedman_mse', init=None,\n",
       "             learning_rate=0.2, loss='ls', max_depth=3, max_features=None,\n",
       "             max_leaf_nodes=None, min_impurity_decrease=0.0,\n",
       "             min_impurity_split=None, min_samples_leaf=1,\n",
       "             min_samples_split=2, min_weight_fraction_leaf=0.0,\n",
       "             n_estimators=300, presort='auto', random_state=42,\n",
       "             subsample=1.0, verbose=0, warm_start=False)"
      ]
     },
     "execution_count": 93,
     "metadata": {},
     "output_type": "execute_result"
    }
   ],
   "source": [
    "gb2.fit(X, outcome)"
   ]
  },
  {
   "cell_type": "code",
   "execution_count": 94,
   "metadata": {
    "scrolled": true
   },
   "outputs": [
    {
     "data": {
      "text/plain": [
       "0.6436492494410828"
      ]
     },
     "execution_count": 94,
     "metadata": {},
     "output_type": "execute_result"
    }
   ],
   "source": [
    "gb2.score(X, outcome)"
   ]
  },
  {
   "cell_type": "code",
   "execution_count": 95,
   "metadata": {
    "scrolled": false
   },
   "outputs": [
    {
     "data": {
      "image/png": "[encoded data removed]",
      "text/plain": [
       "<Figure size 720x1080 with 1 Axes>"
      ]
     },
     "metadata": {},
     "output_type": "display_data"
    }
   ],
   "source": [
    "imp = gb2.feature_importances_\n",
    "# Make importances relative to max importance.\n",
    "imp = 100.0 * (imp / imp.max())\n",
    "sorted_idx = np.argsort(imp)\n",
    "pos = np.arange(sorted_idx.shape[0]) + .5\n",
    "plt.figure(figsize=(10,15))\n",
    "plt.barh(pos, imp[sorted_idx], align='center')\n",
    "plt.yticks(pos, X.columns[sorted_idx])\n",
    "plt.xlabel('Relative Importance')\n",
    "plt.title('Gradient Boosted Feature Importance')\n",
    "plt.show()\n",
    "\n",
    "importances_gb2 = pd.DataFrame(index=list(X.columns[sorted_idx]))\n",
    "importances_gb2['Imp'] = list(imp[sorted_idx])"
   ]
  },
  {
   "cell_type": "code",
   "execution_count": 96,
   "metadata": {},
   "outputs": [
    {
     "name": "stdout",
     "output_type": "stream",
     "text": [
      "Top 10 most important Gradient Boosted Features\n"
     ]
    },
    {
     "data": {
      "text/html": [
       "<div>\n",
       "<style scoped>\n",
       "    .dataframe tbody tr th:only-of-type {\n",
       "        vertical-align: middle;\n",
       "    }\n",
       "\n",
       "    .dataframe tbody tr th {\n",
       "        vertical-align: top;\n",
       "    }\n",
       "\n",
       "    .dataframe thead th {\n",
       "        text-align: right;\n",
       "    }\n",
       "</style>\n",
       "<table border=\"1\" class=\"dataframe\">\n",
       "  <thead>\n",
       "    <tr style=\"text-align: right;\">\n",
       "      <th></th>\n",
       "      <th>Imp</th>\n",
       "    </tr>\n",
       "  </thead>\n",
       "  <tbody>\n",
       "    <tr>\n",
       "      <th>HRS1</th>\n",
       "      <td>100.000000</td>\n",
       "    </tr>\n",
       "    <tr>\n",
       "      <th>WEEKSWRK</th>\n",
       "      <td>79.528496</td>\n",
       "    </tr>\n",
       "    <tr>\n",
       "      <th>EDUC</th>\n",
       "      <td>68.627813</td>\n",
       "    </tr>\n",
       "    <tr>\n",
       "      <th>PAEDUC</th>\n",
       "      <td>42.668523</td>\n",
       "    </tr>\n",
       "  </tbody>\n",
       "</table>\n",
       "</div>"
      ],
      "text/plain": [
       "                 Imp\n",
       "HRS1      100.000000\n",
       "WEEKSWRK   79.528496\n",
       "EDUC       68.627813\n",
       "PAEDUC     42.668523"
      ]
     },
     "execution_count": 96,
     "metadata": {},
     "output_type": "execute_result"
    }
   ],
   "source": [
    "print('Top 10 most important Gradient Boosted Features')\n",
    "importances_gb2.sort_values('Imp', ascending=False).head(4)"
   ]
  },
  {
   "cell_type": "markdown",
   "metadata": {},
   "source": [
    "The most important random forest features were __HRS1__, how many hours worked per week, __WEEKSWRK__, how many weeks worked per year,  __EDUC__, respondent's education level, __PAEDUC__, respondent's feather's education level, __SPEDUC__, respondent's spouse's education level, __PARTFULL_2.0__, respondents who were part-time, __OCCG_1__, respondents who work in manangement positions, __CLASS_2.0__, respondents who identify as working class, __CLASS_3.0__, respondents who identify as middle class, and __PARTFULL_1.0__, respondents who work full-time."
   ]
  },
  {
   "cell_type": "markdown",
   "metadata": {},
   "source": [
    "The features for the gradient boosted model have also changed, though the ones of the top 5 importance have remained the same.\n",
    "\n",
    "The most important random forest features were __HRS1__, how many hours worked per week, __WEEKSWRK__, how many weeks worked per year,  __EDUC__, respondent's education level, __PAEDUC__, respondent's feather's education level, __SPEDUC__, respondent's spouse's education level, __OCCG_1__, respondents who work in manangement positions, __PARTFULL_1.0__, respondents who were full-time, __PARTFULL_2.0__, respondents who were part-time, __RACECEN1__, white respondents, and __LOCALNUM_4.0__, having 100-499 employees at respondant's job."
   ]
  },
  {
   "cell_type": "markdown",
   "metadata": {},
   "source": [
    "# Selecting Features from Models\n",
    "\n",
    "Now that I have the true feature importance using non-correlating features, I can use the same ensemble models I used to generate feature importances. This will give me 2 possible feature sets to test with."
   ]
  },
  {
   "cell_type": "code",
   "execution_count": 97,
   "metadata": {},
   "outputs": [],
   "source": [
    "from sklearn.feature_selection import SelectFromModel"
   ]
  },
  {
   "cell_type": "code",
   "execution_count": 98,
   "metadata": {},
   "outputs": [
    {
     "name": "stdout",
     "output_type": "stream",
     "text": [
      "Number of Random Forest Features:\n",
      "10\n"
     ]
    }
   ],
   "source": [
    "rfsel = SelectFromModel(rf2, prefit=True)\n",
    "X_rfsel = rfsel.transform(X)\n",
    "\n",
    "print('Number of Random Forest Features:')\n",
    "print(X_rfsel.shape[1])"
   ]
  },
  {
   "cell_type": "code",
   "execution_count": 99,
   "metadata": {},
   "outputs": [],
   "source": [
    "X_rfsel = pd.DataFrame(X_rfsel)"
   ]
  },
  {
   "cell_type": "code",
   "execution_count": 100,
   "metadata": {},
   "outputs": [],
   "source": [
    "# give the gb features the appropriate name\n",
    "new_cols = []\n",
    "for c in X_rfsel.columns:\n",
    "    for i in X.columns:\n",
    "        if list(X_rfsel[c]) == list(X[i]):\n",
    "            new_cols.append(i)\n",
    "            \n",
    "X_rfsel.columns = new_cols"
   ]
  },
  {
   "cell_type": "code",
   "execution_count": 101,
   "metadata": {},
   "outputs": [
    {
     "name": "stdout",
     "output_type": "stream",
     "text": [
      "Number of Gradient Boosted Features:\n",
      "14\n"
     ]
    }
   ],
   "source": [
    "gbsel = SelectFromModel(gb2, prefit=True)\n",
    "X_gbsel = gbsel.transform(X)\n",
    "\n",
    "print('Number of Gradient Boosted Features:')\n",
    "print(X_gbsel.shape[1])"
   ]
  },
  {
   "cell_type": "code",
   "execution_count": 102,
   "metadata": {},
   "outputs": [],
   "source": [
    "X_gbsel = pd.DataFrame(X_gbsel)"
   ]
  },
  {
   "cell_type": "code",
   "execution_count": 103,
   "metadata": {},
   "outputs": [],
   "source": [
    "# give the gb features the appropriate name\n",
    "new_cols = []\n",
    "for c in X_gbsel.columns:\n",
    "    for i in X.columns:\n",
    "        if list(X_gbsel[c]) == list(X[i]):\n",
    "            new_cols.append(i)\n",
    "            \n",
    "X_gbsel.columns = new_cols"
   ]
  },
  {
   "cell_type": "markdown",
   "metadata": {},
   "source": [
    "After the selection is done, I am left with 2 features sets. The Random Forest feature set has 12 features while the Gradient Boosted one has 14."
   ]
  },
  {
   "cell_type": "markdown",
   "metadata": {},
   "source": [
    "# Testing Feature Sets through Modeling \n",
    "\n",
    "Since my end goal is to use use descriptive modeling with linear mixed effects, I do not need my end feature set to be able to produce a completely accurate model. Still, if my features cannot model the the data consisently or shows signs of being too overfit, it is probably too unhealthy to use. \n",
    "\n",
    "The will test both of my feature sets with Random Forest, Gradient Boosted, and OLS Linear Regression models. But first, I will split my data into training and testing set."
   ]
  },
  {
   "cell_type": "code",
   "execution_count": 104,
   "metadata": {},
   "outputs": [],
   "source": [
    "from sklearn.model_selection import train_test_split\n",
    "\n",
    "from sklearn.model_selection import cross_val_score"
   ]
  },
  {
   "cell_type": "code",
   "execution_count": 105,
   "metadata": {},
   "outputs": [],
   "source": [
    "modeling_split = train_test_split(X_rfsel, X_gbsel, outcome, test_size=0.4, random_state=12345)\n",
    "\n",
    "Xtrain_rfsel, Xtest_rfsel, Xtrain_gbsel, Xtest_gbsel, Ytrainsqrt, Ytestsqrt, = modeling_split"
   ]
  },
  {
   "cell_type": "code",
   "execution_count": 106,
   "metadata": {},
   "outputs": [],
   "source": [
    "X_rfsel = features[Xtrain_rfsel.columns]\n",
    "X_gbsel = features[Xtrain_gbsel.columns]\n",
    "Ysqrt = work_mult['REALINCSQRT'][features.index]"
   ]
  },
  {
   "cell_type": "code",
   "execution_count": 107,
   "metadata": {},
   "outputs": [],
   "source": [
    "results = pd.DataFrame(index=['Training Score','Testing Score','CV Score'])"
   ]
  },
  {
   "cell_type": "markdown",
   "metadata": {},
   "source": [
    "## Random Forest\n",
    "\n",
    "Testing my data using a random forst model"
   ]
  },
  {
   "cell_type": "code",
   "execution_count": 108,
   "metadata": {},
   "outputs": [],
   "source": [
    "rf_rf = RandomForestRegressor(n_estimators=250, n_jobs=4, random_state=42)"
   ]
  },
  {
   "cell_type": "code",
   "execution_count": 109,
   "metadata": {},
   "outputs": [
    {
     "name": "stdout",
     "output_type": "stream",
     "text": [
      "RF Features Traing Score:  0.8490003679909823\n",
      "\n",
      "RF Features Testing Score:  0.41629961129629456\n",
      "\n",
      "RF Features Cross Validation Results:: \n"
     ]
    },
    {
     "data": {
      "text/plain": [
       "array([0.44187517, 0.44722815, 0.3848657 , 0.32583741, 0.36094434])"
      ]
     },
     "execution_count": 109,
     "metadata": {},
     "output_type": "execute_result"
    }
   ],
   "source": [
    "rf_rf.fit(Xtrain_rfsel, Ytrainsqrt)\n",
    "train = rf_rf.score(Xtrain_rfsel, Ytrainsqrt)\n",
    "print('RF Features Traing Score: ',train)\n",
    "test = rf_rf.score(Xtest_rfsel, Ytestsqrt)\n",
    "print('\\nRF Features Testing Score: ',test)\n",
    "cvall = cross_val_score(rf_rf, X_rfsel, Ysqrt, cv=5)\n",
    "print('\\nRF Features Cross Validation Results:: ')\n",
    "cvall"
   ]
  },
  {
   "cell_type": "code",
   "execution_count": 110,
   "metadata": {},
   "outputs": [],
   "source": [
    "results['RF: RF Feats'] = [round(train,3),round(test,3),round(cvall.mean(),3)]"
   ]
  },
  {
   "cell_type": "code",
   "execution_count": 111,
   "metadata": {},
   "outputs": [],
   "source": [
    "rf_gb = RandomForestRegressor(n_estimators=250, n_jobs=4, random_state=42)"
   ]
  },
  {
   "cell_type": "code",
   "execution_count": 112,
   "metadata": {},
   "outputs": [
    {
     "name": "stdout",
     "output_type": "stream",
     "text": [
      "GB Features Traing Score:  0.8936129985970521\n",
      "\n",
      "GB Features Traing Score:  0.42540221770149633\n",
      "\n",
      "GF Features Cross Validation Results:: \n"
     ]
    },
    {
     "data": {
      "text/plain": [
       "array([0.4593328 , 0.44720082, 0.39801344, 0.34718853, 0.40308496])"
      ]
     },
     "execution_count": 112,
     "metadata": {},
     "output_type": "execute_result"
    }
   ],
   "source": [
    "rf_gb.fit(Xtrain_gbsel, Ytrainsqrt)\n",
    "train = rf_gb.score(Xtrain_gbsel, Ytrainsqrt)\n",
    "print('GB Features Traing Score: ',train)\n",
    "test  = rf_gb.score(Xtest_gbsel, Ytestsqrt)\n",
    "print('\\nGB Features Traing Score: ',test)\n",
    "cvall = cross_val_score(rf_gb, X_gbsel, Ysqrt, cv=5)\n",
    "print('\\nGF Features Cross Validation Results:: ')\n",
    "cvall"
   ]
  },
  {
   "cell_type": "code",
   "execution_count": 113,
   "metadata": {},
   "outputs": [],
   "source": [
    "results['RF: GB Feats'] = [round(train,3),round(test,3),round(cvall.mean(),3)]"
   ]
  },
  {
   "cell_type": "markdown",
   "metadata": {},
   "source": [
    "The Random Forest model seems to be a little unstable, but nothing that isn't unusal for a random forest. The Random Forest feature set appears to perform marginally better, but not by too much."
   ]
  },
  {
   "cell_type": "markdown",
   "metadata": {},
   "source": [
    "## Gradient Boosted Decision Trees\n",
    "\n",
    "Now I will test both the Random Forest and Gradient Boosted feature sets using a Gradient Boosted regressor model. "
   ]
  },
  {
   "cell_type": "code",
   "execution_count": 114,
   "metadata": {},
   "outputs": [],
   "source": [
    "from sklearn.ensemble import GradientBoostingRegressor"
   ]
  },
  {
   "cell_type": "code",
   "execution_count": 115,
   "metadata": {},
   "outputs": [],
   "source": [
    "gb_rfsel = GradientBoostingRegressor(n_estimators=250, learning_rate=.2, random_state=42)"
   ]
  },
  {
   "cell_type": "code",
   "execution_count": 116,
   "metadata": {
    "scrolled": true
   },
   "outputs": [
    {
     "name": "stdout",
     "output_type": "stream",
     "text": [
      "RF Features Traing Score:  0.5735577568856469\n",
      "\n",
      "RF Features Testing Score:  0.48029355975030213\n",
      "\n",
      "RF Features Cross Validation Results:: \n"
     ]
    },
    {
     "data": {
      "text/plain": [
       "array([0.49820131, 0.51647744, 0.43850501, 0.41561878, 0.46733858])"
      ]
     },
     "execution_count": 116,
     "metadata": {},
     "output_type": "execute_result"
    }
   ],
   "source": [
    "gb_rfsel.fit(Xtrain_rfsel, Ytrainsqrt)\n",
    "train = gb_rfsel.score(Xtrain_rfsel, Ytrainsqrt)\n",
    "print('RF Features Traing Score: ',train)\n",
    "test = gb_rfsel.score(Xtest_rfsel, Ytestsqrt)\n",
    "print('\\nRF Features Testing Score: ',test)\n",
    "cvall = cross_val_score(gb_rfsel, X_rfsel, Ysqrt, cv=5)\n",
    "print('\\nRF Features Cross Validation Results:: ')\n",
    "cvall"
   ]
  },
  {
   "cell_type": "code",
   "execution_count": 117,
   "metadata": {},
   "outputs": [],
   "source": [
    "results['GB: RF Feats'] = [round(train,3),round(test,3),round(cvall.mean(),3)]"
   ]
  },
  {
   "cell_type": "code",
   "execution_count": 118,
   "metadata": {},
   "outputs": [],
   "source": [
    "gb_gbsel = GradientBoostingRegressor(n_estimators=250, learning_rate=.2, random_state=42)"
   ]
  },
  {
   "cell_type": "code",
   "execution_count": 119,
   "metadata": {
    "scrolled": true
   },
   "outputs": [
    {
     "name": "stdout",
     "output_type": "stream",
     "text": [
      "GB Features Traing Score:  0.5918720077836954\n",
      "\n",
      "GB Features Traing Score:  0.47098016152855293\n",
      "\n",
      "GF Features Cross Validation Results:: \n"
     ]
    },
    {
     "data": {
      "text/plain": [
       "array([0.4968199 , 0.51522444, 0.44976156, 0.42082465, 0.46460376])"
      ]
     },
     "execution_count": 119,
     "metadata": {},
     "output_type": "execute_result"
    }
   ],
   "source": [
    "gb_gbsel.fit(Xtrain_gbsel, Ytrainsqrt)\n",
    "train = gb_gbsel.score(Xtrain_gbsel, Ytrainsqrt)\n",
    "print('GB Features Traing Score: ',train)\n",
    "test  = gb_gbsel.score(Xtest_gbsel, Ytestsqrt)\n",
    "print('\\nGB Features Traing Score: ',test)\n",
    "cvall = cross_val_score(gb_gbsel, X_gbsel, Ysqrt, cv=5)\n",
    "print('\\nGF Features Cross Validation Results:: ')\n",
    "cvall"
   ]
  },
  {
   "cell_type": "code",
   "execution_count": 120,
   "metadata": {},
   "outputs": [],
   "source": [
    "results['GB: GB Feats'] = [round(train,3),round(test,3),round(cvall.mean(),3)]"
   ]
  },
  {
   "cell_type": "markdown",
   "metadata": {},
   "source": [
    "The Gradient Boosted regressor is much more stable than the Random Forest model.  This makes me much more confident that the previous instability shown in the Random Forest model was simply due to normal random forest behavior."
   ]
  },
  {
   "cell_type": "markdown",
   "metadata": {},
   "source": [
    "## Linear Regression\n",
    "\n",
    "Now I will look and see how both of my feature sets perform when used in a linear regression model. Stability in this model is key since my final descriptive model will be a linear-based one."
   ]
  },
  {
   "cell_type": "code",
   "execution_count": 121,
   "metadata": {},
   "outputs": [],
   "source": [
    "from sklearn.linear_model import LinearRegression"
   ]
  },
  {
   "cell_type": "code",
   "execution_count": 122,
   "metadata": {},
   "outputs": [],
   "source": [
    "reg_rfsel = LinearRegression().fit(Xtrain_rfsel, Ytrainsqrt)"
   ]
  },
  {
   "cell_type": "code",
   "execution_count": 123,
   "metadata": {},
   "outputs": [
    {
     "name": "stdout",
     "output_type": "stream",
     "text": [
      "RF Features Traing Score:  0.4555934406424047\n",
      "\n",
      "RF Features Testing Score:  0.4636149276306153\n",
      "\n",
      "RF Features Cross Validation Results:: \n"
     ]
    },
    {
     "data": {
      "text/plain": [
       "array([0.46902003, 0.48952896, 0.4026157 , 0.42206796, 0.46766586])"
      ]
     },
     "execution_count": 123,
     "metadata": {},
     "output_type": "execute_result"
    }
   ],
   "source": [
    "train = reg_rfsel.score(Xtrain_rfsel, Ytrainsqrt)\n",
    "print('RF Features Traing Score: ',train)\n",
    "test = reg_rfsel.score(Xtest_rfsel, Ytestsqrt)\n",
    "print('\\nRF Features Testing Score: ',test)\n",
    "cvall = cross_val_score(reg_rfsel, X_rfsel, Ysqrt, cv=5)\n",
    "print('\\nRF Features Cross Validation Results:: ')\n",
    "cvall"
   ]
  },
  {
   "cell_type": "code",
   "execution_count": 124,
   "metadata": {},
   "outputs": [],
   "source": [
    "results['LR: RF Feats'] = [round(train,3),round(test,3),round(cvall.mean(),3)]"
   ]
  },
  {
   "cell_type": "code",
   "execution_count": 125,
   "metadata": {},
   "outputs": [],
   "source": [
    "reg_gbsel = LinearRegression().fit(Xtrain_gbsel, Ytrainsqrt)"
   ]
  },
  {
   "cell_type": "code",
   "execution_count": 126,
   "metadata": {},
   "outputs": [
    {
     "name": "stdout",
     "output_type": "stream",
     "text": [
      "GB Features Traing Score:  0.4596553996464863\n",
      "\n",
      "GB Features Traing Score:  0.4640038808208744\n",
      "\n",
      "GF Features Cross Validation Results:: \n"
     ]
    },
    {
     "data": {
      "text/plain": [
       "array([0.47545777, 0.48834912, 0.40779742, 0.42329912, 0.46895398])"
      ]
     },
     "execution_count": 126,
     "metadata": {},
     "output_type": "execute_result"
    }
   ],
   "source": [
    "train = reg_gbsel.score(Xtrain_gbsel, Ytrainsqrt)\n",
    "print('GB Features Traing Score: ',train)\n",
    "test  = reg_gbsel.score(Xtest_gbsel, Ytestsqrt)\n",
    "print('\\nGB Features Traing Score: ',test)\n",
    "cvall = cross_val_score(reg_gbsel, X_gbsel, Ysqrt, cv=5)\n",
    "print('\\nGF Features Cross Validation Results:: ')\n",
    "cvall"
   ]
  },
  {
   "cell_type": "code",
   "execution_count": 127,
   "metadata": {},
   "outputs": [],
   "source": [
    "results['LR: GB Feats'] = [round(train,3),round(test,3),round(cvall.mean(),3)]"
   ]
  },
  {
   "cell_type": "markdown",
   "metadata": {},
   "source": [
    "Both of the feature sets seem stable enough in the linear model to be used."
   ]
  },
  {
   "cell_type": "markdown",
   "metadata": {},
   "source": [
    "## Modeling Results\n",
    "\n",
    "A general overview of the modeling performed on both feature sets. The column indicates which model and feature set is being used, while the row indicates the type of value."
   ]
  },
  {
   "cell_type": "code",
   "execution_count": 128,
   "metadata": {
    "scrolled": true
   },
   "outputs": [
    {
     "data": {
      "text/html": [
       "<div>\n",
       "<style scoped>\n",
       "    .dataframe tbody tr th:only-of-type {\n",
       "        vertical-align: middle;\n",
       "    }\n",
       "\n",
       "    .dataframe tbody tr th {\n",
       "        vertical-align: top;\n",
       "    }\n",
       "\n",
       "    .dataframe thead th {\n",
       "        text-align: right;\n",
       "    }\n",
       "</style>\n",
       "<table border=\"1\" class=\"dataframe\">\n",
       "  <thead>\n",
       "    <tr style=\"text-align: right;\">\n",
       "      <th></th>\n",
       "      <th>RF: RF Feats</th>\n",
       "      <th>RF: GB Feats</th>\n",
       "      <th>GB: RF Feats</th>\n",
       "      <th>GB: GB Feats</th>\n",
       "      <th>LR: RF Feats</th>\n",
       "      <th>LR: GB Feats</th>\n",
       "    </tr>\n",
       "  </thead>\n",
       "  <tbody>\n",
       "    <tr>\n",
       "      <th>Training Score</th>\n",
       "      <td>0.849</td>\n",
       "      <td>0.894</td>\n",
       "      <td>0.574</td>\n",
       "      <td>0.592</td>\n",
       "      <td>0.456</td>\n",
       "      <td>0.460</td>\n",
       "    </tr>\n",
       "    <tr>\n",
       "      <th>Testing Score</th>\n",
       "      <td>0.416</td>\n",
       "      <td>0.425</td>\n",
       "      <td>0.480</td>\n",
       "      <td>0.471</td>\n",
       "      <td>0.464</td>\n",
       "      <td>0.464</td>\n",
       "    </tr>\n",
       "    <tr>\n",
       "      <th>CV Score</th>\n",
       "      <td>0.392</td>\n",
       "      <td>0.411</td>\n",
       "      <td>0.467</td>\n",
       "      <td>0.469</td>\n",
       "      <td>0.450</td>\n",
       "      <td>0.453</td>\n",
       "    </tr>\n",
       "  </tbody>\n",
       "</table>\n",
       "</div>"
      ],
      "text/plain": [
       "                RF: RF Feats  RF: GB Feats  GB: RF Feats  GB: GB Feats  \\\n",
       "Training Score         0.849         0.894         0.574         0.592   \n",
       "Testing Score          0.416         0.425         0.480         0.471   \n",
       "CV Score               0.392         0.411         0.467         0.469   \n",
       "\n",
       "                LR: RF Feats  LR: GB Feats  \n",
       "Training Score         0.456         0.460  \n",
       "Testing Score          0.464         0.464  \n",
       "CV Score               0.450         0.453  "
      ]
     },
     "metadata": {},
     "output_type": "display_data"
    }
   ],
   "source": [
    "display(results)"
   ]
  },
  {
   "cell_type": "markdown",
   "metadata": {},
   "source": [
    "All of my models indicate or at least don't rule out either feature set as being an effect indicator of income.\n",
    "\n",
    "The Random Forest features appear to work slightly better in every model, but not enough to be very significant."
   ]
  },
  {
   "cell_type": "markdown",
   "metadata": {},
   "source": [
    "# Finalizing Features through Descriptive OLS\n",
    "\n",
    "Now that I know that both of my feature sets can be used for descriptive modeling, I need to determine which features I will actually use. I intend to use a Linear Mixed Effect model to decribe the relationship between each of my features. These types of model are incredibly powerful but also incredibly complicated, and becomed overburdened extremely easy with very few features.\n",
    "\n",
    "My goal is to reduce the number of feature sets from 2 to 1, and the number of features to just 4. "
   ]
  },
  {
   "cell_type": "code",
   "execution_count": 129,
   "metadata": {},
   "outputs": [],
   "source": [
    "import statsmodels.api as sm"
   ]
  },
  {
   "cell_type": "markdown",
   "metadata": {},
   "source": [
    "## Combining Feature Set\n",
    "\n",
    "I need to combine the Random Forest determined features and the Gradient Boosted determiend features into one date set to observed the features in one model.  I can already begin to discard features by only looking at those features which are shared between both featue sets."
   ]
  },
  {
   "cell_type": "code",
   "execution_count": 130,
   "metadata": {},
   "outputs": [],
   "source": [
    "shared_features = list(set(Xtrain_gbsel.columns).intersection(Xtrain_rfsel.columns))"
   ]
  },
  {
   "cell_type": "code",
   "execution_count": 131,
   "metadata": {},
   "outputs": [],
   "source": [
    "Xshar = shared_features\n",
    "Xtrain_ft = Xtrain_gbsel[shared_features]\n",
    "Xtest_ft = Xtest_gbsel[shared_features]\n",
    "X_ft = features[shared_features]"
   ]
  },
  {
   "cell_type": "markdown",
   "metadata": {},
   "source": [
    "## Determining by P-value\n",
    "\n",
    "Now that I have all my feature is one set.  I will run a descriptive OLS model on the shared feature set, and detemrine which features to keep based on their p-values in the linear model. This is the best final test for the importance of my features, as the final model I use will be a linear model, so I want the features which I know will perform best in a linear model."
   ]
  },
  {
   "cell_type": "code",
   "execution_count": 132,
   "metadata": {
    "scrolled": false
   },
   "outputs": [
    {
     "name": "stdout",
     "output_type": "stream",
     "text": [
      "                            OLS Regression Results                            \n",
      "==============================================================================\n",
      "Dep. Variable:            REALINCSQRT   R-squared:                       0.451\n",
      "Model:                            OLS   Adj. R-squared:                  0.451\n",
      "Method:                 Least Squares   F-statistic:                     815.4\n",
      "Date:                Wed, 24 Oct 2018   Prob (F-statistic):               0.00\n",
      "Time:                        11:22:06   Log-Likelihood:                -45536.\n",
      "No. Observations:                8929   AIC:                         9.109e+04\n",
      "Df Residuals:                    8919   BIC:                         9.116e+04\n",
      "Df Model:                           9                                         \n",
      "Covariance Type:            nonrobust                                         \n",
      "================================================================================\n",
      "                   coef    std err          t      P>|t|      [0.025      0.975]\n",
      "--------------------------------------------------------------------------------\n",
      "const           52.9442      2.892     18.308      0.000      47.276      58.613\n",
      "MARITAL_5.0    -12.8259      0.858    -14.953      0.000     -14.507     -11.145\n",
      "CLASS_3.0       16.8534      0.942     17.887      0.000      15.006      18.700\n",
      "PARTFULL_1.0   -43.5888      2.750    -15.852      0.000     -48.979     -38.199\n",
      "OCCG_1          16.0803      1.018     15.802      0.000      14.086      18.075\n",
      "PARTFULL_2.0   -81.1377      2.707    -29.977      0.000     -86.443     -75.832\n",
      "EDUC             3.3803      0.180     18.731      0.000       3.027       3.734\n",
      "HRS1             0.5015      0.025     20.341      0.000       0.453       0.550\n",
      "PAEDUC           0.1081      0.072      1.497      0.134      -0.033       0.250\n",
      "WEEKSWRK         1.1138      0.044     25.033      0.000       1.027       1.201\n",
      "==============================================================================\n",
      "Omnibus:                      100.006   Durbin-Watson:                   1.884\n",
      "Prob(Omnibus):                  0.000   Jarque-Bera (JB):              154.456\n",
      "Skew:                           0.105   Prob(JB):                     2.89e-34\n",
      "Kurtosis:                       3.609   Cond. No.                         603.\n",
      "==============================================================================\n",
      "\n",
      "Warnings:\n",
      "[1] Standard Errors assume that the covariance matrix of the errors is correctly specified.\n"
     ]
    }
   ],
   "source": [
    "ols_ft = sm.OLS(Ysqrt, sm.add_constant(X_ft))\n",
    "ols_ft2 = ols_ft.fit()\n",
    "print(ols_ft2.summary())"
   ]
  },
  {
   "cell_type": "code",
   "execution_count": 133,
   "metadata": {},
   "outputs": [
    {
     "data": {
      "text/plain": [
       "const            1.561662e-73\n",
       "MARITAL_5.0      5.955642e-50\n",
       "CLASS_3.0        2.504629e-70\n",
       "PARTFULL_1.0     7.898134e-56\n",
       "OCCG_1           1.702961e-55\n",
       "PARTFULL_2.0    3.350845e-188\n",
       "EDUC             8.165279e-77\n",
       "HRS1             6.041231e-90\n",
       "PAEDUC           1.344500e-01\n",
       "WEEKSWRK        1.026495e-133\n",
       "dtype: float64"
      ]
     },
     "execution_count": 133,
     "metadata": {},
     "output_type": "execute_result"
    }
   ],
   "source": [
    "ols_ft2.pvalues"
   ]
  },
  {
   "cell_type": "markdown",
   "metadata": {},
   "source": [
    "The features with the top 4 p-values are __HRS1__, hours worked in a week, __PARTFULL_2.0__, being a part-time worker, __EDUC__, respondent's education level, and finally __WEEKSWRK__, the weeks worked in a year."
   ]
  },
  {
   "cell_type": "markdown",
   "metadata": {},
   "source": [
    "# Final Feature Set\n",
    "\n",
    "I have now determined my final feature set. The hours the respondent works in one week, if the respondent is a part-time worker, the respondent's education level, and the weeks the respondent works in one year."
   ]
  },
  {
   "cell_type": "code",
   "execution_count": 134,
   "metadata": {},
   "outputs": [],
   "source": [
    "Xtrain_ft = Xtrain_ft[['HRS1','PARTFULL_2.0','EDUC','WEEKSWRK']]\n",
    "Xtest_ft = Xtest_ft[['HRS1','PARTFULL_2.0','EDUC','WEEKSWRK']]\n",
    "X_ft = X_ft[['HRS1','PARTFULL_2.0','EDUC','WEEKSWRK']]"
   ]
  },
  {
   "cell_type": "code",
   "execution_count": 135,
   "metadata": {},
   "outputs": [
    {
     "name": "stdout",
     "output_type": "stream",
     "text": [
      "                            OLS Regression Results                            \n",
      "==============================================================================\n",
      "Dep. Variable:            REALINCSQRT   R-squared:                       0.905\n",
      "Model:                            OLS   Adj. R-squared:                  0.905\n",
      "Method:                 Least Squares   F-statistic:                 2.115e+04\n",
      "Date:                Wed, 24 Oct 2018   Prob (F-statistic):               0.00\n",
      "Time:                        11:22:06   Log-Likelihood:                -46097.\n",
      "No. Observations:                8929   AIC:                         9.220e+04\n",
      "Df Residuals:                    8925   BIC:                         9.223e+04\n",
      "Df Model:                           4                                         \n",
      "Covariance Type:            nonrobust                                         \n",
      "================================================================================\n",
      "                   coef    std err          t      P>|t|      [0.025      0.975]\n",
      "--------------------------------------------------------------------------------\n",
      "HRS1             0.5976      0.026     23.427      0.000       0.548       0.648\n",
      "PARTFULL_2.0   -42.4622      1.214    -34.984      0.000     -44.841     -40.083\n",
      "EDUC             5.8646      0.095     61.639      0.000       5.678       6.051\n",
      "WEEKSWRK         0.7016      0.029     24.587      0.000       0.646       0.758\n",
      "==============================================================================\n",
      "Omnibus:                      126.737   Durbin-Watson:                   1.843\n",
      "Prob(Omnibus):                  0.000   Jarque-Bera (JB):              159.789\n",
      "Skew:                           0.212   Prob(JB):                     2.01e-35\n",
      "Kurtosis:                       3.499   Cond. No.                         166.\n",
      "==============================================================================\n",
      "\n",
      "Warnings:\n",
      "[1] Standard Errors assume that the covariance matrix of the errors is correctly specified.\n"
     ]
    }
   ],
   "source": [
    "ols_rfsel = sm.OLS(Ysqrt, X_ft)\n",
    "ols_rfsel2 = ols_rfsel.fit()\n",
    "print(ols_rfsel2.summary())"
   ]
  },
  {
   "cell_type": "markdown",
   "metadata": {},
   "source": [
    "This feature set looks great! I will export it so it can used in the next and final part."
   ]
  },
  {
   "cell_type": "code",
   "execution_count": 136,
   "metadata": {},
   "outputs": [],
   "source": [
    "work_ft = X_ft\n",
    "work_ft['Target'] = Ysqrt\n",
    "work_ft.to_csv('C:\\\\Code\\\\SSP\\\\workft.csv')"
   ]
  },
  {
   "cell_type": "code",
   "execution_count": 137,
   "metadata": {},
   "outputs": [],
   "source": [
    "work_all = work_mult.iloc[X_ft.index,:]\n",
    "work_all.to_csv('C:\\\\Code\\\\SSP\\\\workall.csv')"
   ]
  }
 ],
 "metadata": {
  "kernelspec": {
   "display_name": "Python 3",
   "language": "python",
   "name": "python3"
  },
  "language_info": {
   "codemirror_mode": {
    "name": "ipython",
    "version": 3
   },
   "file_extension": ".py",
   "mimetype": "text/x-python",
   "name": "python",
   "nbconvert_exporter": "python",
   "pygments_lexer": "ipython3",
   "version": "3.6.4"
  }
 },
 "nbformat": 4,
 "nbformat_minor": 2
}
